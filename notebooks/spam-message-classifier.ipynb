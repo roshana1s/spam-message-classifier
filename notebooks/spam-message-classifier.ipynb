{
 "cells": [
  {
   "cell_type": "markdown",
   "id": "52c362d4",
   "metadata": {
    "papermill": {
     "duration": 0.007546,
     "end_time": "2025-07-27T09:36:33.683414",
     "exception": false,
     "start_time": "2025-07-27T09:36:33.675868",
     "status": "completed"
    },
    "tags": []
   },
   "source": [
    "# Spam Message Classifier using RoBERTa\n",
    "\n",
    "## Introduction\n",
    "\n",
    "Spam messages are a widespread issue across digital communication platforms, disrupting user experience and trust. This project focuses on building a **spam message classifier** using **RoBERTa**, a state-of-the-art transformer model for natural language understanding.\n",
    "\n",
    "We use the **SMS Spam Collection Dataset** to fine-tune RoBERTa for binary spam classification. This provides a strong and generalized spam detection model suitable for various text-based environments.\n",
    "\n",
    "---\n",
    "\n",
    "## Objectives\n",
    "\n",
    "- Preprocess and clean SMS messages\n",
    "- Fine-tune a pre-trained RoBERTa model\n",
    "- Evaluate model performance using precision, recall, and F1-score\n",
    "- Save and prepare the trained model for future integration\n",
    "\n",
    "---\n",
    "\n",
    "## Dataset: SMS Spam Collection\n",
    "\n",
    "We utilize the [SMS Spam Collection Dataset](https://www.kaggle.com/datasets/uciml/sms-spam-collection-dataset) published by UCI, which includes:\n",
    "\n",
    "- `v1`: Label (`ham` or `spam`)\n",
    "- `v2`: SMS message text\n",
    "\n",
    "### Preprocessing Steps\n",
    "\n",
    "- Rename columns for clarity\n",
    "- Convert labels to binary:\n",
    "  - `ham` → `0` (not spam)\n",
    "  - `spam` → `1` (spam)\n",
    "- Tokenize and encode messages for transformer input\n",
    "\n",
    "---\n",
    "\n",
    "## Model: RoBERTa\n",
    "\n",
    "We fine-tune a pre-trained `roberta-base` model using Hugging Face Transformers. The model is trained on the processed SMS dataset with a binary classification head.\n",
    "\n",
    "---\n",
    "\n",
    "## Evaluation Metrics\n",
    "\n",
    "We evaluate the model using standard classification metrics:\n",
    "\n",
    "- **Precision**\n",
    "- **Recall**\n",
    "- **F1-score**\n",
    "- **Accuracy**\n",
    "\n",
    "### Acceptance Criteria\n",
    "\n",
    "To ensure the model's reliability in real-world deployment, we define the following criterion:\n",
    "\n",
    "> **The model will be considered acceptable if the F1-score for the `spam` class exceeds 0.95 on the test dataset.**\n",
    "\n",
    "This threshold ensures the classifier effectively balances **precision** and **recall** for detecting spam, minimizing both false positives and false negatives.\n",
    "\n",
    "---\n",
    "\n",
    "## Output\n",
    "\n",
    "The trained model, tokenizer, and preprocessing pipeline are saved in Hugging Face format, ready for inference or deployment.\n",
    "\n",
    "You can find the trained model here:  \n",
    "👉 **[roshana1s/spam-message-classifier on Hugging Face](https://huggingface.co/roshana1s/spam-message-classifier)**\n",
    "\n",
    "---\n",
    "\n",
    "## Integration with Amy (Discord Bot)\n",
    "\n",
    "This spam classifier will be integrated into **Amy** — an intelligent Discord bot capable of:\n",
    "\n",
    "- Detecting spam messages in real-time using this RoBERTa-based model\n",
    "- Identifying toxic or harmful messages (via a **separate toxicity detection model**)\n",
    "\n",
    "This project serves as the core backend for Amy’s moderation capabilities in Discord servers.\n",
    "\n",
    "---"
   ]
  },
  {
   "cell_type": "markdown",
   "id": "795fc4ef",
   "metadata": {
    "papermill": {
     "duration": 0.023219,
     "end_time": "2025-07-27T09:38:00.295741",
     "exception": false,
     "start_time": "2025-07-27T09:38:00.272522",
     "status": "completed"
    },
    "tags": []
   },
   "source": [
    "## Preparing the tools"
   ]
  },
  {
   "cell_type": "code",
   "execution_count": 2,
   "id": "b2441fd3",
   "metadata": {
    "execution": {
     "iopub.execute_input": "2025-07-27T09:38:00.343162Z",
     "iopub.status.busy": "2025-07-27T09:38:00.342291Z",
     "iopub.status.idle": "2025-07-27T09:38:45.146281Z",
     "shell.execute_reply": "2025-07-27T09:38:45.145665Z"
    },
    "papermill": {
     "duration": 44.828804,
     "end_time": "2025-07-27T09:38:45.147710",
     "exception": false,
     "start_time": "2025-07-27T09:38:00.318906",
     "status": "completed"
    },
    "tags": []
   },
   "outputs": [
    {
     "name": "stderr",
     "output_type": "stream",
     "text": [
      "2025-07-27 09:38:25.661293: E external/local_xla/xla/stream_executor/cuda/cuda_fft.cc:477] Unable to register cuFFT factory: Attempting to register factory for plugin cuFFT when one has already been registered\n",
      "WARNING: All log messages before absl::InitializeLog() is called are written to STDERR\n",
      "E0000 00:00:1753609106.021389      19 cuda_dnn.cc:8310] Unable to register cuDNN factory: Attempting to register factory for plugin cuDNN when one has already been registered\n",
      "E0000 00:00:1753609106.126316      19 cuda_blas.cc:1418] Unable to register cuBLAS factory: Attempting to register factory for plugin cuBLAS when one has already been registered\n"
     ]
    }
   ],
   "source": [
    "# General libraries\n",
    "import pandas as pd\n",
    "import numpy as np\n",
    "import random\n",
    "\n",
    "# visualization\n",
    "import matplotlib.pyplot as plt\n",
    "import seaborn as sns\n",
    "\n",
    "# Sklearn - preprocessing and evaluation\n",
    "from sklearn.model_selection import train_test_split\n",
    "from sklearn.metrics import classification_report, confusion_matrix, accuracy_score, f1_score, precision_score, recall_score\n",
    "from sklearn.utils.class_weight import compute_class_weight\n",
    "\n",
    "# Hugging Face Transformers\n",
    "from transformers import RobertaTokenizer, RobertaForSequenceClassification\n",
    "from transformers import Trainer, TrainingArguments\n",
    "from transformers import DataCollatorWithPadding\n",
    "\n",
    "# Dataset\n",
    "from datasets import Dataset\n",
    "\n",
    "# PyTorch (used under the hood by transformers)\n",
    "import torch\n",
    "from torch import nn\n",
    "\n",
    "# Optuna for hyperparameter tuning\n",
    "import optuna\n",
    "\n",
    "import sys\n",
    "import os\n",
    "\n",
    "# Add the root directory to sys.path\n",
    "sys.path.append(os.path.abspath('..'))"
   ]
  },
  {
   "cell_type": "code",
   "execution_count": 3,
   "id": "3d12b018",
   "metadata": {
    "execution": {
     "iopub.execute_input": "2025-07-27T09:38:45.194150Z",
     "iopub.status.busy": "2025-07-27T09:38:45.193439Z",
     "iopub.status.idle": "2025-07-27T09:38:45.198372Z",
     "shell.execute_reply": "2025-07-27T09:38:45.197633Z"
    },
    "papermill": {
     "duration": 0.028646,
     "end_time": "2025-07-27T09:38:45.199555",
     "exception": false,
     "start_time": "2025-07-27T09:38:45.170909",
     "status": "completed"
    },
    "tags": []
   },
   "outputs": [],
   "source": [
    "import re\n",
    "\n",
    "def preprocess_text(text: str) -> str:\n",
    "    text = re.sub(r\"(https?:\\/\\/)?(www\\.)?(discord\\.(gg|io|me|li)|discordapp\\.com\\/invite)\\/\\S+\", \"<DISCORD_INVITE>\", text)  # Discord invites first\n",
    "    text = re.sub(r\"(https?://\\S+|www\\.\\S+)\", \"<URL>\", text)  # URLs\n",
    "    text = re.sub(r\"<@!?\\d+>\", \"<USER>\", text)                # Mentions\n",
    "    text = re.sub(r\"<a?:\\w+:\\d+>\", \"<EMOJI>\", text)           # Emojis\n",
    "    text = re.sub(r'\\s+', ' ', text)\n",
    "    return text.strip()"
   ]
  },
  {
   "cell_type": "markdown",
   "id": "294362a8",
   "metadata": {
    "papermill": {
     "duration": 0.02216,
     "end_time": "2025-07-27T09:38:45.244177",
     "exception": false,
     "start_time": "2025-07-27T09:38:45.222017",
     "status": "completed"
    },
    "tags": []
   },
   "source": [
    "## Load Data"
   ]
  },
  {
   "cell_type": "code",
   "execution_count": 4,
   "id": "75c4f488",
   "metadata": {
    "execution": {
     "iopub.execute_input": "2025-07-27T09:38:45.334760Z",
     "iopub.status.busy": "2025-07-27T09:38:45.334333Z",
     "iopub.status.idle": "2025-07-27T09:38:45.396486Z",
     "shell.execute_reply": "2025-07-27T09:38:45.395722Z"
    },
    "papermill": {
     "duration": 0.13164,
     "end_time": "2025-07-27T09:38:45.397691",
     "exception": false,
     "start_time": "2025-07-27T09:38:45.266051",
     "status": "completed"
    },
    "tags": []
   },
   "outputs": [
    {
     "data": {
      "text/html": [
       "<div>\n",
       "<style scoped>\n",
       "    .dataframe tbody tr th:only-of-type {\n",
       "        vertical-align: middle;\n",
       "    }\n",
       "\n",
       "    .dataframe tbody tr th {\n",
       "        vertical-align: top;\n",
       "    }\n",
       "\n",
       "    .dataframe thead th {\n",
       "        text-align: right;\n",
       "    }\n",
       "</style>\n",
       "<table border=\"1\" class=\"dataframe\">\n",
       "  <thead>\n",
       "    <tr style=\"text-align: right;\">\n",
       "      <th></th>\n",
       "      <th>v1</th>\n",
       "      <th>v2</th>\n",
       "      <th>Unnamed: 2</th>\n",
       "      <th>Unnamed: 3</th>\n",
       "      <th>Unnamed: 4</th>\n",
       "    </tr>\n",
       "  </thead>\n",
       "  <tbody>\n",
       "    <tr>\n",
       "      <th>0</th>\n",
       "      <td>ham</td>\n",
       "      <td>Go until jurong point, crazy.. Available only ...</td>\n",
       "      <td>NaN</td>\n",
       "      <td>NaN</td>\n",
       "      <td>NaN</td>\n",
       "    </tr>\n",
       "    <tr>\n",
       "      <th>1</th>\n",
       "      <td>ham</td>\n",
       "      <td>Ok lar... Joking wif u oni...</td>\n",
       "      <td>NaN</td>\n",
       "      <td>NaN</td>\n",
       "      <td>NaN</td>\n",
       "    </tr>\n",
       "    <tr>\n",
       "      <th>2</th>\n",
       "      <td>spam</td>\n",
       "      <td>Free entry in 2 a wkly comp to win FA Cup fina...</td>\n",
       "      <td>NaN</td>\n",
       "      <td>NaN</td>\n",
       "      <td>NaN</td>\n",
       "    </tr>\n",
       "    <tr>\n",
       "      <th>3</th>\n",
       "      <td>ham</td>\n",
       "      <td>U dun say so early hor... U c already then say...</td>\n",
       "      <td>NaN</td>\n",
       "      <td>NaN</td>\n",
       "      <td>NaN</td>\n",
       "    </tr>\n",
       "    <tr>\n",
       "      <th>4</th>\n",
       "      <td>ham</td>\n",
       "      <td>Nah I don't think he goes to usf, he lives aro...</td>\n",
       "      <td>NaN</td>\n",
       "      <td>NaN</td>\n",
       "      <td>NaN</td>\n",
       "    </tr>\n",
       "  </tbody>\n",
       "</table>\n",
       "</div>"
      ],
      "text/plain": [
       "     v1                                                 v2 Unnamed: 2  \\\n",
       "0   ham  Go until jurong point, crazy.. Available only ...        NaN   \n",
       "1   ham                      Ok lar... Joking wif u oni...        NaN   \n",
       "2  spam  Free entry in 2 a wkly comp to win FA Cup fina...        NaN   \n",
       "3   ham  U dun say so early hor... U c already then say...        NaN   \n",
       "4   ham  Nah I don't think he goes to usf, he lives aro...        NaN   \n",
       "\n",
       "  Unnamed: 3 Unnamed: 4  \n",
       "0        NaN        NaN  \n",
       "1        NaN        NaN  \n",
       "2        NaN        NaN  \n",
       "3        NaN        NaN  \n",
       "4        NaN        NaN  "
      ]
     },
     "execution_count": 4,
     "metadata": {},
     "output_type": "execute_result"
    }
   ],
   "source": [
    "df = pd.read_csv(\"/kaggle/input/sms-spam-collection-dataset/spam.csv\", encoding=\"latin1\")\n",
    "df.head()"
   ]
  },
  {
   "cell_type": "code",
   "execution_count": 5,
   "id": "4d96bae4",
   "metadata": {
    "execution": {
     "iopub.execute_input": "2025-07-27T09:38:45.445040Z",
     "iopub.status.busy": "2025-07-27T09:38:45.444754Z",
     "iopub.status.idle": "2025-07-27T09:38:45.464333Z",
     "shell.execute_reply": "2025-07-27T09:38:45.463723Z"
    },
    "papermill": {
     "duration": 0.043681,
     "end_time": "2025-07-27T09:38:45.465408",
     "exception": false,
     "start_time": "2025-07-27T09:38:45.421727",
     "status": "completed"
    },
    "tags": []
   },
   "outputs": [
    {
     "data": {
      "text/html": [
       "<div>\n",
       "<style scoped>\n",
       "    .dataframe tbody tr th:only-of-type {\n",
       "        vertical-align: middle;\n",
       "    }\n",
       "\n",
       "    .dataframe tbody tr th {\n",
       "        vertical-align: top;\n",
       "    }\n",
       "\n",
       "    .dataframe thead th {\n",
       "        text-align: right;\n",
       "    }\n",
       "</style>\n",
       "<table border=\"1\" class=\"dataframe\">\n",
       "  <thead>\n",
       "    <tr style=\"text-align: right;\">\n",
       "      <th></th>\n",
       "      <th>label</th>\n",
       "      <th>text</th>\n",
       "    </tr>\n",
       "  </thead>\n",
       "  <tbody>\n",
       "    <tr>\n",
       "      <th>0</th>\n",
       "      <td>ham</td>\n",
       "      <td>Go until jurong point, crazy.. Available only ...</td>\n",
       "    </tr>\n",
       "    <tr>\n",
       "      <th>1</th>\n",
       "      <td>ham</td>\n",
       "      <td>Ok lar... Joking wif u oni...</td>\n",
       "    </tr>\n",
       "    <tr>\n",
       "      <th>2</th>\n",
       "      <td>spam</td>\n",
       "      <td>Free entry in 2 a wkly comp to win FA Cup fina...</td>\n",
       "    </tr>\n",
       "    <tr>\n",
       "      <th>3</th>\n",
       "      <td>ham</td>\n",
       "      <td>U dun say so early hor... U c already then say...</td>\n",
       "    </tr>\n",
       "    <tr>\n",
       "      <th>4</th>\n",
       "      <td>ham</td>\n",
       "      <td>Nah I don't think he goes to usf, he lives aro...</td>\n",
       "    </tr>\n",
       "  </tbody>\n",
       "</table>\n",
       "</div>"
      ],
      "text/plain": [
       "  label                                               text\n",
       "0   ham  Go until jurong point, crazy.. Available only ...\n",
       "1   ham                      Ok lar... Joking wif u oni...\n",
       "2  spam  Free entry in 2 a wkly comp to win FA Cup fina...\n",
       "3   ham  U dun say so early hor... U c already then say...\n",
       "4   ham  Nah I don't think he goes to usf, he lives aro..."
      ]
     },
     "execution_count": 5,
     "metadata": {},
     "output_type": "execute_result"
    }
   ],
   "source": [
    "df = df[['v1', 'v2']]  # Keep only label and message\n",
    "df.columns = ['label', 'text']  # Rename for consistency\n",
    "df.head()"
   ]
  },
  {
   "cell_type": "code",
   "execution_count": 6,
   "id": "3028ae3a",
   "metadata": {
    "execution": {
     "iopub.execute_input": "2025-07-27T09:38:45.513117Z",
     "iopub.status.busy": "2025-07-27T09:38:45.512858Z",
     "iopub.status.idle": "2025-07-27T09:38:45.521631Z",
     "shell.execute_reply": "2025-07-27T09:38:45.520940Z"
    },
    "papermill": {
     "duration": 0.03409,
     "end_time": "2025-07-27T09:38:45.522829",
     "exception": false,
     "start_time": "2025-07-27T09:38:45.488739",
     "status": "completed"
    },
    "tags": []
   },
   "outputs": [
    {
     "data": {
      "text/html": [
       "<div>\n",
       "<style scoped>\n",
       "    .dataframe tbody tr th:only-of-type {\n",
       "        vertical-align: middle;\n",
       "    }\n",
       "\n",
       "    .dataframe tbody tr th {\n",
       "        vertical-align: top;\n",
       "    }\n",
       "\n",
       "    .dataframe thead th {\n",
       "        text-align: right;\n",
       "    }\n",
       "</style>\n",
       "<table border=\"1\" class=\"dataframe\">\n",
       "  <thead>\n",
       "    <tr style=\"text-align: right;\">\n",
       "      <th></th>\n",
       "      <th>label</th>\n",
       "      <th>text</th>\n",
       "    </tr>\n",
       "  </thead>\n",
       "  <tbody>\n",
       "    <tr>\n",
       "      <th>0</th>\n",
       "      <td>0</td>\n",
       "      <td>Go until jurong point, crazy.. Available only ...</td>\n",
       "    </tr>\n",
       "    <tr>\n",
       "      <th>1</th>\n",
       "      <td>0</td>\n",
       "      <td>Ok lar... Joking wif u oni...</td>\n",
       "    </tr>\n",
       "    <tr>\n",
       "      <th>2</th>\n",
       "      <td>1</td>\n",
       "      <td>Free entry in 2 a wkly comp to win FA Cup fina...</td>\n",
       "    </tr>\n",
       "    <tr>\n",
       "      <th>3</th>\n",
       "      <td>0</td>\n",
       "      <td>U dun say so early hor... U c already then say...</td>\n",
       "    </tr>\n",
       "    <tr>\n",
       "      <th>4</th>\n",
       "      <td>0</td>\n",
       "      <td>Nah I don't think he goes to usf, he lives aro...</td>\n",
       "    </tr>\n",
       "  </tbody>\n",
       "</table>\n",
       "</div>"
      ],
      "text/plain": [
       "   label                                               text\n",
       "0      0  Go until jurong point, crazy.. Available only ...\n",
       "1      0                      Ok lar... Joking wif u oni...\n",
       "2      1  Free entry in 2 a wkly comp to win FA Cup fina...\n",
       "3      0  U dun say so early hor... U c already then say...\n",
       "4      0  Nah I don't think he goes to usf, he lives aro..."
      ]
     },
     "execution_count": 6,
     "metadata": {},
     "output_type": "execute_result"
    }
   ],
   "source": [
    "# Convert labels to numbers\n",
    "# Convert spam/ham to 1/0\n",
    "df['label'] = df['label'].map({'ham': 0, 'spam': 1})\n",
    "df.head()"
   ]
  },
  {
   "cell_type": "code",
   "execution_count": 7,
   "id": "3ae5e686",
   "metadata": {
    "execution": {
     "iopub.execute_input": "2025-07-27T09:38:45.573618Z",
     "iopub.status.busy": "2025-07-27T09:38:45.573177Z",
     "iopub.status.idle": "2025-07-27T09:38:45.585715Z",
     "shell.execute_reply": "2025-07-27T09:38:45.585087Z"
    },
    "papermill": {
     "duration": 0.038089,
     "end_time": "2025-07-27T09:38:45.586872",
     "exception": false,
     "start_time": "2025-07-27T09:38:45.548783",
     "status": "completed"
    },
    "tags": []
   },
   "outputs": [
    {
     "data": {
      "text/plain": [
       "label\n",
       "0    4825\n",
       "1     747\n",
       "Name: count, dtype: int64"
      ]
     },
     "execution_count": 7,
     "metadata": {},
     "output_type": "execute_result"
    }
   ],
   "source": [
    "df[\"label\"].value_counts()"
   ]
  },
  {
   "cell_type": "code",
   "execution_count": 8,
   "id": "87b2ed1c",
   "metadata": {
    "execution": {
     "iopub.execute_input": "2025-07-27T09:38:45.639708Z",
     "iopub.status.busy": "2025-07-27T09:38:45.639157Z",
     "iopub.status.idle": "2025-07-27T09:38:45.655679Z",
     "shell.execute_reply": "2025-07-27T09:38:45.654879Z"
    },
    "papermill": {
     "duration": 0.0445,
     "end_time": "2025-07-27T09:38:45.656851",
     "exception": false,
     "start_time": "2025-07-27T09:38:45.612351",
     "status": "completed"
    },
    "tags": []
   },
   "outputs": [
    {
     "name": "stdout",
     "output_type": "stream",
     "text": [
      "<class 'pandas.core.frame.DataFrame'>\n",
      "RangeIndex: 5572 entries, 0 to 5571\n",
      "Data columns (total 2 columns):\n",
      " #   Column  Non-Null Count  Dtype \n",
      "---  ------  --------------  ----- \n",
      " 0   label   5572 non-null   int64 \n",
      " 1   text    5572 non-null   object\n",
      "dtypes: int64(1), object(1)\n",
      "memory usage: 87.2+ KB\n"
     ]
    }
   ],
   "source": [
    "df.info()"
   ]
  },
  {
   "cell_type": "code",
   "execution_count": 9,
   "id": "df8c16ec",
   "metadata": {
    "execution": {
     "iopub.execute_input": "2025-07-27T09:38:45.710124Z",
     "iopub.status.busy": "2025-07-27T09:38:45.709370Z",
     "iopub.status.idle": "2025-07-27T09:38:45.716332Z",
     "shell.execute_reply": "2025-07-27T09:38:45.715528Z"
    },
    "papermill": {
     "duration": 0.034807,
     "end_time": "2025-07-27T09:38:45.717500",
     "exception": false,
     "start_time": "2025-07-27T09:38:45.682693",
     "status": "completed"
    },
    "tags": []
   },
   "outputs": [
    {
     "data": {
      "text/plain": [
       "label    0\n",
       "text     0\n",
       "dtype: int64"
      ]
     },
     "execution_count": 9,
     "metadata": {},
     "output_type": "execute_result"
    }
   ],
   "source": [
    "df.isna().sum()"
   ]
  },
  {
   "cell_type": "code",
   "execution_count": 10,
   "id": "61e672ce",
   "metadata": {
    "execution": {
     "iopub.execute_input": "2025-07-27T09:38:45.766590Z",
     "iopub.status.busy": "2025-07-27T09:38:45.765890Z",
     "iopub.status.idle": "2025-07-27T09:38:46.077644Z",
     "shell.execute_reply": "2025-07-27T09:38:46.076868Z"
    },
    "papermill": {
     "duration": 0.337437,
     "end_time": "2025-07-27T09:38:46.078854",
     "exception": false,
     "start_time": "2025-07-27T09:38:45.741417",
     "status": "completed"
    },
    "tags": []
   },
   "outputs": [
    {
     "data": {
      "image/png": "[encoded data removed]",
      "text/plain": [
       "<Figure size 600x400 with 1 Axes>"
      ]
     },
     "metadata": {},
     "output_type": "display_data"
    }
   ],
   "source": [
    "df[\"label\"].value_counts().plot(kind='bar', figsize=(6,4))\n",
    "plt.title(\"Spam vs Ham Message Counts\")\n",
    "plt.xlabel(\"Message Type\")\n",
    "plt.ylabel(\"Count\")\n",
    "plt.xticks(ticks=[0,1], labels=['Ham', 'Spam'], rotation=0)\n",
    "plt.show()"
   ]
  },
  {
   "cell_type": "markdown",
   "id": "2a11b9fb",
   "metadata": {
    "papermill": {
     "duration": 0.02777,
     "end_time": "2025-07-27T09:38:46.130512",
     "exception": false,
     "start_time": "2025-07-27T09:38:46.102742",
     "status": "completed"
    },
    "tags": []
   },
   "source": [
    "We can clearly see, there is class imbalance between `spam` and `ham`."
   ]
  },
  {
   "cell_type": "code",
   "execution_count": 11,
   "id": "3ae3131f",
   "metadata": {
    "execution": {
     "iopub.execute_input": "2025-07-27T09:38:46.201929Z",
     "iopub.status.busy": "2025-07-27T09:38:46.201542Z",
     "iopub.status.idle": "2025-07-27T09:38:46.653043Z",
     "shell.execute_reply": "2025-07-27T09:38:46.652281Z"
    },
    "papermill": {
     "duration": 0.486682,
     "end_time": "2025-07-27T09:38:46.654415",
     "exception": false,
     "start_time": "2025-07-27T09:38:46.167733",
     "status": "completed"
    },
    "tags": []
   },
   "outputs": [
    {
     "name": "stderr",
     "output_type": "stream",
     "text": [
      "/usr/local/lib/python3.11/dist-packages/seaborn/_oldcore.py:1119: FutureWarning: use_inf_as_na option is deprecated and will be removed in a future version. Convert inf values to NaN before operating instead.\n",
      "  with pd.option_context('mode.use_inf_as_na', True):\n",
      "/usr/local/lib/python3.11/dist-packages/seaborn/_oldcore.py:1075: FutureWarning: When grouping with a length-1 list-like, you will need to pass a length-1 tuple to get_group in a future version of pandas. Pass `(name,)` instead of `name` to silence this warning.\n",
      "  data_subset = grouped_data.get_group(pd_key)\n",
      "/usr/local/lib/python3.11/dist-packages/seaborn/_oldcore.py:1075: FutureWarning: When grouping with a length-1 list-like, you will need to pass a length-1 tuple to get_group in a future version of pandas. Pass `(name,)` instead of `name` to silence this warning.\n",
      "  data_subset = grouped_data.get_group(pd_key)\n",
      "/usr/local/lib/python3.11/dist-packages/seaborn/_oldcore.py:1075: FutureWarning: When grouping with a length-1 list-like, you will need to pass a length-1 tuple to get_group in a future version of pandas. Pass `(name,)` instead of `name` to silence this warning.\n",
      "  data_subset = grouped_data.get_group(pd_key)\n"
     ]
    },
    {
     "data": {
      "image/png": "[encoded data removed]",
      "text/plain": [
       "<Figure size 800x500 with 1 Axes>"
      ]
     },
     "metadata": {},
     "output_type": "display_data"
    }
   ],
   "source": [
    "df[\"len\"] = df[\"text\"].apply(len)\n",
    "\n",
    "# Plot text length distribution\n",
    "plt.figure(figsize=(8, 5))\n",
    "sns.histplot(data=df, x=\"len\", hue='label', bins=50, kde=True, palette='pastel')\n",
    "plt.title(\"Text Length Distribution by Label\")\n",
    "plt.xlabel(\"Message Length (Characters)\")\n",
    "plt.ylabel(\"Frequency\")\n",
    "plt.tight_layout()\n",
    "plt.show();"
   ]
  },
  {
   "cell_type": "markdown",
   "id": "0ecd6796",
   "metadata": {
    "papermill": {
     "duration": 0.023855,
     "end_time": "2025-07-27T09:38:46.704207",
     "exception": false,
     "start_time": "2025-07-27T09:38:46.680352",
     "status": "completed"
    },
    "tags": []
   },
   "source": [
    "## Clean Data"
   ]
  },
  {
   "cell_type": "code",
   "execution_count": 12,
   "id": "1ecdf9bd",
   "metadata": {
    "execution": {
     "iopub.execute_input": "2025-07-27T09:38:46.753057Z",
     "iopub.status.busy": "2025-07-27T09:38:46.752467Z",
     "iopub.status.idle": "2025-07-27T09:38:46.833871Z",
     "shell.execute_reply": "2025-07-27T09:38:46.833142Z"
    },
    "papermill": {
     "duration": 0.106731,
     "end_time": "2025-07-27T09:38:46.835072",
     "exception": false,
     "start_time": "2025-07-27T09:38:46.728341",
     "status": "completed"
    },
    "tags": []
   },
   "outputs": [],
   "source": [
    "df[\"cleaned_text\"] = df[\"text\"].apply(preprocess_text)"
   ]
  },
  {
   "cell_type": "code",
   "execution_count": 13,
   "id": "0e463f22",
   "metadata": {
    "execution": {
     "iopub.execute_input": "2025-07-27T09:38:46.883578Z",
     "iopub.status.busy": "2025-07-27T09:38:46.883343Z",
     "iopub.status.idle": "2025-07-27T09:38:46.892390Z",
     "shell.execute_reply": "2025-07-27T09:38:46.891658Z"
    },
    "papermill": {
     "duration": 0.034371,
     "end_time": "2025-07-27T09:38:46.893484",
     "exception": false,
     "start_time": "2025-07-27T09:38:46.859113",
     "status": "completed"
    },
    "tags": []
   },
   "outputs": [
    {
     "data": {
      "text/html": [
       "<div>\n",
       "<style scoped>\n",
       "    .dataframe tbody tr th:only-of-type {\n",
       "        vertical-align: middle;\n",
       "    }\n",
       "\n",
       "    .dataframe tbody tr th {\n",
       "        vertical-align: top;\n",
       "    }\n",
       "\n",
       "    .dataframe thead th {\n",
       "        text-align: right;\n",
       "    }\n",
       "</style>\n",
       "<table border=\"1\" class=\"dataframe\">\n",
       "  <thead>\n",
       "    <tr style=\"text-align: right;\">\n",
       "      <th></th>\n",
       "      <th>label</th>\n",
       "      <th>text</th>\n",
       "      <th>len</th>\n",
       "      <th>cleaned_text</th>\n",
       "    </tr>\n",
       "  </thead>\n",
       "  <tbody>\n",
       "    <tr>\n",
       "      <th>0</th>\n",
       "      <td>0</td>\n",
       "      <td>Go until jurong point, crazy.. Available only ...</td>\n",
       "      <td>111</td>\n",
       "      <td>Go until jurong point, crazy.. Available only ...</td>\n",
       "    </tr>\n",
       "    <tr>\n",
       "      <th>1</th>\n",
       "      <td>0</td>\n",
       "      <td>Ok lar... Joking wif u oni...</td>\n",
       "      <td>29</td>\n",
       "      <td>Ok lar... Joking wif u oni...</td>\n",
       "    </tr>\n",
       "    <tr>\n",
       "      <th>2</th>\n",
       "      <td>1</td>\n",
       "      <td>Free entry in 2 a wkly comp to win FA Cup fina...</td>\n",
       "      <td>155</td>\n",
       "      <td>Free entry in 2 a wkly comp to win FA Cup fina...</td>\n",
       "    </tr>\n",
       "    <tr>\n",
       "      <th>3</th>\n",
       "      <td>0</td>\n",
       "      <td>U dun say so early hor... U c already then say...</td>\n",
       "      <td>49</td>\n",
       "      <td>U dun say so early hor... U c already then say...</td>\n",
       "    </tr>\n",
       "    <tr>\n",
       "      <th>4</th>\n",
       "      <td>0</td>\n",
       "      <td>Nah I don't think he goes to usf, he lives aro...</td>\n",
       "      <td>61</td>\n",
       "      <td>Nah I don't think he goes to usf, he lives aro...</td>\n",
       "    </tr>\n",
       "    <tr>\n",
       "      <th>...</th>\n",
       "      <td>...</td>\n",
       "      <td>...</td>\n",
       "      <td>...</td>\n",
       "      <td>...</td>\n",
       "    </tr>\n",
       "    <tr>\n",
       "      <th>5567</th>\n",
       "      <td>1</td>\n",
       "      <td>This is the 2nd time we have tried 2 contact u...</td>\n",
       "      <td>161</td>\n",
       "      <td>This is the 2nd time we have tried 2 contact u...</td>\n",
       "    </tr>\n",
       "    <tr>\n",
       "      <th>5568</th>\n",
       "      <td>0</td>\n",
       "      <td>Will Ì_ b going to esplanade fr home?</td>\n",
       "      <td>37</td>\n",
       "      <td>Will Ì_ b going to esplanade fr home?</td>\n",
       "    </tr>\n",
       "    <tr>\n",
       "      <th>5569</th>\n",
       "      <td>0</td>\n",
       "      <td>Pity, * was in mood for that. So...any other s...</td>\n",
       "      <td>57</td>\n",
       "      <td>Pity, * was in mood for that. So...any other s...</td>\n",
       "    </tr>\n",
       "    <tr>\n",
       "      <th>5570</th>\n",
       "      <td>0</td>\n",
       "      <td>The guy did some bitching but I acted like i'd...</td>\n",
       "      <td>125</td>\n",
       "      <td>The guy did some bitching but I acted like i'd...</td>\n",
       "    </tr>\n",
       "    <tr>\n",
       "      <th>5571</th>\n",
       "      <td>0</td>\n",
       "      <td>Rofl. Its true to its name</td>\n",
       "      <td>26</td>\n",
       "      <td>Rofl. Its true to its name</td>\n",
       "    </tr>\n",
       "  </tbody>\n",
       "</table>\n",
       "<p>5572 rows × 4 columns</p>\n",
       "</div>"
      ],
      "text/plain": [
       "      label                                               text  len  \\\n",
       "0         0  Go until jurong point, crazy.. Available only ...  111   \n",
       "1         0                      Ok lar... Joking wif u oni...   29   \n",
       "2         1  Free entry in 2 a wkly comp to win FA Cup fina...  155   \n",
       "3         0  U dun say so early hor... U c already then say...   49   \n",
       "4         0  Nah I don't think he goes to usf, he lives aro...   61   \n",
       "...     ...                                                ...  ...   \n",
       "5567      1  This is the 2nd time we have tried 2 contact u...  161   \n",
       "5568      0              Will Ì_ b going to esplanade fr home?   37   \n",
       "5569      0  Pity, * was in mood for that. So...any other s...   57   \n",
       "5570      0  The guy did some bitching but I acted like i'd...  125   \n",
       "5571      0                         Rofl. Its true to its name   26   \n",
       "\n",
       "                                           cleaned_text  \n",
       "0     Go until jurong point, crazy.. Available only ...  \n",
       "1                         Ok lar... Joking wif u oni...  \n",
       "2     Free entry in 2 a wkly comp to win FA Cup fina...  \n",
       "3     U dun say so early hor... U c already then say...  \n",
       "4     Nah I don't think he goes to usf, he lives aro...  \n",
       "...                                                 ...  \n",
       "5567  This is the 2nd time we have tried 2 contact u...  \n",
       "5568              Will Ì_ b going to esplanade fr home?  \n",
       "5569  Pity, * was in mood for that. So...any other s...  \n",
       "5570  The guy did some bitching but I acted like i'd...  \n",
       "5571                         Rofl. Its true to its name  \n",
       "\n",
       "[5572 rows x 4 columns]"
      ]
     },
     "execution_count": 13,
     "metadata": {},
     "output_type": "execute_result"
    }
   ],
   "source": [
    "df"
   ]
  },
  {
   "cell_type": "markdown",
   "id": "9f5b4471",
   "metadata": {
    "papermill": {
     "duration": 0.024114,
     "end_time": "2025-07-27T09:38:46.941624",
     "exception": false,
     "start_time": "2025-07-27T09:38:46.917510",
     "status": "completed"
    },
    "tags": []
   },
   "source": [
    "## Split Data"
   ]
  },
  {
   "cell_type": "code",
   "execution_count": 14,
   "id": "716e1e32",
   "metadata": {
    "execution": {
     "iopub.execute_input": "2025-07-27T09:38:46.989519Z",
     "iopub.status.busy": "2025-07-27T09:38:46.989241Z",
     "iopub.status.idle": "2025-07-27T09:38:47.000176Z",
     "shell.execute_reply": "2025-07-27T09:38:46.999315Z"
    },
    "papermill": {
     "duration": 0.036354,
     "end_time": "2025-07-27T09:38:47.001385",
     "exception": false,
     "start_time": "2025-07-27T09:38:46.965031",
     "status": "completed"
    },
    "tags": []
   },
   "outputs": [],
   "source": [
    "# Split data - preserve class distribution\n",
    "train_df, temp_df = train_test_split(\n",
    "    df, \n",
    "    test_size=0.3, \n",
    "    random_state=42,\n",
    "    stratify=df['label']  # Maintain class balance in splits\n",
    ")\n",
    "val_df, test_df = train_test_split(\n",
    "    temp_df, \n",
    "    test_size=0.5, \n",
    "    random_state=42,\n",
    "    stratify=temp_df['label']\n",
    ")"
   ]
  },
  {
   "cell_type": "code",
   "execution_count": 15,
   "id": "e5ac3a48",
   "metadata": {
    "execution": {
     "iopub.execute_input": "2025-07-27T09:38:47.050522Z",
     "iopub.status.busy": "2025-07-27T09:38:47.050265Z",
     "iopub.status.idle": "2025-07-27T09:38:47.054776Z",
     "shell.execute_reply": "2025-07-27T09:38:47.054240Z"
    },
    "papermill": {
     "duration": 0.029873,
     "end_time": "2025-07-27T09:38:47.055775",
     "exception": false,
     "start_time": "2025-07-27T09:38:47.025902",
     "status": "completed"
    },
    "tags": []
   },
   "outputs": [
    {
     "data": {
      "text/plain": [
       "((3900, 4), (836, 4), (836, 4))"
      ]
     },
     "execution_count": 15,
     "metadata": {},
     "output_type": "execute_result"
    }
   ],
   "source": [
    "train_df.shape, val_df.shape, test_df.shape"
   ]
  },
  {
   "cell_type": "code",
   "execution_count": 16,
   "id": "9bc4415c",
   "metadata": {
    "execution": {
     "iopub.execute_input": "2025-07-27T09:38:47.103626Z",
     "iopub.status.busy": "2025-07-27T09:38:47.103407Z",
     "iopub.status.idle": "2025-07-27T09:38:47.109211Z",
     "shell.execute_reply": "2025-07-27T09:38:47.108490Z"
    },
    "papermill": {
     "duration": 0.031003,
     "end_time": "2025-07-27T09:38:47.110405",
     "exception": false,
     "start_time": "2025-07-27T09:38:47.079402",
     "status": "completed"
    },
    "tags": []
   },
   "outputs": [
    {
     "data": {
      "text/plain": [
       "label\n",
       "0    3377\n",
       "1     523\n",
       "Name: count, dtype: int64"
      ]
     },
     "execution_count": 16,
     "metadata": {},
     "output_type": "execute_result"
    }
   ],
   "source": [
    "train_df[\"label\"].value_counts()"
   ]
  },
  {
   "cell_type": "code",
   "execution_count": 17,
   "id": "223e15a6",
   "metadata": {
    "execution": {
     "iopub.execute_input": "2025-07-27T09:38:47.160019Z",
     "iopub.status.busy": "2025-07-27T09:38:47.159759Z",
     "iopub.status.idle": "2025-07-27T09:38:47.165609Z",
     "shell.execute_reply": "2025-07-27T09:38:47.164816Z"
    },
    "papermill": {
     "duration": 0.031697,
     "end_time": "2025-07-27T09:38:47.167145",
     "exception": false,
     "start_time": "2025-07-27T09:38:47.135448",
     "status": "completed"
    },
    "tags": []
   },
   "outputs": [
    {
     "data": {
      "text/plain": [
       "label\n",
       "0    724\n",
       "1    112\n",
       "Name: count, dtype: int64"
      ]
     },
     "execution_count": 17,
     "metadata": {},
     "output_type": "execute_result"
    }
   ],
   "source": [
    "val_df[\"label\"].value_counts()"
   ]
  },
  {
   "cell_type": "code",
   "execution_count": 18,
   "id": "428fe9f2",
   "metadata": {
    "execution": {
     "iopub.execute_input": "2025-07-27T09:38:47.226273Z",
     "iopub.status.busy": "2025-07-27T09:38:47.225759Z",
     "iopub.status.idle": "2025-07-27T09:38:47.231635Z",
     "shell.execute_reply": "2025-07-27T09:38:47.230891Z"
    },
    "papermill": {
     "duration": 0.03292,
     "end_time": "2025-07-27T09:38:47.232826",
     "exception": false,
     "start_time": "2025-07-27T09:38:47.199906",
     "status": "completed"
    },
    "tags": []
   },
   "outputs": [
    {
     "data": {
      "text/plain": [
       "label\n",
       "0    724\n",
       "1    112\n",
       "Name: count, dtype: int64"
      ]
     },
     "execution_count": 18,
     "metadata": {},
     "output_type": "execute_result"
    }
   ],
   "source": [
    "test_df[\"label\"].value_counts()"
   ]
  },
  {
   "cell_type": "code",
   "execution_count": 19,
   "id": "a76a6553",
   "metadata": {
    "execution": {
     "iopub.execute_input": "2025-07-27T09:38:47.281626Z",
     "iopub.status.busy": "2025-07-27T09:38:47.281163Z",
     "iopub.status.idle": "2025-07-27T09:38:47.289170Z",
     "shell.execute_reply": "2025-07-27T09:38:47.288440Z"
    },
    "papermill": {
     "duration": 0.033594,
     "end_time": "2025-07-27T09:38:47.290208",
     "exception": false,
     "start_time": "2025-07-27T09:38:47.256614",
     "status": "completed"
    },
    "tags": []
   },
   "outputs": [
    {
     "data": {
      "text/html": [
       "<div>\n",
       "<style scoped>\n",
       "    .dataframe tbody tr th:only-of-type {\n",
       "        vertical-align: middle;\n",
       "    }\n",
       "\n",
       "    .dataframe tbody tr th {\n",
       "        vertical-align: top;\n",
       "    }\n",
       "\n",
       "    .dataframe thead th {\n",
       "        text-align: right;\n",
       "    }\n",
       "</style>\n",
       "<table border=\"1\" class=\"dataframe\">\n",
       "  <thead>\n",
       "    <tr style=\"text-align: right;\">\n",
       "      <th></th>\n",
       "      <th>label</th>\n",
       "      <th>text</th>\n",
       "      <th>len</th>\n",
       "      <th>cleaned_text</th>\n",
       "    </tr>\n",
       "  </thead>\n",
       "  <tbody>\n",
       "    <tr>\n",
       "      <th>4912</th>\n",
       "      <td>1</td>\n",
       "      <td>Goal! Arsenal 4 (Henry, 7 v Liverpool 2 Henry ...</td>\n",
       "      <td>155</td>\n",
       "      <td>Goal! Arsenal 4 (Henry, 7 v Liverpool 2 Henry ...</td>\n",
       "    </tr>\n",
       "    <tr>\n",
       "      <th>2541</th>\n",
       "      <td>0</td>\n",
       "      <td>I dont. Can you send it to me. Plus how's mode.</td>\n",
       "      <td>47</td>\n",
       "      <td>I dont. Can you send it to me. Plus how's mode.</td>\n",
       "    </tr>\n",
       "    <tr>\n",
       "      <th>5323</th>\n",
       "      <td>0</td>\n",
       "      <td>Aah bless! How's your arm?</td>\n",
       "      <td>26</td>\n",
       "      <td>Aah bless! How's your arm?</td>\n",
       "    </tr>\n",
       "    <tr>\n",
       "      <th>5171</th>\n",
       "      <td>0</td>\n",
       "      <td>Oh k. . I will come tomorrow</td>\n",
       "      <td>28</td>\n",
       "      <td>Oh k. . I will come tomorrow</td>\n",
       "    </tr>\n",
       "    <tr>\n",
       "      <th>2532</th>\n",
       "      <td>0</td>\n",
       "      <td>Yup ok...</td>\n",
       "      <td>9</td>\n",
       "      <td>Yup ok...</td>\n",
       "    </tr>\n",
       "    <tr>\n",
       "      <th>...</th>\n",
       "      <td>...</td>\n",
       "      <td>...</td>\n",
       "      <td>...</td>\n",
       "      <td>...</td>\n",
       "    </tr>\n",
       "    <tr>\n",
       "      <th>3185</th>\n",
       "      <td>0</td>\n",
       "      <td>Happy birthday to you....dear.with lots of lov...</td>\n",
       "      <td>59</td>\n",
       "      <td>Happy birthday to you....dear.with lots of lov...</td>\n",
       "    </tr>\n",
       "    <tr>\n",
       "      <th>607</th>\n",
       "      <td>0</td>\n",
       "      <td>what I meant to say is cant wait to see u agai...</td>\n",
       "      <td>87</td>\n",
       "      <td>what I meant to say is cant wait to see u agai...</td>\n",
       "    </tr>\n",
       "    <tr>\n",
       "      <th>552</th>\n",
       "      <td>0</td>\n",
       "      <td>Sure, if I get an acknowledgement from you tha...</td>\n",
       "      <td>120</td>\n",
       "      <td>Sure, if I get an acknowledgement from you tha...</td>\n",
       "    </tr>\n",
       "    <tr>\n",
       "      <th>763</th>\n",
       "      <td>0</td>\n",
       "      <td>Nothing but we jus tot u would ask cos u ba gu...</td>\n",
       "      <td>151</td>\n",
       "      <td>Nothing but we jus tot u would ask cos u ba gu...</td>\n",
       "    </tr>\n",
       "    <tr>\n",
       "      <th>3393</th>\n",
       "      <td>0</td>\n",
       "      <td>Bull. Your plan was to go floating off to IKEA...</td>\n",
       "      <td>129</td>\n",
       "      <td>Bull. Your plan was to go floating off to IKEA...</td>\n",
       "    </tr>\n",
       "  </tbody>\n",
       "</table>\n",
       "<p>3900 rows × 4 columns</p>\n",
       "</div>"
      ],
      "text/plain": [
       "      label                                               text  len  \\\n",
       "4912      1  Goal! Arsenal 4 (Henry, 7 v Liverpool 2 Henry ...  155   \n",
       "2541      0    I dont. Can you send it to me. Plus how's mode.   47   \n",
       "5323      0                         Aah bless! How's your arm?   26   \n",
       "5171      0                       Oh k. . I will come tomorrow   28   \n",
       "2532      0                                          Yup ok...    9   \n",
       "...     ...                                                ...  ...   \n",
       "3185      0  Happy birthday to you....dear.with lots of lov...   59   \n",
       "607       0  what I meant to say is cant wait to see u agai...   87   \n",
       "552       0  Sure, if I get an acknowledgement from you tha...  120   \n",
       "763       0  Nothing but we jus tot u would ask cos u ba gu...  151   \n",
       "3393      0  Bull. Your plan was to go floating off to IKEA...  129   \n",
       "\n",
       "                                           cleaned_text  \n",
       "4912  Goal! Arsenal 4 (Henry, 7 v Liverpool 2 Henry ...  \n",
       "2541    I dont. Can you send it to me. Plus how's mode.  \n",
       "5323                         Aah bless! How's your arm?  \n",
       "5171                       Oh k. . I will come tomorrow  \n",
       "2532                                          Yup ok...  \n",
       "...                                                 ...  \n",
       "3185  Happy birthday to you....dear.with lots of lov...  \n",
       "607   what I meant to say is cant wait to see u agai...  \n",
       "552   Sure, if I get an acknowledgement from you tha...  \n",
       "763   Nothing but we jus tot u would ask cos u ba gu...  \n",
       "3393  Bull. Your plan was to go floating off to IKEA...  \n",
       "\n",
       "[3900 rows x 4 columns]"
      ]
     },
     "execution_count": 19,
     "metadata": {},
     "output_type": "execute_result"
    }
   ],
   "source": [
    "train_df"
   ]
  },
  {
   "cell_type": "markdown",
   "id": "d3dbf921",
   "metadata": {
    "papermill": {
     "duration": 0.023866,
     "end_time": "2025-07-27T09:38:47.338903",
     "exception": false,
     "start_time": "2025-07-27T09:38:47.315037",
     "status": "completed"
    },
    "tags": []
   },
   "source": [
    "We know that in this dataset, class imbalance is high. So, we need to have weighted trainer for that."
   ]
  },
  {
   "cell_type": "markdown",
   "id": "3905214b",
   "metadata": {
    "papermill": {
     "duration": 0.023575,
     "end_time": "2025-07-27T09:38:47.386214",
     "exception": false,
     "start_time": "2025-07-27T09:38:47.362639",
     "status": "completed"
    },
    "tags": []
   },
   "source": [
    "## Compute Class Weights\n",
    "\n",
    "Let's compute class weights, then we can have a weighted loss function with computed class weights."
   ]
  },
  {
   "cell_type": "code",
   "execution_count": 20,
   "id": "2ed59ac9",
   "metadata": {
    "execution": {
     "iopub.execute_input": "2025-07-27T09:38:47.437817Z",
     "iopub.status.busy": "2025-07-27T09:38:47.437155Z",
     "iopub.status.idle": "2025-07-27T09:38:47.443909Z",
     "shell.execute_reply": "2025-07-27T09:38:47.443119Z"
    },
    "papermill": {
     "duration": 0.032986,
     "end_time": "2025-07-27T09:38:47.445197",
     "exception": false,
     "start_time": "2025-07-27T09:38:47.412211",
     "status": "completed"
    },
    "tags": []
   },
   "outputs": [
    {
     "name": "stdout",
     "output_type": "stream",
     "text": [
      "Class weights: [0.57743559 3.72848948]\n"
     ]
    }
   ],
   "source": [
    "# Calculate weights based on TRAINING SET only\n",
    "class_weights = compute_class_weight(\n",
    "    class_weight='balanced',\n",
    "    classes=np.unique(train_df['label']),\n",
    "    y=train_df['label']\n",
    ")\n",
    "\n",
    "print(f\"Class weights: {class_weights}\")\n",
    "# Example output: [0.588, 3.333] for 85/15 split\n",
    "\n",
    "# Convert to PyTorch tensor\n",
    "class_weights = torch.tensor(class_weights, dtype=torch.float)"
   ]
  },
  {
   "cell_type": "markdown",
   "id": "eddd6943",
   "metadata": {
    "papermill": {
     "duration": 0.026534,
     "end_time": "2025-07-27T09:38:47.498013",
     "exception": false,
     "start_time": "2025-07-27T09:38:47.471479",
     "status": "completed"
    },
    "tags": []
   },
   "source": [
    "## Tokenization"
   ]
  },
  {
   "cell_type": "code",
   "execution_count": 21,
   "id": "a08b3a6e",
   "metadata": {
    "execution": {
     "iopub.execute_input": "2025-07-27T09:38:47.551935Z",
     "iopub.status.busy": "2025-07-27T09:38:47.551215Z",
     "iopub.status.idle": "2025-07-27T09:38:48.627458Z",
     "shell.execute_reply": "2025-07-27T09:38:48.626818Z"
    },
    "papermill": {
     "duration": 1.10531,
     "end_time": "2025-07-27T09:38:48.628918",
     "exception": false,
     "start_time": "2025-07-27T09:38:47.523608",
     "status": "completed"
    },
    "tags": []
   },
   "outputs": [
    {
     "data": {
      "application/vnd.jupyter.widget-view+json": {
       "model_id": "0fc54a312fc14f3bb33d75c9cc05a499",
       "version_major": 2,
       "version_minor": 0
      },
      "text/plain": [
       "tokenizer_config.json:   0%|          | 0.00/25.0 [00:00<?, ?B/s]"
      ]
     },
     "metadata": {},
     "output_type": "display_data"
    },
    {
     "data": {
      "application/vnd.jupyter.widget-view+json": {
       "model_id": "4ea79c526d8b49249bbd4bd02822e8f5",
       "version_major": 2,
       "version_minor": 0
      },
      "text/plain": [
       "vocab.json: 0.00B [00:00, ?B/s]"
      ]
     },
     "metadata": {},
     "output_type": "display_data"
    },
    {
     "data": {
      "application/vnd.jupyter.widget-view+json": {
       "model_id": "65e1a8d74cfc4067a5ffeb1dcbe86249",
       "version_major": 2,
       "version_minor": 0
      },
      "text/plain": [
       "merges.txt: 0.00B [00:00, ?B/s]"
      ]
     },
     "metadata": {},
     "output_type": "display_data"
    },
    {
     "data": {
      "application/vnd.jupyter.widget-view+json": {
       "model_id": "5002f27415f649ceb2cccdda46bff2da",
       "version_major": 2,
       "version_minor": 0
      },
      "text/plain": [
       "tokenizer.json: 0.00B [00:00, ?B/s]"
      ]
     },
     "metadata": {},
     "output_type": "display_data"
    },
    {
     "data": {
      "application/vnd.jupyter.widget-view+json": {
       "model_id": "8f30b03e352d4966adb93703a4f73968",
       "version_major": 2,
       "version_minor": 0
      },
      "text/plain": [
       "config.json:   0%|          | 0.00/481 [00:00<?, ?B/s]"
      ]
     },
     "metadata": {},
     "output_type": "display_data"
    }
   ],
   "source": [
    "tokenizer = RobertaTokenizer.from_pretrained('FacebookAI/roberta-base')"
   ]
  },
  {
   "cell_type": "code",
   "execution_count": 22,
   "id": "ea62b5b8",
   "metadata": {
    "execution": {
     "iopub.execute_input": "2025-07-27T09:38:48.682589Z",
     "iopub.status.busy": "2025-07-27T09:38:48.681843Z",
     "iopub.status.idle": "2025-07-27T09:38:49.244749Z",
     "shell.execute_reply": "2025-07-27T09:38:49.244095Z"
    },
    "papermill": {
     "duration": 0.591038,
     "end_time": "2025-07-27T09:38:49.246197",
     "exception": false,
     "start_time": "2025-07-27T09:38:48.655159",
     "status": "completed"
    },
    "tags": []
   },
   "outputs": [],
   "source": [
    "# Analyze optimal sequence length\n",
    "token_lengths = train_df['cleaned_text'].apply(lambda x: len(tokenizer.tokenize(x)))\n",
    "optimal_max_len = int(np.percentile(token_lengths, 95)) + 5  # 95th percentile + buffer"
   ]
  },
  {
   "cell_type": "code",
   "execution_count": 23,
   "id": "a41e114a",
   "metadata": {
    "execution": {
     "iopub.execute_input": "2025-07-27T09:38:49.303186Z",
     "iopub.status.busy": "2025-07-27T09:38:49.302506Z",
     "iopub.status.idle": "2025-07-27T09:38:49.306873Z",
     "shell.execute_reply": "2025-07-27T09:38:49.306319Z"
    },
    "papermill": {
     "duration": 0.033202,
     "end_time": "2025-07-27T09:38:49.307844",
     "exception": false,
     "start_time": "2025-07-27T09:38:49.274642",
     "status": "completed"
    },
    "tags": []
   },
   "outputs": [
    {
     "data": {
      "text/plain": [
       "57"
      ]
     },
     "execution_count": 23,
     "metadata": {},
     "output_type": "execute_result"
    }
   ],
   "source": [
    "optimal_max_len"
   ]
  },
  {
   "cell_type": "code",
   "execution_count": 24,
   "id": "cde3e54c",
   "metadata": {
    "execution": {
     "iopub.execute_input": "2025-07-27T09:38:49.358096Z",
     "iopub.status.busy": "2025-07-27T09:38:49.357874Z",
     "iopub.status.idle": "2025-07-27T09:38:49.361799Z",
     "shell.execute_reply": "2025-07-27T09:38:49.361272Z"
    },
    "papermill": {
     "duration": 0.030368,
     "end_time": "2025-07-27T09:38:49.362991",
     "exception": false,
     "start_time": "2025-07-27T09:38:49.332623",
     "status": "completed"
    },
    "tags": []
   },
   "outputs": [],
   "source": [
    "def tokenize_function(batch):\n",
    "    try:\n",
    "        return tokenizer(\n",
    "            batch['text'],\n",
    "            truncation=True,\n",
    "            max_length=min(optimal_max_len, 512),\n",
    "            padding=False,\n",
    "            return_attention_mask=True,\n",
    "            return_tensors=None\n",
    "        )\n",
    "    except Exception as e:\n",
    "        print(f\"Tokenization error: {e}\")\n",
    "        raise"
   ]
  },
  {
   "cell_type": "code",
   "execution_count": 25,
   "id": "a604a71b",
   "metadata": {
    "execution": {
     "iopub.execute_input": "2025-07-27T09:38:49.415435Z",
     "iopub.status.busy": "2025-07-27T09:38:49.415241Z",
     "iopub.status.idle": "2025-07-27T09:38:49.447220Z",
     "shell.execute_reply": "2025-07-27T09:38:49.446711Z"
    },
    "papermill": {
     "duration": 0.060592,
     "end_time": "2025-07-27T09:38:49.448350",
     "exception": false,
     "start_time": "2025-07-27T09:38:49.387758",
     "status": "completed"
    },
    "tags": []
   },
   "outputs": [],
   "source": [
    "# 1. Select only necessary columns\n",
    "train_df = train_df[['label', 'cleaned_text']].rename(columns={'cleaned_text': 'text'})\n",
    "val_df = val_df[['label', 'cleaned_text']].rename(columns={'cleaned_text': 'text'})\n",
    "test_df = test_df[['label', 'cleaned_text']].rename(columns={'cleaned_text': 'text'})\n",
    "\n",
    "# 2. Convert to Dataset objects (with proper validation)\n",
    "train_dataset = Dataset.from_pandas(train_df, preserve_index=False)\n",
    "val_dataset = Dataset.from_pandas(val_df, preserve_index=False)\n",
    "test_dataset = Dataset.from_pandas(test_df, preserve_index=False)"
   ]
  },
  {
   "cell_type": "code",
   "execution_count": 26,
   "id": "e7a47a02",
   "metadata": {
    "execution": {
     "iopub.execute_input": "2025-07-27T09:38:49.499665Z",
     "iopub.status.busy": "2025-07-27T09:38:49.499204Z",
     "iopub.status.idle": "2025-07-27T09:38:53.399249Z",
     "shell.execute_reply": "2025-07-27T09:38:53.398558Z"
    },
    "papermill": {
     "duration": 3.92703,
     "end_time": "2025-07-27T09:38:53.400685",
     "exception": false,
     "start_time": "2025-07-27T09:38:49.473655",
     "status": "completed"
    },
    "tags": []
   },
   "outputs": [
    {
     "data": {
      "application/vnd.jupyter.widget-view+json": {
       "model_id": "f877fef79caa4256ac4f7aaf60b97252",
       "version_major": 2,
       "version_minor": 0
      },
      "text/plain": [
       "Map:   0%|          | 0/3900 [00:00<?, ? examples/s]"
      ]
     },
     "metadata": {},
     "output_type": "display_data"
    },
    {
     "data": {
      "application/vnd.jupyter.widget-view+json": {
       "model_id": "f5af8deebf9d4f4bb16d363bc96d3a89",
       "version_major": 2,
       "version_minor": 0
      },
      "text/plain": [
       "Map:   0%|          | 0/836 [00:00<?, ? examples/s]"
      ]
     },
     "metadata": {},
     "output_type": "display_data"
    },
    {
     "data": {
      "application/vnd.jupyter.widget-view+json": {
       "model_id": "d1973afbac7141bb96c62af2bc6e2acc",
       "version_major": 2,
       "version_minor": 0
      },
      "text/plain": [
       "Map:   0%|          | 0/836 [00:00<?, ? examples/s]"
      ]
     },
     "metadata": {},
     "output_type": "display_data"
    }
   ],
   "source": [
    "# 3. Apply tokenization\n",
    "tokenized_train = train_dataset.map(\n",
    "    tokenize_function,\n",
    "    batched=True,\n",
    "    batch_size=1000,\n",
    "    remove_columns=['text']  # Remove original text after tokenization\n",
    ")\n",
    "\n",
    "tokenized_val = val_dataset.map(\n",
    "    tokenize_function,\n",
    "    batched=True,\n",
    "    batch_size=1000,\n",
    "    remove_columns=['text']\n",
    ")\n",
    "\n",
    "tokenized_test = test_dataset.map(\n",
    "    tokenize_function,\n",
    "    batched=True,\n",
    "    batch_size=1000,\n",
    "    remove_columns=['text']\n",
    ")\n",
    "\n",
    "# 5. Sort only training set by length\n",
    "tokenized_train = tokenized_train.add_column(\n",
    "    \"length\",\n",
    "    [len(x) for x in tokenized_train[\"input_ids\"]]\n",
    ").sort(\"length\")\n",
    "\n",
    "# Final datasets\n",
    "train_dataset = tokenized_train\n",
    "val_dataset = tokenized_val\n",
    "test_dataset = tokenized_test"
   ]
  },
  {
   "cell_type": "code",
   "execution_count": 27,
   "id": "4d153637",
   "metadata": {
    "execution": {
     "iopub.execute_input": "2025-07-27T09:38:53.457886Z",
     "iopub.status.busy": "2025-07-27T09:38:53.457603Z",
     "iopub.status.idle": "2025-07-27T09:38:53.462530Z",
     "shell.execute_reply": "2025-07-27T09:38:53.461744Z"
    },
    "papermill": {
     "duration": 0.034895,
     "end_time": "2025-07-27T09:38:53.463761",
     "exception": false,
     "start_time": "2025-07-27T09:38:53.428866",
     "status": "completed"
    },
    "tags": []
   },
   "outputs": [
    {
     "data": {
      "text/plain": [
       "Dataset({\n",
       "    features: ['label', 'input_ids', 'attention_mask', 'length'],\n",
       "    num_rows: 3900\n",
       "})"
      ]
     },
     "execution_count": 27,
     "metadata": {},
     "output_type": "execute_result"
    }
   ],
   "source": [
    "tokenized_train"
   ]
  },
  {
   "cell_type": "code",
   "execution_count": 28,
   "id": "29b8d481",
   "metadata": {
    "execution": {
     "iopub.execute_input": "2025-07-27T09:38:53.518167Z",
     "iopub.status.busy": "2025-07-27T09:38:53.517865Z",
     "iopub.status.idle": "2025-07-27T09:38:53.521697Z",
     "shell.execute_reply": "2025-07-27T09:38:53.520989Z"
    },
    "papermill": {
     "duration": 0.032644,
     "end_time": "2025-07-27T09:38:53.522883",
     "exception": false,
     "start_time": "2025-07-27T09:38:53.490239",
     "status": "completed"
    },
    "tags": []
   },
   "outputs": [],
   "source": [
    "data_collator = DataCollatorWithPadding(\n",
    "    tokenizer=tokenizer,\n",
    "    padding='longest',  # Pad to longest in batch\n",
    "    max_length=optimal_max_len,  # Safety cap\n",
    "    return_tensors=\"pt\"\n",
    ")"
   ]
  },
  {
   "cell_type": "markdown",
   "id": "699d2d60",
   "metadata": {
    "papermill": {
     "duration": 0.025849,
     "end_time": "2025-07-27T09:38:53.575426",
     "exception": false,
     "start_time": "2025-07-27T09:38:53.549577",
     "status": "completed"
    },
    "tags": []
   },
   "source": [
    "## Custom Trainer to use a weighted loss"
   ]
  },
  {
   "cell_type": "code",
   "execution_count": 29,
   "id": "0f9b6586",
   "metadata": {
    "execution": {
     "iopub.execute_input": "2025-07-27T09:38:53.628982Z",
     "iopub.status.busy": "2025-07-27T09:38:53.628392Z",
     "iopub.status.idle": "2025-07-27T09:38:53.633397Z",
     "shell.execute_reply": "2025-07-27T09:38:53.632882Z"
    },
    "papermill": {
     "duration": 0.033273,
     "end_time": "2025-07-27T09:38:53.634576",
     "exception": false,
     "start_time": "2025-07-27T09:38:53.601303",
     "status": "completed"
    },
    "tags": []
   },
   "outputs": [],
   "source": [
    "class WeightedTrainer(Trainer):\n",
    "    def __init__(self, class_weights, *args, **kwargs):\n",
    "        super().__init__(*args, **kwargs)\n",
    "        self.class_weights = class_weights.to(kwargs['args'].device)\n",
    "        \n",
    "    def compute_loss(self, model, inputs, return_outputs=False, **kwargs):\n",
    "        labels = inputs.pop(\"labels\")\n",
    "        outputs = model(**inputs)\n",
    "        logits = outputs.logits\n",
    "        loss_fct = nn.CrossEntropyLoss(weight=self.class_weights)\n",
    "        loss = loss_fct(logits.view(-1, self.model.config.num_labels), labels.view(-1))\n",
    "        return (loss, outputs) if return_outputs else loss"
   ]
  },
  {
   "cell_type": "markdown",
   "id": "c90c4e3c",
   "metadata": {
    "papermill": {
     "duration": 0.025656,
     "end_time": "2025-07-27T09:38:53.687029",
     "exception": false,
     "start_time": "2025-07-27T09:38:53.661373",
     "status": "completed"
    },
    "tags": []
   },
   "source": [
    "## Compute metrics function"
   ]
  },
  {
   "cell_type": "code",
   "execution_count": 30,
   "id": "169ab676",
   "metadata": {
    "execution": {
     "iopub.execute_input": "2025-07-27T09:38:53.742268Z",
     "iopub.status.busy": "2025-07-27T09:38:53.742024Z",
     "iopub.status.idle": "2025-07-27T09:38:53.748712Z",
     "shell.execute_reply": "2025-07-27T09:38:53.747927Z"
    },
    "papermill": {
     "duration": 0.036269,
     "end_time": "2025-07-27T09:38:53.749883",
     "exception": false,
     "start_time": "2025-07-27T09:38:53.713614",
     "status": "completed"
    },
    "tags": []
   },
   "outputs": [],
   "source": [
    "def compute_metrics(eval_pred):\n",
    "    \"\"\"Robust metrics for imbalanced binary classification\"\"\"\n",
    "    logits, labels = eval_pred\n",
    "    predictions = np.argmax(logits, axis=-1)\n",
    "    \n",
    "    # Essential metrics (all weighted by class support)\n",
    "    metrics = {\n",
    "        'accuracy': accuracy_score(labels, predictions),\n",
    "        'f1_weighted': f1_score(labels, predictions, average='weighted'),\n",
    "        'precision_weighted': precision_score(labels, predictions, average='weighted'),\n",
    "        'recall_weighted': recall_score(labels, predictions, average='weighted'),\n",
    "    }\n",
    "    \n",
    "    # Class-specific metrics\n",
    "    metrics.update({\n",
    "        # Spam class (label=1)\n",
    "        'spam_precision': precision_score(labels, predictions, pos_label=1),\n",
    "        'spam_recall': recall_score(labels, predictions, pos_label=1),\n",
    "        'spam_f1': f1_score(labels, predictions, pos_label=1),\n",
    "        \n",
    "        # Ham class (label=0)\n",
    "        'ham_precision': precision_score(labels, predictions, pos_label=0),\n",
    "        'ham_recall': recall_score(labels, predictions, pos_label=0),\n",
    "    })\n",
    "    \n",
    "    # Confusion matrix breakdown\n",
    "    tn, fp, fn, tp = confusion_matrix(labels, predictions).ravel()\n",
    "    metrics.update({\n",
    "        'confusion_matrix': {\n",
    "            'true_negatives': int(tn),  # Correct hams\n",
    "            'false_positives': int(fp), # Hams misclassified as spam (bad)\n",
    "            'false_negatives': int(fn), # Spam missed (very bad)\n",
    "            'true_positives': int(tp),  # Correct spam\n",
    "        },\n",
    "        'false_positive_rate': fp / (fp + tn),  # % of hams flagged as spam\n",
    "        'false_negative_rate': fn / (fn + tp),  # % of spam missed\n",
    "    })\n",
    "    \n",
    "    return metrics"
   ]
  },
  {
   "cell_type": "markdown",
   "id": "06a13ec1",
   "metadata": {
    "papermill": {
     "duration": 0.025221,
     "end_time": "2025-07-27T09:38:53.801294",
     "exception": false,
     "start_time": "2025-07-27T09:38:53.776073",
     "status": "completed"
    },
    "tags": []
   },
   "source": [
    "## Optuna for Hyperparameter Tuning"
   ]
  },
  {
   "cell_type": "code",
   "execution_count": 31,
   "id": "e4de487e",
   "metadata": {
    "execution": {
     "iopub.execute_input": "2025-07-27T09:38:53.854437Z",
     "iopub.status.busy": "2025-07-27T09:38:53.854155Z",
     "iopub.status.idle": "2025-07-27T09:38:53.860589Z",
     "shell.execute_reply": "2025-07-27T09:38:53.859964Z"
    },
    "papermill": {
     "duration": 0.034523,
     "end_time": "2025-07-27T09:38:53.861757",
     "exception": false,
     "start_time": "2025-07-27T09:38:53.827234",
     "status": "completed"
    },
    "tags": []
   },
   "outputs": [],
   "source": [
    "# Define objective function\n",
    "def objective(trial):\n",
    "    # 1. Get parameters\n",
    "    model_params = {\n",
    "        \"hidden_dropout_prob\": trial.suggest_float(\"hidden_dropout\", 0.2, 0.4),\n",
    "        \"attention_probs_dropout_prob\": trial.suggest_float(\"attn_dropout\", 0.1, 0.2)\n",
    "    }\n",
    "\n",
    "    training_params = {\n",
    "        \"learning_rate\": trial.suggest_float(\"learning_rate\", 1e-5, 3e-5),\n",
    "        \"weight_decay\": trial.suggest_float(\"weight_decay\", 0.01, 0.1),\n",
    "        \"per_device_train_batch_size\": trial.suggest_categorical(\"batch_size\", [16, 32]),\n",
    "        \"gradient_accumulation_steps\": trial.suggest_int(\"grad_accum\", 1, 2),\n",
    "        \"num_train_epochs\": trial.suggest_int(\"epochs\", 3, 8),\n",
    "        \"warmup_ratio\": trial.suggest_float(\"warmup\", 0.05, 0.15)\n",
    "    }\n",
    "    \n",
    "    # 2. Define the model\n",
    "    model = RobertaForSequenceClassification.from_pretrained(\n",
    "        'FacebookAI/roberta-base',\n",
    "        num_labels=2,\n",
    "        id2label={0: \"ham\", 1: \"spam\"},\n",
    "        **model_params,\n",
    "    )\n",
    "    \n",
    "    # 3. Create training arguments\n",
    "    training_args = TrainingArguments(\n",
    "        output_dir=f'/kaggle/temp',\n",
    "        eval_strategy=\"steps\",\n",
    "        eval_steps=200,\n",
    "        save_strategy=\"steps\",\n",
    "        save_steps=200,\n",
    "        metric_for_best_model=\"eval_spam_f1\",\n",
    "        greater_is_better=True,\n",
    "        load_best_model_at_end=True,\n",
    "        fp16=True,\n",
    "        per_device_eval_batch_size=64,\n",
    "        report_to=\"none\",\n",
    "        **training_params,\n",
    "    )\n",
    "    \n",
    "    # 4. Train with class weights\n",
    "    trainer = WeightedTrainer(\n",
    "        model=model,\n",
    "        args=training_args,\n",
    "        train_dataset=train_dataset,\n",
    "        eval_dataset=val_dataset,\n",
    "        data_collator=data_collator,\n",
    "        compute_metrics=compute_metrics,\n",
    "        class_weights=class_weights\n",
    "    )\n",
    "    \n",
    "    trainer.train()\n",
    "    results = trainer.evaluate()\n",
    "    return results['eval_spam_f1']"
   ]
  },
  {
   "cell_type": "code",
   "execution_count": 32,
   "id": "1b2ecf4d",
   "metadata": {
    "execution": {
     "iopub.execute_input": "2025-07-27T09:38:53.913526Z",
     "iopub.status.busy": "2025-07-27T09:38:53.912812Z",
     "iopub.status.idle": "2025-07-27T10:32:21.814206Z",
     "shell.execute_reply": "2025-07-27T10:32:21.813515Z"
    },
    "papermill": {
     "duration": 3207.928653,
     "end_time": "2025-07-27T10:32:21.815620",
     "exception": false,
     "start_time": "2025-07-27T09:38:53.886967",
     "status": "completed"
    },
    "tags": []
   },
   "outputs": [
    {
     "name": "stderr",
     "output_type": "stream",
     "text": [
      "[I 2025-07-27 09:38:53,914] A new study created in memory with name: no-name-0e5689c8-6baa-41c6-8dc2-2211ba800935\n"
     ]
    },
    {
     "data": {
      "application/vnd.jupyter.widget-view+json": {
       "model_id": "ad7e6f22872341138a7857ecb46730b5",
       "version_major": 2,
       "version_minor": 0
      },
      "text/plain": [
       "model.safetensors:   0%|          | 0.00/499M [00:00<?, ?B/s]"
      ]
     },
     "metadata": {},
     "output_type": "display_data"
    },
    {
     "name": "stderr",
     "output_type": "stream",
     "text": [
      "Some weights of RobertaForSequenceClassification were not initialized from the model checkpoint at FacebookAI/roberta-base and are newly initialized: ['classifier.dense.bias', 'classifier.dense.weight', 'classifier.out_proj.bias', 'classifier.out_proj.weight']\n",
      "You should probably TRAIN this model on a down-stream task to be able to use it for predictions and inference.\n"
     ]
    },
    {
     "data": {
      "text/html": [
       "\n",
       "    <div>\n",
       "      \n",
       "      <progress value='248' max='248' style='width:300px; height:20px; vertical-align: middle;'></progress>\n",
       "      [248/248 03:26, Epoch 8/8]\n",
       "    </div>\n",
       "    <table border=\"1\" class=\"dataframe\">\n",
       "  <thead>\n",
       " <tr style=\"text-align: left;\">\n",
       "      <th>Step</th>\n",
       "      <th>Training Loss</th>\n",
       "      <th>Validation Loss</th>\n",
       "      <th>Accuracy</th>\n",
       "      <th>F1 Weighted</th>\n",
       "      <th>Precision Weighted</th>\n",
       "      <th>Recall Weighted</th>\n",
       "      <th>Spam Precision</th>\n",
       "      <th>Spam Recall</th>\n",
       "      <th>Spam F1</th>\n",
       "      <th>Ham Precision</th>\n",
       "      <th>Ham Recall</th>\n",
       "      <th>Confusion Matrix</th>\n",
       "      <th>False Positive Rate</th>\n",
       "      <th>False Negative Rate</th>\n",
       "    </tr>\n",
       "  </thead>\n",
       "  <tbody>\n",
       "    <tr>\n",
       "      <td>200</td>\n",
       "      <td>No log</td>\n",
       "      <td>0.097471</td>\n",
       "      <td>0.989234</td>\n",
       "      <td>0.989333</td>\n",
       "      <td>0.989576</td>\n",
       "      <td>0.989234</td>\n",
       "      <td>0.940171</td>\n",
       "      <td>0.982143</td>\n",
       "      <td>0.960699</td>\n",
       "      <td>0.997218</td>\n",
       "      <td>0.990331</td>\n",
       "      <td>{'true_negatives': 717, 'false_positives': 7, 'false_negatives': 2, 'true_positives': 110}</td>\n",
       "      <td>0.009669</td>\n",
       "      <td>0.017857</td>\n",
       "    </tr>\n",
       "  </tbody>\n",
       "</table><p>"
      ],
      "text/plain": [
       "<IPython.core.display.HTML object>"
      ]
     },
     "metadata": {},
     "output_type": "display_data"
    },
    {
     "data": {
      "text/html": [
       "\n",
       "    <div>\n",
       "      \n",
       "      <progress value='7' max='7' style='width:300px; height:20px; vertical-align: middle;'></progress>\n",
       "      [7/7 00:01]\n",
       "    </div>\n",
       "    "
      ],
      "text/plain": [
       "<IPython.core.display.HTML object>"
      ]
     },
     "metadata": {},
     "output_type": "display_data"
    },
    {
     "name": "stderr",
     "output_type": "stream",
     "text": [
      "[I 2025-07-27 09:42:28,819] Trial 0 finished with value: 0.9606986899563319 and parameters: {'hidden_dropout': 0.27157355843026443, 'attn_dropout': 0.14573345731035747, 'learning_rate': 2.0700368821077562e-05, 'weight_decay': 0.05407827645438941, 'batch_size': 32, 'grad_accum': 2, 'epochs': 8, 'warmup': 0.11852600183901789}. Best is trial 0 with value: 0.9606986899563319.\n",
      "Some weights of RobertaForSequenceClassification were not initialized from the model checkpoint at FacebookAI/roberta-base and are newly initialized: ['classifier.dense.bias', 'classifier.dense.weight', 'classifier.out_proj.bias', 'classifier.out_proj.weight']\n",
      "You should probably TRAIN this model on a down-stream task to be able to use it for predictions and inference.\n"
     ]
    },
    {
     "data": {
      "text/html": [
       "\n",
       "    <div>\n",
       "      \n",
       "      <progress value='186' max='186' style='width:300px; height:20px; vertical-align: middle;'></progress>\n",
       "      [186/186 02:35, Epoch 6/6]\n",
       "    </div>\n",
       "    <table border=\"1\" class=\"dataframe\">\n",
       "  <thead>\n",
       " <tr style=\"text-align: left;\">\n",
       "      <th>Step</th>\n",
       "      <th>Training Loss</th>\n",
       "      <th>Validation Loss</th>\n",
       "    </tr>\n",
       "  </thead>\n",
       "  <tbody>\n",
       "  </tbody>\n",
       "</table><p>"
      ],
      "text/plain": [
       "<IPython.core.display.HTML object>"
      ]
     },
     "metadata": {},
     "output_type": "display_data"
    },
    {
     "data": {
      "text/html": [
       "\n",
       "    <div>\n",
       "      \n",
       "      <progress value='7' max='7' style='width:300px; height:20px; vertical-align: middle;'></progress>\n",
       "      [7/7 00:01]\n",
       "    </div>\n",
       "    "
      ],
      "text/plain": [
       "<IPython.core.display.HTML object>"
      ]
     },
     "metadata": {},
     "output_type": "display_data"
    },
    {
     "name": "stderr",
     "output_type": "stream",
     "text": [
      "[I 2025-07-27 09:45:07,832] Trial 1 finished with value: 0.9694323144104804 and parameters: {'hidden_dropout': 0.29102820143553876, 'attn_dropout': 0.195954092898259, 'learning_rate': 1.9825737288521536e-05, 'weight_decay': 0.0788443459563087, 'batch_size': 32, 'grad_accum': 2, 'epochs': 6, 'warmup': 0.13600208378688539}. Best is trial 1 with value: 0.9694323144104804.\n",
      "Some weights of RobertaForSequenceClassification were not initialized from the model checkpoint at FacebookAI/roberta-base and are newly initialized: ['classifier.dense.bias', 'classifier.dense.weight', 'classifier.out_proj.bias', 'classifier.out_proj.weight']\n",
      "You should probably TRAIN this model on a down-stream task to be able to use it for predictions and inference.\n"
     ]
    },
    {
     "data": {
      "text/html": [
       "\n",
       "    <div>\n",
       "      \n",
       "      <progress value='305' max='305' style='width:300px; height:20px; vertical-align: middle;'></progress>\n",
       "      [305/305 02:55, Epoch 5/5]\n",
       "    </div>\n",
       "    <table border=\"1\" class=\"dataframe\">\n",
       "  <thead>\n",
       " <tr style=\"text-align: left;\">\n",
       "      <th>Step</th>\n",
       "      <th>Training Loss</th>\n",
       "      <th>Validation Loss</th>\n",
       "      <th>Accuracy</th>\n",
       "      <th>F1 Weighted</th>\n",
       "      <th>Precision Weighted</th>\n",
       "      <th>Recall Weighted</th>\n",
       "      <th>Spam Precision</th>\n",
       "      <th>Spam Recall</th>\n",
       "      <th>Spam F1</th>\n",
       "      <th>Ham Precision</th>\n",
       "      <th>Ham Recall</th>\n",
       "      <th>Confusion Matrix</th>\n",
       "      <th>False Positive Rate</th>\n",
       "      <th>False Negative Rate</th>\n",
       "    </tr>\n",
       "  </thead>\n",
       "  <tbody>\n",
       "    <tr>\n",
       "      <td>200</td>\n",
       "      <td>No log</td>\n",
       "      <td>0.100114</td>\n",
       "      <td>0.986842</td>\n",
       "      <td>0.986867</td>\n",
       "      <td>0.986897</td>\n",
       "      <td>0.986842</td>\n",
       "      <td>0.946903</td>\n",
       "      <td>0.955357</td>\n",
       "      <td>0.951111</td>\n",
       "      <td>0.993084</td>\n",
       "      <td>0.991713</td>\n",
       "      <td>{'true_negatives': 718, 'false_positives': 6, 'false_negatives': 5, 'true_positives': 107}</td>\n",
       "      <td>0.008287</td>\n",
       "      <td>0.044643</td>\n",
       "    </tr>\n",
       "  </tbody>\n",
       "</table><p>"
      ],
      "text/plain": [
       "<IPython.core.display.HTML object>"
      ]
     },
     "metadata": {},
     "output_type": "display_data"
    },
    {
     "data": {
      "text/html": [
       "\n",
       "    <div>\n",
       "      \n",
       "      <progress value='7' max='7' style='width:300px; height:20px; vertical-align: middle;'></progress>\n",
       "      [7/7 00:01]\n",
       "    </div>\n",
       "    "
      ],
      "text/plain": [
       "<IPython.core.display.HTML object>"
      ]
     },
     "metadata": {},
     "output_type": "display_data"
    },
    {
     "name": "stderr",
     "output_type": "stream",
     "text": [
      "[I 2025-07-27 09:48:06,370] Trial 2 finished with value: 0.9511111111111111 and parameters: {'hidden_dropout': 0.36188868199229507, 'attn_dropout': 0.1976141383115735, 'learning_rate': 1.1116860632197424e-05, 'weight_decay': 0.08607089685940436, 'batch_size': 16, 'grad_accum': 2, 'epochs': 5, 'warmup': 0.14268711639828333}. Best is trial 1 with value: 0.9694323144104804.\n",
      "Some weights of RobertaForSequenceClassification were not initialized from the model checkpoint at FacebookAI/roberta-base and are newly initialized: ['classifier.dense.bias', 'classifier.dense.weight', 'classifier.out_proj.bias', 'classifier.out_proj.weight']\n",
      "You should probably TRAIN this model on a down-stream task to be able to use it for predictions and inference.\n"
     ]
    },
    {
     "data": {
      "text/html": [
       "\n",
       "    <div>\n",
       "      \n",
       "      <progress value='854' max='854' style='width:300px; height:20px; vertical-align: middle;'></progress>\n",
       "      [854/854 04:33, Epoch 7/7]\n",
       "    </div>\n",
       "    <table border=\"1\" class=\"dataframe\">\n",
       "  <thead>\n",
       " <tr style=\"text-align: left;\">\n",
       "      <th>Step</th>\n",
       "      <th>Training Loss</th>\n",
       "      <th>Validation Loss</th>\n",
       "      <th>Accuracy</th>\n",
       "      <th>F1 Weighted</th>\n",
       "      <th>Precision Weighted</th>\n",
       "      <th>Recall Weighted</th>\n",
       "      <th>Spam Precision</th>\n",
       "      <th>Spam Recall</th>\n",
       "      <th>Spam F1</th>\n",
       "      <th>Ham Precision</th>\n",
       "      <th>Ham Recall</th>\n",
       "      <th>Confusion Matrix</th>\n",
       "      <th>False Positive Rate</th>\n",
       "      <th>False Negative Rate</th>\n",
       "    </tr>\n",
       "  </thead>\n",
       "  <tbody>\n",
       "    <tr>\n",
       "      <td>200</td>\n",
       "      <td>No log</td>\n",
       "      <td>0.146605</td>\n",
       "      <td>0.986842</td>\n",
       "      <td>0.986817</td>\n",
       "      <td>0.986798</td>\n",
       "      <td>0.986842</td>\n",
       "      <td>0.954955</td>\n",
       "      <td>0.946429</td>\n",
       "      <td>0.950673</td>\n",
       "      <td>0.991724</td>\n",
       "      <td>0.993094</td>\n",
       "      <td>{'true_negatives': 719, 'false_positives': 5, 'false_negatives': 6, 'true_positives': 106}</td>\n",
       "      <td>0.006906</td>\n",
       "      <td>0.053571</td>\n",
       "    </tr>\n",
       "    <tr>\n",
       "      <td>400</td>\n",
       "      <td>No log</td>\n",
       "      <td>0.195251</td>\n",
       "      <td>0.990431</td>\n",
       "      <td>0.990466</td>\n",
       "      <td>0.990526</td>\n",
       "      <td>0.990431</td>\n",
       "      <td>0.956140</td>\n",
       "      <td>0.973214</td>\n",
       "      <td>0.964602</td>\n",
       "      <td>0.995845</td>\n",
       "      <td>0.993094</td>\n",
       "      <td>{'true_negatives': 719, 'false_positives': 5, 'false_negatives': 3, 'true_positives': 109}</td>\n",
       "      <td>0.006906</td>\n",
       "      <td>0.026786</td>\n",
       "    </tr>\n",
       "    <tr>\n",
       "      <td>600</td>\n",
       "      <td>0.350000</td>\n",
       "      <td>0.193305</td>\n",
       "      <td>0.992823</td>\n",
       "      <td>0.992850</td>\n",
       "      <td>0.992900</td>\n",
       "      <td>0.992823</td>\n",
       "      <td>0.964912</td>\n",
       "      <td>0.982143</td>\n",
       "      <td>0.973451</td>\n",
       "      <td>0.997230</td>\n",
       "      <td>0.994475</td>\n",
       "      <td>{'true_negatives': 720, 'false_positives': 4, 'false_negatives': 2, 'true_positives': 110}</td>\n",
       "      <td>0.005525</td>\n",
       "      <td>0.017857</td>\n",
       "    </tr>\n",
       "    <tr>\n",
       "      <td>800</td>\n",
       "      <td>0.350000</td>\n",
       "      <td>0.205745</td>\n",
       "      <td>0.991627</td>\n",
       "      <td>0.991673</td>\n",
       "      <td>0.991773</td>\n",
       "      <td>0.991627</td>\n",
       "      <td>0.956522</td>\n",
       "      <td>0.982143</td>\n",
       "      <td>0.969163</td>\n",
       "      <td>0.997226</td>\n",
       "      <td>0.993094</td>\n",
       "      <td>{'true_negatives': 719, 'false_positives': 5, 'false_negatives': 2, 'true_positives': 110}</td>\n",
       "      <td>0.006906</td>\n",
       "      <td>0.017857</td>\n",
       "    </tr>\n",
       "  </tbody>\n",
       "</table><p>"
      ],
      "text/plain": [
       "<IPython.core.display.HTML object>"
      ]
     },
     "metadata": {},
     "output_type": "display_data"
    },
    {
     "data": {
      "text/html": [
       "\n",
       "    <div>\n",
       "      \n",
       "      <progress value='7' max='7' style='width:300px; height:20px; vertical-align: middle;'></progress>\n",
       "      [7/7 00:01]\n",
       "    </div>\n",
       "    "
      ],
      "text/plain": [
       "<IPython.core.display.HTML object>"
      ]
     },
     "metadata": {},
     "output_type": "display_data"
    },
    {
     "name": "stderr",
     "output_type": "stream",
     "text": [
      "[I 2025-07-27 09:52:42,839] Trial 3 finished with value: 0.9734513274336283 and parameters: {'hidden_dropout': 0.3446092654003281, 'attn_dropout': 0.13037412033915508, 'learning_rate': 1.1810788733172074e-05, 'weight_decay': 0.05405341850352894, 'batch_size': 16, 'grad_accum': 1, 'epochs': 7, 'warmup': 0.1320056870782835}. Best is trial 3 with value: 0.9734513274336283.\n",
      "Some weights of RobertaForSequenceClassification were not initialized from the model checkpoint at FacebookAI/roberta-base and are newly initialized: ['classifier.dense.bias', 'classifier.dense.weight', 'classifier.out_proj.bias', 'classifier.out_proj.weight']\n",
      "You should probably TRAIN this model on a down-stream task to be able to use it for predictions and inference.\n"
     ]
    },
    {
     "data": {
      "text/html": [
       "\n",
       "    <div>\n",
       "      \n",
       "      <progress value='488' max='488' style='width:300px; height:20px; vertical-align: middle;'></progress>\n",
       "      [488/488 03:50, Epoch 8/8]\n",
       "    </div>\n",
       "    <table border=\"1\" class=\"dataframe\">\n",
       "  <thead>\n",
       " <tr style=\"text-align: left;\">\n",
       "      <th>Step</th>\n",
       "      <th>Training Loss</th>\n",
       "      <th>Validation Loss</th>\n",
       "      <th>Accuracy</th>\n",
       "      <th>F1 Weighted</th>\n",
       "      <th>Precision Weighted</th>\n",
       "      <th>Recall Weighted</th>\n",
       "      <th>Spam Precision</th>\n",
       "      <th>Spam Recall</th>\n",
       "      <th>Spam F1</th>\n",
       "      <th>Ham Precision</th>\n",
       "      <th>Ham Recall</th>\n",
       "      <th>Confusion Matrix</th>\n",
       "      <th>False Positive Rate</th>\n",
       "      <th>False Negative Rate</th>\n",
       "    </tr>\n",
       "  </thead>\n",
       "  <tbody>\n",
       "    <tr>\n",
       "      <td>200</td>\n",
       "      <td>No log</td>\n",
       "      <td>0.133357</td>\n",
       "      <td>0.982057</td>\n",
       "      <td>0.982468</td>\n",
       "      <td>0.983777</td>\n",
       "      <td>0.982057</td>\n",
       "      <td>0.888000</td>\n",
       "      <td>0.991071</td>\n",
       "      <td>0.936709</td>\n",
       "      <td>0.998594</td>\n",
       "      <td>0.980663</td>\n",
       "      <td>{'true_negatives': 710, 'false_positives': 14, 'false_negatives': 1, 'true_positives': 111}</td>\n",
       "      <td>0.019337</td>\n",
       "      <td>0.008929</td>\n",
       "    </tr>\n",
       "    <tr>\n",
       "      <td>400</td>\n",
       "      <td>No log</td>\n",
       "      <td>0.098829</td>\n",
       "      <td>0.994019</td>\n",
       "      <td>0.994052</td>\n",
       "      <td>0.994139</td>\n",
       "      <td>0.994019</td>\n",
       "      <td>0.965217</td>\n",
       "      <td>0.991071</td>\n",
       "      <td>0.977974</td>\n",
       "      <td>0.998613</td>\n",
       "      <td>0.994475</td>\n",
       "      <td>{'true_negatives': 720, 'false_positives': 4, 'false_negatives': 1, 'true_positives': 111}</td>\n",
       "      <td>0.005525</td>\n",
       "      <td>0.008929</td>\n",
       "    </tr>\n",
       "  </tbody>\n",
       "</table><p>"
      ],
      "text/plain": [
       "<IPython.core.display.HTML object>"
      ]
     },
     "metadata": {},
     "output_type": "display_data"
    },
    {
     "data": {
      "text/html": [
       "\n",
       "    <div>\n",
       "      \n",
       "      <progress value='7' max='7' style='width:300px; height:20px; vertical-align: middle;'></progress>\n",
       "      [7/7 00:01]\n",
       "    </div>\n",
       "    "
      ],
      "text/plain": [
       "<IPython.core.display.HTML object>"
      ]
     },
     "metadata": {},
     "output_type": "display_data"
    },
    {
     "name": "stderr",
     "output_type": "stream",
     "text": [
      "[I 2025-07-27 09:56:36,678] Trial 4 finished with value: 0.9779735682819383 and parameters: {'hidden_dropout': 0.24535892153124866, 'attn_dropout': 0.1917522757023868, 'learning_rate': 2.9947215613546497e-05, 'weight_decay': 0.0945138876333508, 'batch_size': 32, 'grad_accum': 1, 'epochs': 8, 'warmup': 0.08223555323886156}. Best is trial 4 with value: 0.9779735682819383.\n",
      "Some weights of RobertaForSequenceClassification were not initialized from the model checkpoint at FacebookAI/roberta-base and are newly initialized: ['classifier.dense.bias', 'classifier.dense.weight', 'classifier.out_proj.bias', 'classifier.out_proj.weight']\n",
      "You should probably TRAIN this model on a down-stream task to be able to use it for predictions and inference.\n"
     ]
    },
    {
     "data": {
      "text/html": [
       "\n",
       "    <div>\n",
       "      \n",
       "      <progress value='427' max='427' style='width:300px; height:20px; vertical-align: middle;'></progress>\n",
       "      [427/427 03:23, Epoch 7/7]\n",
       "    </div>\n",
       "    <table border=\"1\" class=\"dataframe\">\n",
       "  <thead>\n",
       " <tr style=\"text-align: left;\">\n",
       "      <th>Step</th>\n",
       "      <th>Training Loss</th>\n",
       "      <th>Validation Loss</th>\n",
       "      <th>Accuracy</th>\n",
       "      <th>F1 Weighted</th>\n",
       "      <th>Precision Weighted</th>\n",
       "      <th>Recall Weighted</th>\n",
       "      <th>Spam Precision</th>\n",
       "      <th>Spam Recall</th>\n",
       "      <th>Spam F1</th>\n",
       "      <th>Ham Precision</th>\n",
       "      <th>Ham Recall</th>\n",
       "      <th>Confusion Matrix</th>\n",
       "      <th>False Positive Rate</th>\n",
       "      <th>False Negative Rate</th>\n",
       "    </tr>\n",
       "  </thead>\n",
       "  <tbody>\n",
       "    <tr>\n",
       "      <td>200</td>\n",
       "      <td>No log</td>\n",
       "      <td>0.144591</td>\n",
       "      <td>0.982057</td>\n",
       "      <td>0.982348</td>\n",
       "      <td>0.983080</td>\n",
       "      <td>0.982057</td>\n",
       "      <td>0.900826</td>\n",
       "      <td>0.973214</td>\n",
       "      <td>0.935622</td>\n",
       "      <td>0.995804</td>\n",
       "      <td>0.983425</td>\n",
       "      <td>{'true_negatives': 712, 'false_positives': 12, 'false_negatives': 3, 'true_positives': 109}</td>\n",
       "      <td>0.016575</td>\n",
       "      <td>0.026786</td>\n",
       "    </tr>\n",
       "    <tr>\n",
       "      <td>400</td>\n",
       "      <td>No log</td>\n",
       "      <td>0.165620</td>\n",
       "      <td>0.988038</td>\n",
       "      <td>0.988169</td>\n",
       "      <td>0.988505</td>\n",
       "      <td>0.988038</td>\n",
       "      <td>0.932203</td>\n",
       "      <td>0.982143</td>\n",
       "      <td>0.956522</td>\n",
       "      <td>0.997214</td>\n",
       "      <td>0.988950</td>\n",
       "      <td>{'true_negatives': 716, 'false_positives': 8, 'false_negatives': 2, 'true_positives': 110}</td>\n",
       "      <td>0.011050</td>\n",
       "      <td>0.017857</td>\n",
       "    </tr>\n",
       "  </tbody>\n",
       "</table><p>"
      ],
      "text/plain": [
       "<IPython.core.display.HTML object>"
      ]
     },
     "metadata": {},
     "output_type": "display_data"
    },
    {
     "data": {
      "text/html": [
       "\n",
       "    <div>\n",
       "      \n",
       "      <progress value='7' max='7' style='width:300px; height:20px; vertical-align: middle;'></progress>\n",
       "      [7/7 00:01]\n",
       "    </div>\n",
       "    "
      ],
      "text/plain": [
       "<IPython.core.display.HTML object>"
      ]
     },
     "metadata": {},
     "output_type": "display_data"
    },
    {
     "name": "stderr",
     "output_type": "stream",
     "text": [
      "[I 2025-07-27 10:00:03,286] Trial 5 finished with value: 0.9565217391304348 and parameters: {'hidden_dropout': 0.3592862705995072, 'attn_dropout': 0.15650845960813342, 'learning_rate': 1.8108845406913755e-05, 'weight_decay': 0.07128254866925145, 'batch_size': 32, 'grad_accum': 1, 'epochs': 7, 'warmup': 0.1287886724429373}. Best is trial 4 with value: 0.9779735682819383.\n",
      "Some weights of RobertaForSequenceClassification were not initialized from the model checkpoint at FacebookAI/roberta-base and are newly initialized: ['classifier.dense.bias', 'classifier.dense.weight', 'classifier.out_proj.bias', 'classifier.out_proj.weight']\n",
      "You should probably TRAIN this model on a down-stream task to be able to use it for predictions and inference.\n"
     ]
    },
    {
     "data": {
      "text/html": [
       "\n",
       "    <div>\n",
       "      \n",
       "      <progress value='854' max='854' style='width:300px; height:20px; vertical-align: middle;'></progress>\n",
       "      [854/854 04:40, Epoch 7/7]\n",
       "    </div>\n",
       "    <table border=\"1\" class=\"dataframe\">\n",
       "  <thead>\n",
       " <tr style=\"text-align: left;\">\n",
       "      <th>Step</th>\n",
       "      <th>Training Loss</th>\n",
       "      <th>Validation Loss</th>\n",
       "      <th>Accuracy</th>\n",
       "      <th>F1 Weighted</th>\n",
       "      <th>Precision Weighted</th>\n",
       "      <th>Recall Weighted</th>\n",
       "      <th>Spam Precision</th>\n",
       "      <th>Spam Recall</th>\n",
       "      <th>Spam F1</th>\n",
       "      <th>Ham Precision</th>\n",
       "      <th>Ham Recall</th>\n",
       "      <th>Confusion Matrix</th>\n",
       "      <th>False Positive Rate</th>\n",
       "      <th>False Negative Rate</th>\n",
       "    </tr>\n",
       "  </thead>\n",
       "  <tbody>\n",
       "    <tr>\n",
       "      <td>200</td>\n",
       "      <td>No log</td>\n",
       "      <td>0.280400</td>\n",
       "      <td>0.988038</td>\n",
       "      <td>0.987993</td>\n",
       "      <td>0.987971</td>\n",
       "      <td>0.988038</td>\n",
       "      <td>0.963636</td>\n",
       "      <td>0.946429</td>\n",
       "      <td>0.954955</td>\n",
       "      <td>0.991736</td>\n",
       "      <td>0.994475</td>\n",
       "      <td>{'true_negatives': 720, 'false_positives': 4, 'false_negatives': 6, 'true_positives': 106}</td>\n",
       "      <td>0.005525</td>\n",
       "      <td>0.053571</td>\n",
       "    </tr>\n",
       "    <tr>\n",
       "      <td>400</td>\n",
       "      <td>No log</td>\n",
       "      <td>0.167168</td>\n",
       "      <td>0.989234</td>\n",
       "      <td>0.989371</td>\n",
       "      <td>0.989786</td>\n",
       "      <td>0.989234</td>\n",
       "      <td>0.932773</td>\n",
       "      <td>0.991071</td>\n",
       "      <td>0.961039</td>\n",
       "      <td>0.998605</td>\n",
       "      <td>0.988950</td>\n",
       "      <td>{'true_negatives': 716, 'false_positives': 8, 'false_negatives': 1, 'true_positives': 111}</td>\n",
       "      <td>0.011050</td>\n",
       "      <td>0.008929</td>\n",
       "    </tr>\n",
       "    <tr>\n",
       "      <td>600</td>\n",
       "      <td>0.397000</td>\n",
       "      <td>0.115737</td>\n",
       "      <td>0.994019</td>\n",
       "      <td>0.994052</td>\n",
       "      <td>0.994139</td>\n",
       "      <td>0.994019</td>\n",
       "      <td>0.965217</td>\n",
       "      <td>0.991071</td>\n",
       "      <td>0.977974</td>\n",
       "      <td>0.998613</td>\n",
       "      <td>0.994475</td>\n",
       "      <td>{'true_negatives': 720, 'false_positives': 4, 'false_negatives': 1, 'true_positives': 111}</td>\n",
       "      <td>0.005525</td>\n",
       "      <td>0.008929</td>\n",
       "    </tr>\n",
       "    <tr>\n",
       "      <td>800</td>\n",
       "      <td>0.397000</td>\n",
       "      <td>0.129263</td>\n",
       "      <td>0.992823</td>\n",
       "      <td>0.992876</td>\n",
       "      <td>0.993023</td>\n",
       "      <td>0.992823</td>\n",
       "      <td>0.956897</td>\n",
       "      <td>0.991071</td>\n",
       "      <td>0.973684</td>\n",
       "      <td>0.998611</td>\n",
       "      <td>0.993094</td>\n",
       "      <td>{'true_negatives': 719, 'false_positives': 5, 'false_negatives': 1, 'true_positives': 111}</td>\n",
       "      <td>0.006906</td>\n",
       "      <td>0.008929</td>\n",
       "    </tr>\n",
       "  </tbody>\n",
       "</table><p>"
      ],
      "text/plain": [
       "<IPython.core.display.HTML object>"
      ]
     },
     "metadata": {},
     "output_type": "display_data"
    },
    {
     "data": {
      "text/html": [
       "\n",
       "    <div>\n",
       "      \n",
       "      <progress value='7' max='7' style='width:300px; height:20px; vertical-align: middle;'></progress>\n",
       "      [7/7 00:01]\n",
       "    </div>\n",
       "    "
      ],
      "text/plain": [
       "<IPython.core.display.HTML object>"
      ]
     },
     "metadata": {},
     "output_type": "display_data"
    },
    {
     "name": "stderr",
     "output_type": "stream",
     "text": [
      "[I 2025-07-27 10:04:46,795] Trial 6 finished with value: 0.9779735682819383 and parameters: {'hidden_dropout': 0.33630632133319716, 'attn_dropout': 0.15104578160814475, 'learning_rate': 2.6388129012401625e-05, 'weight_decay': 0.08376764568656594, 'batch_size': 16, 'grad_accum': 1, 'epochs': 7, 'warmup': 0.1400584945465813}. Best is trial 4 with value: 0.9779735682819383.\n",
      "Some weights of RobertaForSequenceClassification were not initialized from the model checkpoint at FacebookAI/roberta-base and are newly initialized: ['classifier.dense.bias', 'classifier.dense.weight', 'classifier.out_proj.bias', 'classifier.out_proj.weight']\n",
      "You should probably TRAIN this model on a down-stream task to be able to use it for predictions and inference.\n"
     ]
    },
    {
     "data": {
      "text/html": [
       "\n",
       "    <div>\n",
       "      \n",
       "      <progress value='155' max='155' style='width:300px; height:20px; vertical-align: middle;'></progress>\n",
       "      [155/155 02:09, Epoch 5/5]\n",
       "    </div>\n",
       "    <table border=\"1\" class=\"dataframe\">\n",
       "  <thead>\n",
       " <tr style=\"text-align: left;\">\n",
       "      <th>Step</th>\n",
       "      <th>Training Loss</th>\n",
       "      <th>Validation Loss</th>\n",
       "    </tr>\n",
       "  </thead>\n",
       "  <tbody>\n",
       "  </tbody>\n",
       "</table><p>"
      ],
      "text/plain": [
       "<IPython.core.display.HTML object>"
      ]
     },
     "metadata": {},
     "output_type": "display_data"
    },
    {
     "data": {
      "text/html": [
       "\n",
       "    <div>\n",
       "      \n",
       "      <progress value='7' max='7' style='width:300px; height:20px; vertical-align: middle;'></progress>\n",
       "      [7/7 00:01]\n",
       "    </div>\n",
       "    "
      ],
      "text/plain": [
       "<IPython.core.display.HTML object>"
      ]
     },
     "metadata": {},
     "output_type": "display_data"
    },
    {
     "name": "stderr",
     "output_type": "stream",
     "text": [
      "[I 2025-07-27 10:07:00,229] Trial 7 finished with value: 0.9606986899563319 and parameters: {'hidden_dropout': 0.3121226503940271, 'attn_dropout': 0.15872036750582208, 'learning_rate': 2.0281968064594603e-05, 'weight_decay': 0.0416731456055434, 'batch_size': 32, 'grad_accum': 2, 'epochs': 5, 'warmup': 0.09886023338964593}. Best is trial 4 with value: 0.9779735682819383.\n",
      "Some weights of RobertaForSequenceClassification were not initialized from the model checkpoint at FacebookAI/roberta-base and are newly initialized: ['classifier.dense.bias', 'classifier.dense.weight', 'classifier.out_proj.bias', 'classifier.out_proj.weight']\n",
      "You should probably TRAIN this model on a down-stream task to be able to use it for predictions and inference.\n"
     ]
    },
    {
     "data": {
      "text/html": [
       "\n",
       "    <div>\n",
       "      \n",
       "      <progress value='732' max='732' style='width:300px; height:20px; vertical-align: middle;'></progress>\n",
       "      [732/732 03:57, Epoch 6/6]\n",
       "    </div>\n",
       "    <table border=\"1\" class=\"dataframe\">\n",
       "  <thead>\n",
       " <tr style=\"text-align: left;\">\n",
       "      <th>Step</th>\n",
       "      <th>Training Loss</th>\n",
       "      <th>Validation Loss</th>\n",
       "      <th>Accuracy</th>\n",
       "      <th>F1 Weighted</th>\n",
       "      <th>Precision Weighted</th>\n",
       "      <th>Recall Weighted</th>\n",
       "      <th>Spam Precision</th>\n",
       "      <th>Spam Recall</th>\n",
       "      <th>Spam F1</th>\n",
       "      <th>Ham Precision</th>\n",
       "      <th>Ham Recall</th>\n",
       "      <th>Confusion Matrix</th>\n",
       "      <th>False Positive Rate</th>\n",
       "      <th>False Negative Rate</th>\n",
       "    </tr>\n",
       "  </thead>\n",
       "  <tbody>\n",
       "    <tr>\n",
       "      <td>200</td>\n",
       "      <td>No log</td>\n",
       "      <td>0.293065</td>\n",
       "      <td>0.989234</td>\n",
       "      <td>0.989214</td>\n",
       "      <td>0.989200</td>\n",
       "      <td>0.989234</td>\n",
       "      <td>0.963964</td>\n",
       "      <td>0.955357</td>\n",
       "      <td>0.959641</td>\n",
       "      <td>0.993103</td>\n",
       "      <td>0.994475</td>\n",
       "      <td>{'true_negatives': 720, 'false_positives': 4, 'false_negatives': 5, 'true_positives': 107}</td>\n",
       "      <td>0.005525</td>\n",
       "      <td>0.044643</td>\n",
       "    </tr>\n",
       "    <tr>\n",
       "      <td>400</td>\n",
       "      <td>No log</td>\n",
       "      <td>0.239198</td>\n",
       "      <td>0.979665</td>\n",
       "      <td>0.980197</td>\n",
       "      <td>0.981900</td>\n",
       "      <td>0.979665</td>\n",
       "      <td>0.874016</td>\n",
       "      <td>0.991071</td>\n",
       "      <td>0.928870</td>\n",
       "      <td>0.998590</td>\n",
       "      <td>0.977901</td>\n",
       "      <td>{'true_negatives': 708, 'false_positives': 16, 'false_negatives': 1, 'true_positives': 111}</td>\n",
       "      <td>0.022099</td>\n",
       "      <td>0.008929</td>\n",
       "    </tr>\n",
       "    <tr>\n",
       "      <td>600</td>\n",
       "      <td>0.381600</td>\n",
       "      <td>0.114231</td>\n",
       "      <td>0.995215</td>\n",
       "      <td>0.995233</td>\n",
       "      <td>0.995275</td>\n",
       "      <td>0.995215</td>\n",
       "      <td>0.973684</td>\n",
       "      <td>0.991071</td>\n",
       "      <td>0.982301</td>\n",
       "      <td>0.998615</td>\n",
       "      <td>0.995856</td>\n",
       "      <td>{'true_negatives': 721, 'false_positives': 3, 'false_negatives': 1, 'true_positives': 111}</td>\n",
       "      <td>0.004144</td>\n",
       "      <td>0.008929</td>\n",
       "    </tr>\n",
       "  </tbody>\n",
       "</table><p>"
      ],
      "text/plain": [
       "<IPython.core.display.HTML object>"
      ]
     },
     "metadata": {},
     "output_type": "display_data"
    },
    {
     "data": {
      "text/html": [
       "\n",
       "    <div>\n",
       "      \n",
       "      <progress value='7' max='7' style='width:300px; height:20px; vertical-align: middle;'></progress>\n",
       "      [7/7 00:01]\n",
       "    </div>\n",
       "    "
      ],
      "text/plain": [
       "<IPython.core.display.HTML object>"
      ]
     },
     "metadata": {},
     "output_type": "display_data"
    },
    {
     "name": "stderr",
     "output_type": "stream",
     "text": [
      "[I 2025-07-27 10:11:00,727] Trial 8 finished with value: 0.9823008849557523 and parameters: {'hidden_dropout': 0.3520095321182608, 'attn_dropout': 0.10661882421941633, 'learning_rate': 2.200538015747215e-05, 'weight_decay': 0.07565561130957736, 'batch_size': 16, 'grad_accum': 1, 'epochs': 6, 'warmup': 0.05202632223716014}. Best is trial 8 with value: 0.9823008849557523.\n",
      "Some weights of RobertaForSequenceClassification were not initialized from the model checkpoint at FacebookAI/roberta-base and are newly initialized: ['classifier.dense.bias', 'classifier.dense.weight', 'classifier.out_proj.bias', 'classifier.out_proj.weight']\n",
      "You should probably TRAIN this model on a down-stream task to be able to use it for predictions and inference.\n"
     ]
    },
    {
     "data": {
      "text/html": [
       "\n",
       "    <div>\n",
       "      \n",
       "      <progress value='976' max='976' style='width:300px; height:20px; vertical-align: middle;'></progress>\n",
       "      [976/976 05:15, Epoch 8/8]\n",
       "    </div>\n",
       "    <table border=\"1\" class=\"dataframe\">\n",
       "  <thead>\n",
       " <tr style=\"text-align: left;\">\n",
       "      <th>Step</th>\n",
       "      <th>Training Loss</th>\n",
       "      <th>Validation Loss</th>\n",
       "      <th>Accuracy</th>\n",
       "      <th>F1 Weighted</th>\n",
       "      <th>Precision Weighted</th>\n",
       "      <th>Recall Weighted</th>\n",
       "      <th>Spam Precision</th>\n",
       "      <th>Spam Recall</th>\n",
       "      <th>Spam F1</th>\n",
       "      <th>Ham Precision</th>\n",
       "      <th>Ham Recall</th>\n",
       "      <th>Confusion Matrix</th>\n",
       "      <th>False Positive Rate</th>\n",
       "      <th>False Negative Rate</th>\n",
       "    </tr>\n",
       "  </thead>\n",
       "  <tbody>\n",
       "    <tr>\n",
       "      <td>200</td>\n",
       "      <td>No log</td>\n",
       "      <td>0.195129</td>\n",
       "      <td>0.990431</td>\n",
       "      <td>0.990431</td>\n",
       "      <td>0.990431</td>\n",
       "      <td>0.990431</td>\n",
       "      <td>0.964286</td>\n",
       "      <td>0.964286</td>\n",
       "      <td>0.964286</td>\n",
       "      <td>0.994475</td>\n",
       "      <td>0.994475</td>\n",
       "      <td>{'true_negatives': 720, 'false_positives': 4, 'false_negatives': 4, 'true_positives': 108}</td>\n",
       "      <td>0.005525</td>\n",
       "      <td>0.035714</td>\n",
       "    </tr>\n",
       "    <tr>\n",
       "      <td>400</td>\n",
       "      <td>No log</td>\n",
       "      <td>0.183972</td>\n",
       "      <td>0.994019</td>\n",
       "      <td>0.994030</td>\n",
       "      <td>0.994048</td>\n",
       "      <td>0.994019</td>\n",
       "      <td>0.973451</td>\n",
       "      <td>0.982143</td>\n",
       "      <td>0.977778</td>\n",
       "      <td>0.997234</td>\n",
       "      <td>0.995856</td>\n",
       "      <td>{'true_negatives': 721, 'false_positives': 3, 'false_negatives': 2, 'true_positives': 110}</td>\n",
       "      <td>0.004144</td>\n",
       "      <td>0.017857</td>\n",
       "    </tr>\n",
       "    <tr>\n",
       "      <td>600</td>\n",
       "      <td>0.326100</td>\n",
       "      <td>0.101038</td>\n",
       "      <td>0.995215</td>\n",
       "      <td>0.995233</td>\n",
       "      <td>0.995275</td>\n",
       "      <td>0.995215</td>\n",
       "      <td>0.973684</td>\n",
       "      <td>0.991071</td>\n",
       "      <td>0.982301</td>\n",
       "      <td>0.998615</td>\n",
       "      <td>0.995856</td>\n",
       "      <td>{'true_negatives': 721, 'false_positives': 3, 'false_negatives': 1, 'true_positives': 111}</td>\n",
       "      <td>0.004144</td>\n",
       "      <td>0.008929</td>\n",
       "    </tr>\n",
       "    <tr>\n",
       "      <td>800</td>\n",
       "      <td>0.326100</td>\n",
       "      <td>0.085657</td>\n",
       "      <td>0.995215</td>\n",
       "      <td>0.995233</td>\n",
       "      <td>0.995275</td>\n",
       "      <td>0.995215</td>\n",
       "      <td>0.973684</td>\n",
       "      <td>0.991071</td>\n",
       "      <td>0.982301</td>\n",
       "      <td>0.998615</td>\n",
       "      <td>0.995856</td>\n",
       "      <td>{'true_negatives': 721, 'false_positives': 3, 'false_negatives': 1, 'true_positives': 111}</td>\n",
       "      <td>0.004144</td>\n",
       "      <td>0.008929</td>\n",
       "    </tr>\n",
       "  </tbody>\n",
       "</table><p>"
      ],
      "text/plain": [
       "<IPython.core.display.HTML object>"
      ]
     },
     "metadata": {},
     "output_type": "display_data"
    },
    {
     "data": {
      "text/html": [
       "\n",
       "    <div>\n",
       "      \n",
       "      <progress value='7' max='7' style='width:300px; height:20px; vertical-align: middle;'></progress>\n",
       "      [7/7 00:01]\n",
       "    </div>\n",
       "    "
      ],
      "text/plain": [
       "<IPython.core.display.HTML object>"
      ]
     },
     "metadata": {},
     "output_type": "display_data"
    },
    {
     "name": "stderr",
     "output_type": "stream",
     "text": [
      "[I 2025-07-27 10:16:18,731] Trial 9 finished with value: 0.9823008849557523 and parameters: {'hidden_dropout': 0.28474996922876944, 'attn_dropout': 0.11558320650216156, 'learning_rate': 1.6725363743262388e-05, 'weight_decay': 0.06521208341105217, 'batch_size': 16, 'grad_accum': 1, 'epochs': 8, 'warmup': 0.11664364858508561}. Best is trial 8 with value: 0.9823008849557523.\n",
      "Some weights of RobertaForSequenceClassification were not initialized from the model checkpoint at FacebookAI/roberta-base and are newly initialized: ['classifier.dense.bias', 'classifier.dense.weight', 'classifier.out_proj.bias', 'classifier.out_proj.weight']\n",
      "You should probably TRAIN this model on a down-stream task to be able to use it for predictions and inference.\n"
     ]
    },
    {
     "data": {
      "text/html": [
       "\n",
       "    <div>\n",
       "      \n",
       "      <progress value='366' max='366' style='width:300px; height:20px; vertical-align: middle;'></progress>\n",
       "      [366/366 01:56, Epoch 3/3]\n",
       "    </div>\n",
       "    <table border=\"1\" class=\"dataframe\">\n",
       "  <thead>\n",
       " <tr style=\"text-align: left;\">\n",
       "      <th>Step</th>\n",
       "      <th>Training Loss</th>\n",
       "      <th>Validation Loss</th>\n",
       "      <th>Accuracy</th>\n",
       "      <th>F1 Weighted</th>\n",
       "      <th>Precision Weighted</th>\n",
       "      <th>Recall Weighted</th>\n",
       "      <th>Spam Precision</th>\n",
       "      <th>Spam Recall</th>\n",
       "      <th>Spam F1</th>\n",
       "      <th>Ham Precision</th>\n",
       "      <th>Ham Recall</th>\n",
       "      <th>Confusion Matrix</th>\n",
       "      <th>False Positive Rate</th>\n",
       "      <th>False Negative Rate</th>\n",
       "    </tr>\n",
       "  </thead>\n",
       "  <tbody>\n",
       "    <tr>\n",
       "      <td>200</td>\n",
       "      <td>No log</td>\n",
       "      <td>0.296965</td>\n",
       "      <td>0.986842</td>\n",
       "      <td>0.986867</td>\n",
       "      <td>0.986897</td>\n",
       "      <td>0.986842</td>\n",
       "      <td>0.946903</td>\n",
       "      <td>0.955357</td>\n",
       "      <td>0.951111</td>\n",
       "      <td>0.993084</td>\n",
       "      <td>0.991713</td>\n",
       "      <td>{'true_negatives': 718, 'false_positives': 6, 'false_negatives': 5, 'true_positives': 107}</td>\n",
       "      <td>0.008287</td>\n",
       "      <td>0.044643</td>\n",
       "    </tr>\n",
       "  </tbody>\n",
       "</table><p>"
      ],
      "text/plain": [
       "<IPython.core.display.HTML object>"
      ]
     },
     "metadata": {},
     "output_type": "display_data"
    },
    {
     "data": {
      "text/html": [
       "\n",
       "    <div>\n",
       "      \n",
       "      <progress value='7' max='7' style='width:300px; height:20px; vertical-align: middle;'></progress>\n",
       "      [7/7 00:01]\n",
       "    </div>\n",
       "    "
      ],
      "text/plain": [
       "<IPython.core.display.HTML object>"
      ]
     },
     "metadata": {},
     "output_type": "display_data"
    },
    {
     "name": "stderr",
     "output_type": "stream",
     "text": [
      "[I 2025-07-27 10:18:17,987] Trial 10 finished with value: 0.9511111111111111 and parameters: {'hidden_dropout': 0.39767315251127394, 'attn_dropout': 0.1013243976797314, 'learning_rate': 2.4998709866388944e-05, 'weight_decay': 0.033147218500017436, 'batch_size': 16, 'grad_accum': 1, 'epochs': 3, 'warmup': 0.05549358435884668}. Best is trial 8 with value: 0.9823008849557523.\n",
      "Some weights of RobertaForSequenceClassification were not initialized from the model checkpoint at FacebookAI/roberta-base and are newly initialized: ['classifier.dense.bias', 'classifier.dense.weight', 'classifier.out_proj.bias', 'classifier.out_proj.weight']\n",
      "You should probably TRAIN this model on a down-stream task to be able to use it for predictions and inference.\n"
     ]
    },
    {
     "data": {
      "text/html": [
       "\n",
       "    <div>\n",
       "      \n",
       "      <progress value='366' max='366' style='width:300px; height:20px; vertical-align: middle;'></progress>\n",
       "      [366/366 01:58, Epoch 3/3]\n",
       "    </div>\n",
       "    <table border=\"1\" class=\"dataframe\">\n",
       "  <thead>\n",
       " <tr style=\"text-align: left;\">\n",
       "      <th>Step</th>\n",
       "      <th>Training Loss</th>\n",
       "      <th>Validation Loss</th>\n",
       "      <th>Accuracy</th>\n",
       "      <th>F1 Weighted</th>\n",
       "      <th>Precision Weighted</th>\n",
       "      <th>Recall Weighted</th>\n",
       "      <th>Spam Precision</th>\n",
       "      <th>Spam Recall</th>\n",
       "      <th>Spam F1</th>\n",
       "      <th>Ham Precision</th>\n",
       "      <th>Ham Recall</th>\n",
       "      <th>Confusion Matrix</th>\n",
       "      <th>False Positive Rate</th>\n",
       "      <th>False Negative Rate</th>\n",
       "    </tr>\n",
       "  </thead>\n",
       "  <tbody>\n",
       "    <tr>\n",
       "      <td>200</td>\n",
       "      <td>No log</td>\n",
       "      <td>0.126972</td>\n",
       "      <td>0.990431</td>\n",
       "      <td>0.990536</td>\n",
       "      <td>0.990846</td>\n",
       "      <td>0.990431</td>\n",
       "      <td>0.940678</td>\n",
       "      <td>0.991071</td>\n",
       "      <td>0.965217</td>\n",
       "      <td>0.998607</td>\n",
       "      <td>0.990331</td>\n",
       "      <td>{'true_negatives': 717, 'false_positives': 7, 'false_negatives': 1, 'true_positives': 111}</td>\n",
       "      <td>0.009669</td>\n",
       "      <td>0.008929</td>\n",
       "    </tr>\n",
       "  </tbody>\n",
       "</table><p>"
      ],
      "text/plain": [
       "<IPython.core.display.HTML object>"
      ]
     },
     "metadata": {},
     "output_type": "display_data"
    },
    {
     "data": {
      "text/html": [
       "\n",
       "    <div>\n",
       "      \n",
       "      <progress value='7' max='7' style='width:300px; height:20px; vertical-align: middle;'></progress>\n",
       "      [7/7 00:01]\n",
       "    </div>\n",
       "    "
      ],
      "text/plain": [
       "<IPython.core.display.HTML object>"
      ]
     },
     "metadata": {},
     "output_type": "display_data"
    },
    {
     "name": "stderr",
     "output_type": "stream",
     "text": [
      "[I 2025-07-27 10:20:19,157] Trial 11 finished with value: 0.9652173913043479 and parameters: {'hidden_dropout': 0.2281153319109438, 'attn_dropout': 0.10095148264405933, 'learning_rate': 1.56541883654463e-05, 'weight_decay': 0.01724922859987496, 'batch_size': 16, 'grad_accum': 1, 'epochs': 3, 'warmup': 0.0523067037925652}. Best is trial 8 with value: 0.9823008849557523.\n",
      "Some weights of RobertaForSequenceClassification were not initialized from the model checkpoint at FacebookAI/roberta-base and are newly initialized: ['classifier.dense.bias', 'classifier.dense.weight', 'classifier.out_proj.bias', 'classifier.out_proj.weight']\n",
      "You should probably TRAIN this model on a down-stream task to be able to use it for predictions and inference.\n"
     ]
    },
    {
     "data": {
      "text/html": [
       "\n",
       "    <div>\n",
       "      \n",
       "      <progress value='732' max='732' style='width:300px; height:20px; vertical-align: middle;'></progress>\n",
       "      [732/732 03:58, Epoch 6/6]\n",
       "    </div>\n",
       "    <table border=\"1\" class=\"dataframe\">\n",
       "  <thead>\n",
       " <tr style=\"text-align: left;\">\n",
       "      <th>Step</th>\n",
       "      <th>Training Loss</th>\n",
       "      <th>Validation Loss</th>\n",
       "      <th>Accuracy</th>\n",
       "      <th>F1 Weighted</th>\n",
       "      <th>Precision Weighted</th>\n",
       "      <th>Recall Weighted</th>\n",
       "      <th>Spam Precision</th>\n",
       "      <th>Spam Recall</th>\n",
       "      <th>Spam F1</th>\n",
       "      <th>Ham Precision</th>\n",
       "      <th>Ham Recall</th>\n",
       "      <th>Confusion Matrix</th>\n",
       "      <th>False Positive Rate</th>\n",
       "      <th>False Negative Rate</th>\n",
       "    </tr>\n",
       "  </thead>\n",
       "  <tbody>\n",
       "    <tr>\n",
       "      <td>200</td>\n",
       "      <td>No log</td>\n",
       "      <td>0.115896</td>\n",
       "      <td>0.990431</td>\n",
       "      <td>0.990536</td>\n",
       "      <td>0.990846</td>\n",
       "      <td>0.990431</td>\n",
       "      <td>0.940678</td>\n",
       "      <td>0.991071</td>\n",
       "      <td>0.965217</td>\n",
       "      <td>0.998607</td>\n",
       "      <td>0.990331</td>\n",
       "      <td>{'true_negatives': 717, 'false_positives': 7, 'false_negatives': 1, 'true_positives': 111}</td>\n",
       "      <td>0.009669</td>\n",
       "      <td>0.008929</td>\n",
       "    </tr>\n",
       "    <tr>\n",
       "      <td>400</td>\n",
       "      <td>No log</td>\n",
       "      <td>0.202218</td>\n",
       "      <td>0.991627</td>\n",
       "      <td>0.991673</td>\n",
       "      <td>0.991773</td>\n",
       "      <td>0.991627</td>\n",
       "      <td>0.956522</td>\n",
       "      <td>0.982143</td>\n",
       "      <td>0.969163</td>\n",
       "      <td>0.997226</td>\n",
       "      <td>0.993094</td>\n",
       "      <td>{'true_negatives': 719, 'false_positives': 5, 'false_negatives': 2, 'true_positives': 110}</td>\n",
       "      <td>0.006906</td>\n",
       "      <td>0.017857</td>\n",
       "    </tr>\n",
       "    <tr>\n",
       "      <td>600</td>\n",
       "      <td>0.270700</td>\n",
       "      <td>0.144489</td>\n",
       "      <td>0.990431</td>\n",
       "      <td>0.990536</td>\n",
       "      <td>0.990846</td>\n",
       "      <td>0.990431</td>\n",
       "      <td>0.940678</td>\n",
       "      <td>0.991071</td>\n",
       "      <td>0.965217</td>\n",
       "      <td>0.998607</td>\n",
       "      <td>0.990331</td>\n",
       "      <td>{'true_negatives': 717, 'false_positives': 7, 'false_negatives': 1, 'true_positives': 111}</td>\n",
       "      <td>0.009669</td>\n",
       "      <td>0.008929</td>\n",
       "    </tr>\n",
       "  </tbody>\n",
       "</table><p>"
      ],
      "text/plain": [
       "<IPython.core.display.HTML object>"
      ]
     },
     "metadata": {},
     "output_type": "display_data"
    },
    {
     "data": {
      "text/html": [
       "\n",
       "    <div>\n",
       "      \n",
       "      <progress value='7' max='7' style='width:300px; height:20px; vertical-align: middle;'></progress>\n",
       "      [7/7 00:01]\n",
       "    </div>\n",
       "    "
      ],
      "text/plain": [
       "<IPython.core.display.HTML object>"
      ]
     },
     "metadata": {},
     "output_type": "display_data"
    },
    {
     "name": "stderr",
     "output_type": "stream",
     "text": [
      "[I 2025-07-27 10:24:20,658] Trial 12 finished with value: 0.9691629955947136 and parameters: {'hidden_dropout': 0.26833113745663717, 'attn_dropout': 0.11929848881255058, 'learning_rate': 1.5666032554379137e-05, 'weight_decay': 0.06847286633386497, 'batch_size': 16, 'grad_accum': 1, 'epochs': 6, 'warmup': 0.0753059125496}. Best is trial 8 with value: 0.9823008849557523.\n",
      "Some weights of RobertaForSequenceClassification were not initialized from the model checkpoint at FacebookAI/roberta-base and are newly initialized: ['classifier.dense.bias', 'classifier.dense.weight', 'classifier.out_proj.bias', 'classifier.out_proj.weight']\n",
      "You should probably TRAIN this model on a down-stream task to be able to use it for predictions and inference.\n"
     ]
    },
    {
     "data": {
      "text/html": [
       "\n",
       "    <div>\n",
       "      \n",
       "      <progress value='976' max='976' style='width:300px; height:20px; vertical-align: middle;'></progress>\n",
       "      [976/976 05:15, Epoch 8/8]\n",
       "    </div>\n",
       "    <table border=\"1\" class=\"dataframe\">\n",
       "  <thead>\n",
       " <tr style=\"text-align: left;\">\n",
       "      <th>Step</th>\n",
       "      <th>Training Loss</th>\n",
       "      <th>Validation Loss</th>\n",
       "      <th>Accuracy</th>\n",
       "      <th>F1 Weighted</th>\n",
       "      <th>Precision Weighted</th>\n",
       "      <th>Recall Weighted</th>\n",
       "      <th>Spam Precision</th>\n",
       "      <th>Spam Recall</th>\n",
       "      <th>Spam F1</th>\n",
       "      <th>Ham Precision</th>\n",
       "      <th>Ham Recall</th>\n",
       "      <th>Confusion Matrix</th>\n",
       "      <th>False Positive Rate</th>\n",
       "      <th>False Negative Rate</th>\n",
       "    </tr>\n",
       "  </thead>\n",
       "  <tbody>\n",
       "    <tr>\n",
       "      <td>200</td>\n",
       "      <td>No log</td>\n",
       "      <td>0.194370</td>\n",
       "      <td>0.991627</td>\n",
       "      <td>0.991673</td>\n",
       "      <td>0.991773</td>\n",
       "      <td>0.991627</td>\n",
       "      <td>0.956522</td>\n",
       "      <td>0.982143</td>\n",
       "      <td>0.969163</td>\n",
       "      <td>0.997226</td>\n",
       "      <td>0.993094</td>\n",
       "      <td>{'true_negatives': 719, 'false_positives': 5, 'false_negatives': 2, 'true_positives': 110}</td>\n",
       "      <td>0.006906</td>\n",
       "      <td>0.017857</td>\n",
       "    </tr>\n",
       "    <tr>\n",
       "      <td>400</td>\n",
       "      <td>No log</td>\n",
       "      <td>0.108609</td>\n",
       "      <td>0.994019</td>\n",
       "      <td>0.994052</td>\n",
       "      <td>0.994139</td>\n",
       "      <td>0.994019</td>\n",
       "      <td>0.965217</td>\n",
       "      <td>0.991071</td>\n",
       "      <td>0.977974</td>\n",
       "      <td>0.998613</td>\n",
       "      <td>0.994475</td>\n",
       "      <td>{'true_negatives': 720, 'false_positives': 4, 'false_negatives': 1, 'true_positives': 111}</td>\n",
       "      <td>0.005525</td>\n",
       "      <td>0.008929</td>\n",
       "    </tr>\n",
       "    <tr>\n",
       "      <td>600</td>\n",
       "      <td>0.295400</td>\n",
       "      <td>0.140799</td>\n",
       "      <td>0.994019</td>\n",
       "      <td>0.994030</td>\n",
       "      <td>0.994048</td>\n",
       "      <td>0.994019</td>\n",
       "      <td>0.973451</td>\n",
       "      <td>0.982143</td>\n",
       "      <td>0.977778</td>\n",
       "      <td>0.997234</td>\n",
       "      <td>0.995856</td>\n",
       "      <td>{'true_negatives': 721, 'false_positives': 3, 'false_negatives': 2, 'true_positives': 110}</td>\n",
       "      <td>0.004144</td>\n",
       "      <td>0.017857</td>\n",
       "    </tr>\n",
       "    <tr>\n",
       "      <td>800</td>\n",
       "      <td>0.295400</td>\n",
       "      <td>0.164862</td>\n",
       "      <td>0.996411</td>\n",
       "      <td>0.996405</td>\n",
       "      <td>0.996404</td>\n",
       "      <td>0.996411</td>\n",
       "      <td>0.990991</td>\n",
       "      <td>0.982143</td>\n",
       "      <td>0.986547</td>\n",
       "      <td>0.997241</td>\n",
       "      <td>0.998619</td>\n",
       "      <td>{'true_negatives': 723, 'false_positives': 1, 'false_negatives': 2, 'true_positives': 110}</td>\n",
       "      <td>0.001381</td>\n",
       "      <td>0.017857</td>\n",
       "    </tr>\n",
       "  </tbody>\n",
       "</table><p>"
      ],
      "text/plain": [
       "<IPython.core.display.HTML object>"
      ]
     },
     "metadata": {},
     "output_type": "display_data"
    },
    {
     "data": {
      "text/html": [
       "\n",
       "    <div>\n",
       "      \n",
       "      <progress value='7' max='7' style='width:300px; height:20px; vertical-align: middle;'></progress>\n",
       "      [7/7 00:01]\n",
       "    </div>\n",
       "    "
      ],
      "text/plain": [
       "<IPython.core.display.HTML object>"
      ]
     },
     "metadata": {},
     "output_type": "display_data"
    },
    {
     "name": "stderr",
     "output_type": "stream",
     "text": [
      "[I 2025-07-27 10:29:39,312] Trial 13 finished with value: 0.9865470852017937 and parameters: {'hidden_dropout': 0.20291736458414722, 'attn_dropout': 0.11848231738315876, 'learning_rate': 2.3801104478354158e-05, 'weight_decay': 0.06251038184274911, 'batch_size': 16, 'grad_accum': 1, 'epochs': 8, 'warmup': 0.10760084868802057}. Best is trial 13 with value: 0.9865470852017937.\n",
      "Some weights of RobertaForSequenceClassification were not initialized from the model checkpoint at FacebookAI/roberta-base and are newly initialized: ['classifier.dense.bias', 'classifier.dense.weight', 'classifier.out_proj.bias', 'classifier.out_proj.weight']\n",
      "You should probably TRAIN this model on a down-stream task to be able to use it for predictions and inference.\n"
     ]
    },
    {
     "data": {
      "text/html": [
       "\n",
       "    <div>\n",
       "      \n",
       "      <progress value='488' max='488' style='width:300px; height:20px; vertical-align: middle;'></progress>\n",
       "      [488/488 02:39, Epoch 4/4]\n",
       "    </div>\n",
       "    <table border=\"1\" class=\"dataframe\">\n",
       "  <thead>\n",
       " <tr style=\"text-align: left;\">\n",
       "      <th>Step</th>\n",
       "      <th>Training Loss</th>\n",
       "      <th>Validation Loss</th>\n",
       "      <th>Accuracy</th>\n",
       "      <th>F1 Weighted</th>\n",
       "      <th>Precision Weighted</th>\n",
       "      <th>Recall Weighted</th>\n",
       "      <th>Spam Precision</th>\n",
       "      <th>Spam Recall</th>\n",
       "      <th>Spam F1</th>\n",
       "      <th>Ham Precision</th>\n",
       "      <th>Ham Recall</th>\n",
       "      <th>Confusion Matrix</th>\n",
       "      <th>False Positive Rate</th>\n",
       "      <th>False Negative Rate</th>\n",
       "    </tr>\n",
       "  </thead>\n",
       "  <tbody>\n",
       "    <tr>\n",
       "      <td>200</td>\n",
       "      <td>No log</td>\n",
       "      <td>0.227545</td>\n",
       "      <td>0.991627</td>\n",
       "      <td>0.991643</td>\n",
       "      <td>0.991664</td>\n",
       "      <td>0.991627</td>\n",
       "      <td>0.964602</td>\n",
       "      <td>0.973214</td>\n",
       "      <td>0.968889</td>\n",
       "      <td>0.995851</td>\n",
       "      <td>0.994475</td>\n",
       "      <td>{'true_negatives': 720, 'false_positives': 4, 'false_negatives': 3, 'true_positives': 109}</td>\n",
       "      <td>0.005525</td>\n",
       "      <td>0.026786</td>\n",
       "    </tr>\n",
       "    <tr>\n",
       "      <td>400</td>\n",
       "      <td>No log</td>\n",
       "      <td>0.168041</td>\n",
       "      <td>0.994019</td>\n",
       "      <td>0.994008</td>\n",
       "      <td>0.994003</td>\n",
       "      <td>0.994019</td>\n",
       "      <td>0.981982</td>\n",
       "      <td>0.973214</td>\n",
       "      <td>0.977578</td>\n",
       "      <td>0.995862</td>\n",
       "      <td>0.997238</td>\n",
       "      <td>{'true_negatives': 722, 'false_positives': 2, 'false_negatives': 3, 'true_positives': 109}</td>\n",
       "      <td>0.002762</td>\n",
       "      <td>0.026786</td>\n",
       "    </tr>\n",
       "  </tbody>\n",
       "</table><p>"
      ],
      "text/plain": [
       "<IPython.core.display.HTML object>"
      ]
     },
     "metadata": {},
     "output_type": "display_data"
    },
    {
     "data": {
      "text/html": [
       "\n",
       "    <div>\n",
       "      \n",
       "      <progress value='7' max='7' style='width:300px; height:20px; vertical-align: middle;'></progress>\n",
       "      [7/7 00:01]\n",
       "    </div>\n",
       "    "
      ],
      "text/plain": [
       "<IPython.core.display.HTML object>"
      ]
     },
     "metadata": {},
     "output_type": "display_data"
    },
    {
     "name": "stderr",
     "output_type": "stream",
     "text": [
      "[I 2025-07-27 10:32:21,810] Trial 14 finished with value: 0.9775784753363228 and parameters: {'hidden_dropout': 0.20365811698329725, 'attn_dropout': 0.13268441896780592, 'learning_rate': 2.4885848223101373e-05, 'weight_decay': 0.04046791857903006, 'batch_size': 16, 'grad_accum': 1, 'epochs': 4, 'warmup': 0.09936655000180103}. Best is trial 13 with value: 0.9865470852017937.\n"
     ]
    }
   ],
   "source": [
    "study = optuna.create_study(direction=\"maximize\")\n",
    "study.optimize(objective, n_trials=15)\n",
    "\n",
    "best_params = study.best_params"
   ]
  },
  {
   "cell_type": "markdown",
   "id": "85a4fd97",
   "metadata": {
    "papermill": {
     "duration": 0.028597,
     "end_time": "2025-07-27T10:32:21.876224",
     "exception": false,
     "start_time": "2025-07-27T10:32:21.847627",
     "status": "completed"
    },
    "tags": []
   },
   "source": [
    "## Train the model with best hyperparameters"
   ]
  },
  {
   "cell_type": "code",
   "execution_count": 33,
   "id": "4a48f039",
   "metadata": {
    "execution": {
     "iopub.execute_input": "2025-07-27T10:32:21.943405Z",
     "iopub.status.busy": "2025-07-27T10:32:21.943124Z",
     "iopub.status.idle": "2025-07-27T10:32:21.947284Z",
     "shell.execute_reply": "2025-07-27T10:32:21.946687Z"
    },
    "papermill": {
     "duration": 0.034924,
     "end_time": "2025-07-27T10:32:21.948240",
     "exception": false,
     "start_time": "2025-07-27T10:32:21.913316",
     "status": "completed"
    },
    "tags": []
   },
   "outputs": [],
   "source": [
    "best_model_params = {\n",
    "        \"hidden_dropout_prob\": best_params[\"hidden_dropout\"],\n",
    "        \"attention_probs_dropout_prob\": best_params[\"attn_dropout\"]\n",
    "}\n",
    "\n",
    "best_training_params = {\n",
    "        \"learning_rate\": best_params[\"learning_rate\"],\n",
    "        \"weight_decay\": best_params[\"weight_decay\"],\n",
    "        \"per_device_train_batch_size\": best_params[\"batch_size\"],\n",
    "        \"gradient_accumulation_steps\": best_params[\"grad_accum\"],\n",
    "        \"num_train_epochs\": best_params[\"epochs\"],\n",
    "        \"warmup_ratio\": best_params[\"warmup\"]\n",
    "}"
   ]
  },
  {
   "cell_type": "code",
   "execution_count": 34,
   "id": "35d2a98e",
   "metadata": {
    "execution": {
     "iopub.execute_input": "2025-07-27T10:32:22.006197Z",
     "iopub.status.busy": "2025-07-27T10:32:22.005986Z",
     "iopub.status.idle": "2025-07-27T10:32:22.293205Z",
     "shell.execute_reply": "2025-07-27T10:32:22.292453Z"
    },
    "papermill": {
     "duration": 0.317412,
     "end_time": "2025-07-27T10:32:22.294452",
     "exception": false,
     "start_time": "2025-07-27T10:32:21.977040",
     "status": "completed"
    },
    "tags": []
   },
   "outputs": [
    {
     "name": "stderr",
     "output_type": "stream",
     "text": [
      "Some weights of RobertaForSequenceClassification were not initialized from the model checkpoint at FacebookAI/roberta-base and are newly initialized: ['classifier.dense.bias', 'classifier.dense.weight', 'classifier.out_proj.bias', 'classifier.out_proj.weight']\n",
      "You should probably TRAIN this model on a down-stream task to be able to use it for predictions and inference.\n"
     ]
    }
   ],
   "source": [
    "model = RobertaForSequenceClassification.from_pretrained(\n",
    "            'FacebookAI/roberta-base',\n",
    "            num_labels=2,\n",
    "            id2label={0: \"ham\", 1: \"spam\"},\n",
    "            **best_model_params\n",
    ")"
   ]
  },
  {
   "cell_type": "code",
   "execution_count": 35,
   "id": "1a4f9a65",
   "metadata": {
    "execution": {
     "iopub.execute_input": "2025-07-27T10:32:22.354186Z",
     "iopub.status.busy": "2025-07-27T10:32:22.353921Z",
     "iopub.status.idle": "2025-07-27T10:32:22.387318Z",
     "shell.execute_reply": "2025-07-27T10:32:22.386322Z"
    },
    "papermill": {
     "duration": 0.064447,
     "end_time": "2025-07-27T10:32:22.388583",
     "exception": false,
     "start_time": "2025-07-27T10:32:22.324136",
     "status": "completed"
    },
    "tags": []
   },
   "outputs": [],
   "source": [
    "training_args = TrainingArguments(\n",
    "    output_dir='/kaggle/working/results',\n",
    "    eval_strategy=\"steps\",\n",
    "    eval_steps=200,\n",
    "    save_strategy=\"steps\",\n",
    "    save_steps=200,\n",
    "    metric_for_best_model=\"eval_spam_f1\",\n",
    "    greater_is_better=True,\n",
    "    load_best_model_at_end=True,\n",
    "    fp16=True,\n",
    "    per_device_eval_batch_size=64,\n",
    "    report_to=\"none\",\n",
    "    logging_steps=50,\n",
    "    logging_dir='/kaggle/working/logs',\n",
    "    save_total_limit=2,\n",
    "    **best_training_params,\n",
    ")"
   ]
  },
  {
   "cell_type": "code",
   "execution_count": 36,
   "id": "8faebfd5",
   "metadata": {
    "execution": {
     "iopub.execute_input": "2025-07-27T10:32:22.448794Z",
     "iopub.status.busy": "2025-07-27T10:32:22.448539Z",
     "iopub.status.idle": "2025-07-27T10:32:22.640940Z",
     "shell.execute_reply": "2025-07-27T10:32:22.640374Z"
    },
    "papermill": {
     "duration": 0.223617,
     "end_time": "2025-07-27T10:32:22.642214",
     "exception": false,
     "start_time": "2025-07-27T10:32:22.418597",
     "status": "completed"
    },
    "tags": []
   },
   "outputs": [],
   "source": [
    "trainer = WeightedTrainer(\n",
    "    model=model,\n",
    "    args=training_args,\n",
    "    train_dataset=train_dataset,\n",
    "    eval_dataset=val_dataset,\n",
    "    data_collator=data_collator,\n",
    "    compute_metrics=compute_metrics,\n",
    "    class_weights=class_weights\n",
    ")"
   ]
  },
  {
   "cell_type": "code",
   "execution_count": 37,
   "id": "bf30334c",
   "metadata": {
    "execution": {
     "iopub.execute_input": "2025-07-27T10:32:22.702522Z",
     "iopub.status.busy": "2025-07-27T10:32:22.702268Z",
     "iopub.status.idle": "2025-07-27T10:37:30.005032Z",
     "shell.execute_reply": "2025-07-27T10:37:30.004381Z"
    },
    "papermill": {
     "duration": 307.333546,
     "end_time": "2025-07-27T10:37:30.006273",
     "exception": false,
     "start_time": "2025-07-27T10:32:22.672727",
     "status": "completed"
    },
    "tags": []
   },
   "outputs": [
    {
     "data": {
      "text/html": [
       "\n",
       "    <div>\n",
       "      \n",
       "      <progress value='976' max='976' style='width:300px; height:20px; vertical-align: middle;'></progress>\n",
       "      [976/976 05:06, Epoch 8/8]\n",
       "    </div>\n",
       "    <table border=\"1\" class=\"dataframe\">\n",
       "  <thead>\n",
       " <tr style=\"text-align: left;\">\n",
       "      <th>Step</th>\n",
       "      <th>Training Loss</th>\n",
       "      <th>Validation Loss</th>\n",
       "      <th>Accuracy</th>\n",
       "      <th>F1 Weighted</th>\n",
       "      <th>Precision Weighted</th>\n",
       "      <th>Recall Weighted</th>\n",
       "      <th>Spam Precision</th>\n",
       "      <th>Spam Recall</th>\n",
       "      <th>Spam F1</th>\n",
       "      <th>Ham Precision</th>\n",
       "      <th>Ham Recall</th>\n",
       "      <th>Confusion Matrix</th>\n",
       "      <th>False Positive Rate</th>\n",
       "      <th>False Negative Rate</th>\n",
       "    </tr>\n",
       "  </thead>\n",
       "  <tbody>\n",
       "    <tr>\n",
       "      <td>200</td>\n",
       "      <td>0.289100</td>\n",
       "      <td>0.613491</td>\n",
       "      <td>0.988038</td>\n",
       "      <td>0.987898</td>\n",
       "      <td>0.987982</td>\n",
       "      <td>0.988038</td>\n",
       "      <td>0.981132</td>\n",
       "      <td>0.928571</td>\n",
       "      <td>0.954128</td>\n",
       "      <td>0.989041</td>\n",
       "      <td>0.997238</td>\n",
       "      <td>{'true_negatives': 722, 'false_positives': 2, 'false_negatives': 8, 'true_positives': 104}</td>\n",
       "      <td>0.002762</td>\n",
       "      <td>0.071429</td>\n",
       "    </tr>\n",
       "    <tr>\n",
       "      <td>400</td>\n",
       "      <td>0.235400</td>\n",
       "      <td>0.235773</td>\n",
       "      <td>0.992823</td>\n",
       "      <td>0.992796</td>\n",
       "      <td>0.992793</td>\n",
       "      <td>0.992823</td>\n",
       "      <td>0.981818</td>\n",
       "      <td>0.964286</td>\n",
       "      <td>0.972973</td>\n",
       "      <td>0.994490</td>\n",
       "      <td>0.997238</td>\n",
       "      <td>{'true_negatives': 722, 'false_positives': 2, 'false_negatives': 4, 'true_positives': 108}</td>\n",
       "      <td>0.002762</td>\n",
       "      <td>0.035714</td>\n",
       "    </tr>\n",
       "    <tr>\n",
       "      <td>600</td>\n",
       "      <td>0.170700</td>\n",
       "      <td>0.273802</td>\n",
       "      <td>0.994019</td>\n",
       "      <td>0.993985</td>\n",
       "      <td>0.994006</td>\n",
       "      <td>0.994019</td>\n",
       "      <td>0.990826</td>\n",
       "      <td>0.964286</td>\n",
       "      <td>0.977376</td>\n",
       "      <td>0.994498</td>\n",
       "      <td>0.998619</td>\n",
       "      <td>{'true_negatives': 723, 'false_positives': 1, 'false_negatives': 4, 'true_positives': 108}</td>\n",
       "      <td>0.001381</td>\n",
       "      <td>0.035714</td>\n",
       "    </tr>\n",
       "    <tr>\n",
       "      <td>800</td>\n",
       "      <td>0.089000</td>\n",
       "      <td>0.110762</td>\n",
       "      <td>0.995215</td>\n",
       "      <td>0.995233</td>\n",
       "      <td>0.995275</td>\n",
       "      <td>0.995215</td>\n",
       "      <td>0.973684</td>\n",
       "      <td>0.991071</td>\n",
       "      <td>0.982301</td>\n",
       "      <td>0.998615</td>\n",
       "      <td>0.995856</td>\n",
       "      <td>{'true_negatives': 721, 'false_positives': 3, 'false_negatives': 1, 'true_positives': 111}</td>\n",
       "      <td>0.004144</td>\n",
       "      <td>0.008929</td>\n",
       "    </tr>\n",
       "  </tbody>\n",
       "</table><p>"
      ],
      "text/plain": [
       "<IPython.core.display.HTML object>"
      ]
     },
     "metadata": {},
     "output_type": "display_data"
    },
    {
     "data": {
      "text/plain": [
       "TrainOutput(global_step=976, training_loss=0.19591089490262914, metrics={'train_runtime': 306.8147, 'train_samples_per_second': 101.69, 'train_steps_per_second': 3.181, 'total_flos': 888419145084480.0, 'train_loss': 0.19591089490262914, 'epoch': 8.0})"
      ]
     },
     "execution_count": 37,
     "metadata": {},
     "output_type": "execute_result"
    }
   ],
   "source": [
    "# Start training (with class weights)\n",
    "trainer.train()"
   ]
  },
  {
   "cell_type": "markdown",
   "id": "9d68c9fe",
   "metadata": {
    "papermill": {
     "duration": 0.028771,
     "end_time": "2025-07-27T10:37:30.065395",
     "exception": false,
     "start_time": "2025-07-27T10:37:30.036624",
     "status": "completed"
    },
    "tags": []
   },
   "source": [
    "## Save the model"
   ]
  },
  {
   "cell_type": "code",
   "execution_count": 38,
   "id": "a0146281",
   "metadata": {
    "execution": {
     "iopub.execute_input": "2025-07-27T10:37:30.123366Z",
     "iopub.status.busy": "2025-07-27T10:37:30.123123Z",
     "iopub.status.idle": "2025-07-27T10:37:31.472222Z",
     "shell.execute_reply": "2025-07-27T10:37:31.471457Z"
    },
    "papermill": {
     "duration": 1.379737,
     "end_time": "2025-07-27T10:37:31.473478",
     "exception": false,
     "start_time": "2025-07-27T10:37:30.093741",
     "status": "completed"
    },
    "tags": []
   },
   "outputs": [
    {
     "data": {
      "text/plain": [
       "('best_spam_classifier_tokenizer/tokenizer_config.json',\n",
       " 'best_spam_classifier_tokenizer/special_tokens_map.json',\n",
       " 'best_spam_classifier_tokenizer/vocab.json',\n",
       " 'best_spam_classifier_tokenizer/merges.txt',\n",
       " 'best_spam_classifier_tokenizer/added_tokens.json')"
      ]
     },
     "execution_count": 38,
     "metadata": {},
     "output_type": "execute_result"
    }
   ],
   "source": [
    "# Save the best model (based on eval_spam_f1)\n",
    "trainer.save_model(\"best_spam_classifier_model\")\n",
    "tokenizer.save_pretrained(\"best_spam_classifier_tokenizer\")"
   ]
  },
  {
   "cell_type": "markdown",
   "id": "70a4b16a",
   "metadata": {
    "papermill": {
     "duration": 0.029006,
     "end_time": "2025-07-27T10:37:31.532594",
     "exception": false,
     "start_time": "2025-07-27T10:37:31.503588",
     "status": "completed"
    },
    "tags": []
   },
   "source": [
    "## Model Evaluation"
   ]
  },
  {
   "cell_type": "code",
   "execution_count": 39,
   "id": "1d6ba159",
   "metadata": {
    "execution": {
     "iopub.execute_input": "2025-07-27T10:37:31.592095Z",
     "iopub.status.busy": "2025-07-27T10:37:31.591818Z",
     "iopub.status.idle": "2025-07-27T10:37:33.266492Z",
     "shell.execute_reply": "2025-07-27T10:37:33.265927Z"
    },
    "papermill": {
     "duration": 1.705683,
     "end_time": "2025-07-27T10:37:33.267612",
     "exception": false,
     "start_time": "2025-07-27T10:37:31.561929",
     "status": "completed"
    },
    "tags": []
   },
   "outputs": [
    {
     "data": {
      "text/html": [
       "\n",
       "    <div>\n",
       "      \n",
       "      <progress value='7' max='7' style='width:300px; height:20px; vertical-align: middle;'></progress>\n",
       "      [7/7 00:01]\n",
       "    </div>\n",
       "    "
      ],
      "text/plain": [
       "<IPython.core.display.HTML object>"
      ]
     },
     "metadata": {},
     "output_type": "display_data"
    }
   ],
   "source": [
    "# Evaluate on test set\n",
    "test_results = trainer.evaluate(test_dataset)"
   ]
  },
  {
   "cell_type": "code",
   "execution_count": 40,
   "id": "80776e90",
   "metadata": {
    "execution": {
     "iopub.execute_input": "2025-07-27T10:37:33.328713Z",
     "iopub.status.busy": "2025-07-27T10:37:33.328213Z",
     "iopub.status.idle": "2025-07-27T10:37:33.333527Z",
     "shell.execute_reply": "2025-07-27T10:37:33.332981Z"
    },
    "papermill": {
     "duration": 0.036168,
     "end_time": "2025-07-27T10:37:33.334512",
     "exception": false,
     "start_time": "2025-07-27T10:37:33.298344",
     "status": "completed"
    },
    "tags": []
   },
   "outputs": [],
   "source": [
    "def print_metrics(metrics):\n",
    "    \"\"\"Prints classification metrics in a human-readable format\"\"\"\n",
    "    print(\"\\nClassification Report\")\n",
    "    print(\"=\"*40)\n",
    "    \n",
    "    # Overall Performance\n",
    "    print(\"\\nOverall Metrics:\")\n",
    "    print(f\"  Accuracy:           {metrics['eval_accuracy']:.2%}\")\n",
    "    print(f\"  Weighted F1:        {metrics['eval_f1_weighted']:.4f}\")\n",
    "    print(f\"  Weighted Precision: {metrics['eval_precision_weighted']:.4f}\")\n",
    "    print(f\"  Weighted Recall:    {metrics['eval_recall_weighted']:.4f}\")\n",
    "    \n",
    "    # Spam-Specific Performance\n",
    "    print(\"\\nSpam Detection:\")\n",
    "    print(f\"  Precision: {metrics['eval_spam_precision']:.2%} (False alarm rate)\")\n",
    "    print(f\"  Recall:    {metrics['eval_spam_recall']:.2%} (Spam caught)\")\n",
    "    print(f\"  F1:        {metrics['eval_spam_f1']:.4f} (Balance)\")\n",
    "    print(f\"  Miss Rate: {metrics['eval_false_negative_rate']:.2%} (Spam missed)\")\n",
    "    \n",
    "    # Ham-Specific Performance\n",
    "    print(\"\\nHam Detection:\")\n",
    "    print(f\"  Precision: {metrics['eval_ham_precision']:.2%}\")\n",
    "    print(f\"  Recall:    {metrics['eval_ham_recall']:.2%}\")\n",
    "    print(f\"  FP Rate:   {metrics['eval_false_positive_rate']:.2%} (Ham flagged as spam)\")\n",
    "    \n",
    "    # Confusion Matrix\n",
    "    cm = metrics['eval_confusion_matrix']\n",
    "    print(\"\\nConfusion Matrix:\")\n",
    "    print(f\"          | Predicted Ham | Predicted Spam\")\n",
    "    print(f\"----------|---------------|---------------\")\n",
    "    print(f\"Actual Ham| {cm['true_negatives']:^13} | {cm['false_positives']:^13}\")\n",
    "    print(f\"Actual Spam| {cm['false_negatives']:^13} | {cm['true_positives']:^13}\")"
   ]
  },
  {
   "cell_type": "code",
   "execution_count": 41,
   "id": "995b2448",
   "metadata": {
    "execution": {
     "iopub.execute_input": "2025-07-27T10:37:33.396496Z",
     "iopub.status.busy": "2025-07-27T10:37:33.396062Z",
     "iopub.status.idle": "2025-07-27T10:37:33.399987Z",
     "shell.execute_reply": "2025-07-27T10:37:33.399129Z"
    },
    "papermill": {
     "duration": 0.03568,
     "end_time": "2025-07-27T10:37:33.401189",
     "exception": false,
     "start_time": "2025-07-27T10:37:33.365509",
     "status": "completed"
    },
    "tags": []
   },
   "outputs": [
    {
     "name": "stdout",
     "output_type": "stream",
     "text": [
      "\n",
      "Classification Report\n",
      "========================================\n",
      "\n",
      "Overall Metrics:\n",
      "  Accuracy:           99.28%\n",
      "  Weighted F1:        0.9928\n",
      "  Weighted Precision: 0.9928\n",
      "  Weighted Recall:    0.9928\n",
      "\n",
      "Spam Detection:\n",
      "  Precision: 98.18% (False alarm rate)\n",
      "  Recall:    96.43% (Spam caught)\n",
      "  F1:        0.9730 (Balance)\n",
      "  Miss Rate: 3.57% (Spam missed)\n",
      "\n",
      "Ham Detection:\n",
      "  Precision: 99.45%\n",
      "  Recall:    99.72%\n",
      "  FP Rate:   0.28% (Ham flagged as spam)\n",
      "\n",
      "Confusion Matrix:\n",
      "          | Predicted Ham | Predicted Spam\n",
      "----------|---------------|---------------\n",
      "Actual Ham|      722      |       2      \n",
      "Actual Spam|       4       |      108     \n"
     ]
    }
   ],
   "source": [
    "print_metrics(test_results)"
   ]
  },
  {
   "cell_type": "markdown",
   "id": "7fbbfc37-7574-4fe6-bf2f-1201aa94c0d9",
   "metadata": {},
   "source": [
    "---\n",
    "\n",
    "## Model Acceptance Summary\n",
    "\n",
    "As evaluated on the test set:\n",
    "\n",
    "- **F1-score for the `spam` class**: `0.973`\n",
    "\n",
    "This exceeds our predefined acceptance threshold of **0.95**, indicating that the model performs reliably in identifying spam messages with a strong balance between precision and recall.\n",
    "\n",
    "> ✅ **Therefore, this model is accepted for deployment and will be integrated into Amy — our intelligent Discord bot.**\n"
   ]
  }
 ],
 "metadata": {
  "kaggle": {
   "accelerator": "nvidiaTeslaT4",
   "dataSources": [
    {
     "datasetId": 483,
     "sourceId": 982,
     "sourceType": "datasetVersion"
    }
   ],
   "isGpuEnabled": true,
   "isInternetEnabled": true,
   "language": "python",
   "sourceType": "notebook"
  },
  "kernelspec": {
   "display_name": "Python 3 (ipykernel)",
   "language": "python",
   "name": "python3"
  },
  "language_info": {
   "codemirror_mode": {
    "name": "ipython",
    "version": 3
   },
   "file_extension": ".py",
   "mimetype": "text/x-python",
   "name": "python",
   "nbconvert_exporter": "python",
   "pygments_lexer": "ipython3",
   "version": "3.10.18"
  },
  "papermill": {
   "default_parameters": {},
   "duration": 3669.821405,
   "end_time": "2025-07-27T10:37:37.163752",
   "environment_variables": {},
   "exception": null,
   "input_path": "__notebook__.ipynb",
   "output_path": "__notebook__.ipynb",
   "parameters": {},
   "start_time": "2025-07-27T09:36:27.342347",
   "version": "2.6.0"
  },
  "widgets": {
   "application/vnd.jupyter.widget-state+json": {
    "state": {
     "010eb9e9de9f4c0d88ef974b097c4630": {
      "model_module": "@jupyter-widgets/controls",
      "model_module_version": "2.0.0",
      "model_name": "ProgressStyleModel",
      "state": {
       "_model_module": "@jupyter-widgets/controls",
       "_model_module_version": "2.0.0",
       "_model_name": "ProgressStyleModel",
       "_view_count": null,
       "_view_module": "@jupyter-widgets/base",
       "_view_module_version": "2.0.0",
       "_view_name": "StyleView",
       "bar_color": null,
       "description_width": ""
      }
     },
     "01ba6bcfe6994bbcb9a52a4b1fcae437": {
      "model_module": "@jupyter-widgets/controls",
      "model_module_version": "2.0.0",
      "model_name": "FloatProgressModel",
      "state": {
       "_dom_classes": [],
       "_model_module": "@jupyter-widgets/controls",
       "_model_module_version": "2.0.0",
       "_model_name": "FloatProgressModel",
       "_view_count": null,
       "_view_module": "@jupyter-widgets/controls",
       "_view_module_version": "2.0.0",
       "_view_name": "ProgressView",
       "bar_style": "success",
       "description": "",
       "description_allow_html": false,
       "layout": "IPY_MODEL_eb33a4307e5e417bbc123ee5ec719550",
       "max": 836,
       "min": 0,
       "orientation": "horizontal",
       "style": "IPY_MODEL_f38e9184b4304862acaa713051f14af6",
       "tabbable": null,
       "tooltip": null,
       "value": 836
      }
     },
     "024c5a894a084845b1578d5c1b3a0c93": {
      "model_module": "@jupyter-widgets/base",
      "model_module_version": "2.0.0",
      "model_name": "LayoutModel",
      "state": {
       "_model_module": "@jupyter-widgets/base",
       "_model_module_version": "2.0.0",
       "_model_name": "LayoutModel",
       "_view_count": null,
       "_view_module": "@jupyter-widgets/base",
       "_view_module_version": "2.0.0",
       "_view_name": "LayoutView",
       "align_content": null,
       "align_items": null,
       "align_self": null,
       "border_bottom": null,
       "border_left": null,
       "border_right": null,
       "border_top": null,
       "bottom": null,
       "display": null,
       "flex": null,
       "flex_flow": null,
       "grid_area": null,
       "grid_auto_columns": null,
       "grid_auto_flow": null,
       "grid_auto_rows": null,
       "grid_column": null,
       "grid_gap": null,
       "grid_row": null,
       "grid_template_areas": null,
       "grid_template_columns": null,
       "grid_template_rows": null,
       "height": null,
       "justify_content": null,
       "justify_items": null,
       "left": null,
       "margin": null,
       "max_height": null,
       "max_width": null,
       "min_height": null,
       "min_width": null,
       "object_fit": null,
       "object_position": null,
       "order": null,
       "overflow": null,
       "padding": null,
       "right": null,
       "top": null,
       "visibility": null,
       "width": null
      }
     },
     "0712f3e435f347888d33e929fdf14d53": {
      "model_module": "@jupyter-widgets/base",
      "model_module_version": "2.0.0",
      "model_name": "LayoutModel",
      "state": {
       "_model_module": "@jupyter-widgets/base",
       "_model_module_version": "2.0.0",
       "_model_name": "LayoutModel",
       "_view_count": null,
       "_view_module": "@jupyter-widgets/base",
       "_view_module_version": "2.0.0",
       "_view_name": "LayoutView",
       "align_content": null,
       "align_items": null,
       "align_self": null,
       "border_bottom": null,
       "border_left": null,
       "border_right": null,
       "border_top": null,
       "bottom": null,
       "display": null,
       "flex": null,
       "flex_flow": null,
       "grid_area": null,
       "grid_auto_columns": null,
       "grid_auto_flow": null,
       "grid_auto_rows": null,
       "grid_column": null,
       "grid_gap": null,
       "grid_row": null,
       "grid_template_areas": null,
       "grid_template_columns": null,
       "grid_template_rows": null,
       "height": null,
       "justify_content": null,
       "justify_items": null,
       "left": null,
       "margin": null,
       "max_height": null,
       "max_width": null,
       "min_height": null,
       "min_width": null,
       "object_fit": null,
       "object_position": null,
       "order": null,
       "overflow": null,
       "padding": null,
       "right": null,
       "top": null,
       "visibility": null,
       "width": null
      }
     },
     "080ca0564f1e48699f0118db2d023400": {
      "model_module": "@jupyter-widgets/base",
      "model_module_version": "2.0.0",
      "model_name": "LayoutModel",
      "state": {
       "_model_module": "@jupyter-widgets/base",
       "_model_module_version": "2.0.0",
       "_model_name": "LayoutModel",
       "_view_count": null,
       "_view_module": "@jupyter-widgets/base",
       "_view_module_version": "2.0.0",
       "_view_name": "LayoutView",
       "align_content": null,
       "align_items": null,
       "align_self": null,
       "border_bottom": null,
       "border_left": null,
       "border_right": null,
       "border_top": null,
       "bottom": null,
       "display": null,
       "flex": null,
       "flex_flow": null,
       "grid_area": null,
       "grid_auto_columns": null,
       "grid_auto_flow": null,
       "grid_auto_rows": null,
       "grid_column": null,
       "grid_gap": null,
       "grid_row": null,
       "grid_template_areas": null,
       "grid_template_columns": null,
       "grid_template_rows": null,
       "height": null,
       "justify_content": null,
       "justify_items": null,
       "left": null,
       "margin": null,
       "max_height": null,
       "max_width": null,
       "min_height": null,
       "min_width": null,
       "object_fit": null,
       "object_position": null,
       "order": null,
       "overflow": null,
       "padding": null,
       "right": null,
       "top": null,
       "visibility": null,
       "width": null
      }
     },
     "0b7822e82e4c42d79e7dfe1cf2f13c16": {
      "model_module": "@jupyter-widgets/controls",
      "model_module_version": "2.0.0",
      "model_name": "HTMLModel",
      "state": {
       "_dom_classes": [],
       "_model_module": "@jupyter-widgets/controls",
       "_model_module_version": "2.0.0",
       "_model_name": "HTMLModel",
       "_view_count": null,
       "_view_module": "@jupyter-widgets/controls",
       "_view_module_version": "2.0.0",
       "_view_name": "HTMLView",
       "description": "",
       "description_allow_html": false,
       "layout": "IPY_MODEL_181328743086474b9b9278bd13d01f74",
       "placeholder": "​",
       "style": "IPY_MODEL_26e58bbfcf4244388534d8034c23880a",
       "tabbable": null,
       "tooltip": null,
       "value": "model.safetensors: 100%"
      }
     },
     "0b805ef9643141bbb98601fc37de5d5d": {
      "model_module": "@jupyter-widgets/controls",
      "model_module_version": "2.0.0",
      "model_name": "HTMLModel",
      "state": {
       "_dom_classes": [],
       "_model_module": "@jupyter-widgets/controls",
       "_model_module_version": "2.0.0",
       "_model_name": "HTMLModel",
       "_view_count": null,
       "_view_module": "@jupyter-widgets/controls",
       "_view_module_version": "2.0.0",
       "_view_name": "HTMLView",
       "description": "",
       "description_allow_html": false,
       "layout": "IPY_MODEL_653fa7898cd04ac588a630c7f3ef5d49",
       "placeholder": "​",
       "style": "IPY_MODEL_839a5fa0943b4b7fa8be090be0985f18",
       "tabbable": null,
       "tooltip": null,
       "value": " 481/481 [00:00&lt;00:00, 58.4kB/s]"
      }
     },
     "0fc54a312fc14f3bb33d75c9cc05a499": {
      "model_module": "@jupyter-widgets/controls",
      "model_module_version": "2.0.0",
      "model_name": "HBoxModel",
      "state": {
       "_dom_classes": [],
       "_model_module": "@jupyter-widgets/controls",
       "_model_module_version": "2.0.0",
       "_model_name": "HBoxModel",
       "_view_count": null,
       "_view_module": "@jupyter-widgets/controls",
       "_view_module_version": "2.0.0",
       "_view_name": "HBoxView",
       "box_style": "",
       "children": [
        "IPY_MODEL_572f22ca2646462b92f6e0430be1dd36",
        "IPY_MODEL_c127ed594c41432480aa797eed4892ac",
        "IPY_MODEL_56022faaffbc41038e4d80f464cca3bf"
       ],
       "layout": "IPY_MODEL_87e07cafec454d7f8e22d313ff68e03e",
       "tabbable": null,
       "tooltip": null
      }
     },
     "11a932c8db7c4dec868db5cb7f3e1dd0": {
      "model_module": "@jupyter-widgets/base",
      "model_module_version": "2.0.0",
      "model_name": "LayoutModel",
      "state": {
       "_model_module": "@jupyter-widgets/base",
       "_model_module_version": "2.0.0",
       "_model_name": "LayoutModel",
       "_view_count": null,
       "_view_module": "@jupyter-widgets/base",
       "_view_module_version": "2.0.0",
       "_view_name": "LayoutView",
       "align_content": null,
       "align_items": null,
       "align_self": null,
       "border_bottom": null,
       "border_left": null,
       "border_right": null,
       "border_top": null,
       "bottom": null,
       "display": null,
       "flex": null,
       "flex_flow": null,
       "grid_area": null,
       "grid_auto_columns": null,
       "grid_auto_flow": null,
       "grid_auto_rows": null,
       "grid_column": null,
       "grid_gap": null,
       "grid_row": null,
       "grid_template_areas": null,
       "grid_template_columns": null,
       "grid_template_rows": null,
       "height": null,
       "justify_content": null,
       "justify_items": null,
       "left": null,
       "margin": null,
       "max_height": null,
       "max_width": null,
       "min_height": null,
       "min_width": null,
       "object_fit": null,
       "object_position": null,
       "order": null,
       "overflow": null,
       "padding": null,
       "right": null,
       "top": null,
       "visibility": null,
       "width": null
      }
     },
     "13eb02aac1824f1b9eade8631e4796e3": {
      "model_module": "@jupyter-widgets/controls",
      "model_module_version": "2.0.0",
      "model_name": "FloatProgressModel",
      "state": {
       "_dom_classes": [],
       "_model_module": "@jupyter-widgets/controls",
       "_model_module_version": "2.0.0",
       "_model_name": "FloatProgressModel",
       "_view_count": null,
       "_view_module": "@jupyter-widgets/controls",
       "_view_module_version": "2.0.0",
       "_view_name": "ProgressView",
       "bar_style": "success",
       "description": "",
       "description_allow_html": false,
       "layout": "IPY_MODEL_359f41abebd54bfeb1764a57e5ed76ad",
       "max": 836,
       "min": 0,
       "orientation": "horizontal",
       "style": "IPY_MODEL_2a0fe1c4eab74ecb9682ab1adcc4178f",
       "tabbable": null,
       "tooltip": null,
       "value": 836
      }
     },
     "181328743086474b9b9278bd13d01f74": {
      "model_module": "@jupyter-widgets/base",
      "model_module_version": "2.0.0",
      "model_name": "LayoutModel",
      "state": {
       "_model_module": "@jupyter-widgets/base",
       "_model_module_version": "2.0.0",
       "_model_name": "LayoutModel",
       "_view_count": null,
       "_view_module": "@jupyter-widgets/base",
       "_view_module_version": "2.0.0",
       "_view_name": "LayoutView",
       "align_content": null,
       "align_items": null,
       "align_self": null,
       "border_bottom": null,
       "border_left": null,
       "border_right": null,
       "border_top": null,
       "bottom": null,
       "display": null,
       "flex": null,
       "flex_flow": null,
       "grid_area": null,
       "grid_auto_columns": null,
       "grid_auto_flow": null,
       "grid_auto_rows": null,
       "grid_column": null,
       "grid_gap": null,
       "grid_row": null,
       "grid_template_areas": null,
       "grid_template_columns": null,
       "grid_template_rows": null,
       "height": null,
       "justify_content": null,
       "justify_items": null,
       "left": null,
       "margin": null,
       "max_height": null,
       "max_width": null,
       "min_height": null,
       "min_width": null,
       "object_fit": null,
       "object_position": null,
       "order": null,
       "overflow": null,
       "padding": null,
       "right": null,
       "top": null,
       "visibility": null,
       "width": null
      }
     },
     "1c62800ed21e4debbbb95b73c71ca81e": {
      "model_module": "@jupyter-widgets/controls",
      "model_module_version": "2.0.0",
      "model_name": "ProgressStyleModel",
      "state": {
       "_model_module": "@jupyter-widgets/controls",
       "_model_module_version": "2.0.0",
       "_model_name": "ProgressStyleModel",
       "_view_count": null,
       "_view_module": "@jupyter-widgets/base",
       "_view_module_version": "2.0.0",
       "_view_name": "StyleView",
       "bar_color": null,
       "description_width": ""
      }
     },
     "20c2bd2d012c4c56ba174e85e7f900cc": {
      "model_module": "@jupyter-widgets/controls",
      "model_module_version": "2.0.0",
      "model_name": "HTMLModel",
      "state": {
       "_dom_classes": [],
       "_model_module": "@jupyter-widgets/controls",
       "_model_module_version": "2.0.0",
       "_model_name": "HTMLModel",
       "_view_count": null,
       "_view_module": "@jupyter-widgets/controls",
       "_view_module_version": "2.0.0",
       "_view_name": "HTMLView",
       "description": "",
       "description_allow_html": false,
       "layout": "IPY_MODEL_41e7ea69ac55406695d374a709c44a3d",
       "placeholder": "​",
       "style": "IPY_MODEL_d9d5b2923a6742f9977ea8f4f701f4cf",
       "tabbable": null,
       "tooltip": null,
       "value": "vocab.json: "
      }
     },
     "22bad2a45f814efaa1a3b3773c8fd5ef": {
      "model_module": "@jupyter-widgets/base",
      "model_module_version": "2.0.0",
      "model_name": "LayoutModel",
      "state": {
       "_model_module": "@jupyter-widgets/base",
       "_model_module_version": "2.0.0",
       "_model_name": "LayoutModel",
       "_view_count": null,
       "_view_module": "@jupyter-widgets/base",
       "_view_module_version": "2.0.0",
       "_view_name": "LayoutView",
       "align_content": null,
       "align_items": null,
       "align_self": null,
       "border_bottom": null,
       "border_left": null,
       "border_right": null,
       "border_top": null,
       "bottom": null,
       "display": null,
       "flex": null,
       "flex_flow": null,
       "grid_area": null,
       "grid_auto_columns": null,
       "grid_auto_flow": null,
       "grid_auto_rows": null,
       "grid_column": null,
       "grid_gap": null,
       "grid_row": null,
       "grid_template_areas": null,
       "grid_template_columns": null,
       "grid_template_rows": null,
       "height": null,
       "justify_content": null,
       "justify_items": null,
       "left": null,
       "margin": null,
       "max_height": null,
       "max_width": null,
       "min_height": null,
       "min_width": null,
       "object_fit": null,
       "object_position": null,
       "order": null,
       "overflow": null,
       "padding": null,
       "right": null,
       "top": null,
       "visibility": null,
       "width": null
      }
     },
     "248473369ce541e5886d7568ee754d78": {
      "model_module": "@jupyter-widgets/base",
      "model_module_version": "2.0.0",
      "model_name": "LayoutModel",
      "state": {
       "_model_module": "@jupyter-widgets/base",
       "_model_module_version": "2.0.0",
       "_model_name": "LayoutModel",
       "_view_count": null,
       "_view_module": "@jupyter-widgets/base",
       "_view_module_version": "2.0.0",
       "_view_name": "LayoutView",
       "align_content": null,
       "align_items": null,
       "align_self": null,
       "border_bottom": null,
       "border_left": null,
       "border_right": null,
       "border_top": null,
       "bottom": null,
       "display": null,
       "flex": null,
       "flex_flow": null,
       "grid_area": null,
       "grid_auto_columns": null,
       "grid_auto_flow": null,
       "grid_auto_rows": null,
       "grid_column": null,
       "grid_gap": null,
       "grid_row": null,
       "grid_template_areas": null,
       "grid_template_columns": null,
       "grid_template_rows": null,
       "height": null,
       "justify_content": null,
       "justify_items": null,
       "left": null,
       "margin": null,
       "max_height": null,
       "max_width": null,
       "min_height": null,
       "min_width": null,
       "object_fit": null,
       "object_position": null,
       "order": null,
       "overflow": null,
       "padding": null,
       "right": null,
       "top": null,
       "visibility": null,
       "width": null
      }
     },
     "24f6a983230144d2bd234eac62e46a3f": {
      "model_module": "@jupyter-widgets/controls",
      "model_module_version": "2.0.0",
      "model_name": "FloatProgressModel",
      "state": {
       "_dom_classes": [],
       "_model_module": "@jupyter-widgets/controls",
       "_model_module_version": "2.0.0",
       "_model_name": "FloatProgressModel",
       "_view_count": null,
       "_view_module": "@jupyter-widgets/controls",
       "_view_module_version": "2.0.0",
       "_view_name": "ProgressView",
       "bar_style": "success",
       "description": "",
       "description_allow_html": false,
       "layout": "IPY_MODEL_86b3c6e9f94a4189a2edfaad23ab19bf",
       "max": 1,
       "min": 0,
       "orientation": "horizontal",
       "style": "IPY_MODEL_8abf48bdcee94c4ab7cc6e968e0e02ea",
       "tabbable": null,
       "tooltip": null,
       "value": 1
      }
     },
     "26e58bbfcf4244388534d8034c23880a": {
      "model_module": "@jupyter-widgets/controls",
      "model_module_version": "2.0.0",
      "model_name": "HTMLStyleModel",
      "state": {
       "_model_module": "@jupyter-widgets/controls",
       "_model_module_version": "2.0.0",
       "_model_name": "HTMLStyleModel",
       "_view_count": null,
       "_view_module": "@jupyter-widgets/base",
       "_view_module_version": "2.0.0",
       "_view_name": "StyleView",
       "background": null,
       "description_width": "",
       "font_size": null,
       "text_color": null
      }
     },
     "29d483b831434c68a6e650306805dd65": {
      "model_module": "@jupyter-widgets/controls",
      "model_module_version": "2.0.0",
      "model_name": "HTMLModel",
      "state": {
       "_dom_classes": [],
       "_model_module": "@jupyter-widgets/controls",
       "_model_module_version": "2.0.0",
       "_model_name": "HTMLModel",
       "_view_count": null,
       "_view_module": "@jupyter-widgets/controls",
       "_view_module_version": "2.0.0",
       "_view_name": "HTMLView",
       "description": "",
       "description_allow_html": false,
       "layout": "IPY_MODEL_4f228fa4f26f4632ab5496ce502e8460",
       "placeholder": "​",
       "style": "IPY_MODEL_e87b487ac7c14acb936afaf0344150c1",
       "tabbable": null,
       "tooltip": null,
       "value": "config.json: 100%"
      }
     },
     "2a0fe1c4eab74ecb9682ab1adcc4178f": {
      "model_module": "@jupyter-widgets/controls",
      "model_module_version": "2.0.0",
      "model_name": "ProgressStyleModel",
      "state": {
       "_model_module": "@jupyter-widgets/controls",
       "_model_module_version": "2.0.0",
       "_model_name": "ProgressStyleModel",
       "_view_count": null,
       "_view_module": "@jupyter-widgets/base",
       "_view_module_version": "2.0.0",
       "_view_name": "StyleView",
       "bar_color": null,
       "description_width": ""
      }
     },
     "2d9734545cc946b1b133b63e964be90b": {
      "model_module": "@jupyter-widgets/base",
      "model_module_version": "2.0.0",
      "model_name": "LayoutModel",
      "state": {
       "_model_module": "@jupyter-widgets/base",
       "_model_module_version": "2.0.0",
       "_model_name": "LayoutModel",
       "_view_count": null,
       "_view_module": "@jupyter-widgets/base",
       "_view_module_version": "2.0.0",
       "_view_name": "LayoutView",
       "align_content": null,
       "align_items": null,
       "align_self": null,
       "border_bottom": null,
       "border_left": null,
       "border_right": null,
       "border_top": null,
       "bottom": null,
       "display": null,
       "flex": null,
       "flex_flow": null,
       "grid_area": null,
       "grid_auto_columns": null,
       "grid_auto_flow": null,
       "grid_auto_rows": null,
       "grid_column": null,
       "grid_gap": null,
       "grid_row": null,
       "grid_template_areas": null,
       "grid_template_columns": null,
       "grid_template_rows": null,
       "height": null,
       "justify_content": null,
       "justify_items": null,
       "left": null,
       "margin": null,
       "max_height": null,
       "max_width": null,
       "min_height": null,
       "min_width": null,
       "object_fit": null,
       "object_position": null,
       "order": null,
       "overflow": null,
       "padding": null,
       "right": null,
       "top": null,
       "visibility": null,
       "width": null
      }
     },
     "2e55a39997ac44178e2ffa5d827803f6": {
      "model_module": "@jupyter-widgets/base",
      "model_module_version": "2.0.0",
      "model_name": "LayoutModel",
      "state": {
       "_model_module": "@jupyter-widgets/base",
       "_model_module_version": "2.0.0",
       "_model_name": "LayoutModel",
       "_view_count": null,
       "_view_module": "@jupyter-widgets/base",
       "_view_module_version": "2.0.0",
       "_view_name": "LayoutView",
       "align_content": null,
       "align_items": null,
       "align_self": null,
       "border_bottom": null,
       "border_left": null,
       "border_right": null,
       "border_top": null,
       "bottom": null,
       "display": null,
       "flex": null,
       "flex_flow": null,
       "grid_area": null,
       "grid_auto_columns": null,
       "grid_auto_flow": null,
       "grid_auto_rows": null,
       "grid_column": null,
       "grid_gap": null,
       "grid_row": null,
       "grid_template_areas": null,
       "grid_template_columns": null,
       "grid_template_rows": null,
       "height": null,
       "justify_content": null,
       "justify_items": null,
       "left": null,
       "margin": null,
       "max_height": null,
       "max_width": null,
       "min_height": null,
       "min_width": null,
       "object_fit": null,
       "object_position": null,
       "order": null,
       "overflow": null,
       "padding": null,
       "right": null,
       "top": null,
       "visibility": null,
       "width": null
      }
     },
     "2e6e6fee54944b518c7c72d2b6e05867": {
      "model_module": "@jupyter-widgets/base",
      "model_module_version": "2.0.0",
      "model_name": "LayoutModel",
      "state": {
       "_model_module": "@jupyter-widgets/base",
       "_model_module_version": "2.0.0",
       "_model_name": "LayoutModel",
       "_view_count": null,
       "_view_module": "@jupyter-widgets/base",
       "_view_module_version": "2.0.0",
       "_view_name": "LayoutView",
       "align_content": null,
       "align_items": null,
       "align_self": null,
       "border_bottom": null,
       "border_left": null,
       "border_right": null,
       "border_top": null,
       "bottom": null,
       "display": null,
       "flex": null,
       "flex_flow": null,
       "grid_area": null,
       "grid_auto_columns": null,
       "grid_auto_flow": null,
       "grid_auto_rows": null,
       "grid_column": null,
       "grid_gap": null,
       "grid_row": null,
       "grid_template_areas": null,
       "grid_template_columns": null,
       "grid_template_rows": null,
       "height": null,
       "justify_content": null,
       "justify_items": null,
       "left": null,
       "margin": null,
       "max_height": null,
       "max_width": null,
       "min_height": null,
       "min_width": null,
       "object_fit": null,
       "object_position": null,
       "order": null,
       "overflow": null,
       "padding": null,
       "right": null,
       "top": null,
       "visibility": null,
       "width": null
      }
     },
     "2f3198cc5c4d48278402e11d7089a1dc": {
      "model_module": "@jupyter-widgets/base",
      "model_module_version": "2.0.0",
      "model_name": "LayoutModel",
      "state": {
       "_model_module": "@jupyter-widgets/base",
       "_model_module_version": "2.0.0",
       "_model_name": "LayoutModel",
       "_view_count": null,
       "_view_module": "@jupyter-widgets/base",
       "_view_module_version": "2.0.0",
       "_view_name": "LayoutView",
       "align_content": null,
       "align_items": null,
       "align_self": null,
       "border_bottom": null,
       "border_left": null,
       "border_right": null,
       "border_top": null,
       "bottom": null,
       "display": null,
       "flex": null,
       "flex_flow": null,
       "grid_area": null,
       "grid_auto_columns": null,
       "grid_auto_flow": null,
       "grid_auto_rows": null,
       "grid_column": null,
       "grid_gap": null,
       "grid_row": null,
       "grid_template_areas": null,
       "grid_template_columns": null,
       "grid_template_rows": null,
       "height": null,
       "justify_content": null,
       "justify_items": null,
       "left": null,
       "margin": null,
       "max_height": null,
       "max_width": null,
       "min_height": null,
       "min_width": null,
       "object_fit": null,
       "object_position": null,
       "order": null,
       "overflow": null,
       "padding": null,
       "right": null,
       "top": null,
       "visibility": null,
       "width": null
      }
     },
     "31ec997c081546e6acbe4cd53e5d4a3f": {
      "model_module": "@jupyter-widgets/controls",
      "model_module_version": "2.0.0",
      "model_name": "HTMLStyleModel",
      "state": {
       "_model_module": "@jupyter-widgets/controls",
       "_model_module_version": "2.0.0",
       "_model_name": "HTMLStyleModel",
       "_view_count": null,
       "_view_module": "@jupyter-widgets/base",
       "_view_module_version": "2.0.0",
       "_view_name": "StyleView",
       "background": null,
       "description_width": "",
       "font_size": null,
       "text_color": null
      }
     },
     "3263ea00779b49d9a814266537e962d9": {
      "model_module": "@jupyter-widgets/controls",
      "model_module_version": "2.0.0",
      "model_name": "ProgressStyleModel",
      "state": {
       "_model_module": "@jupyter-widgets/controls",
       "_model_module_version": "2.0.0",
       "_model_name": "ProgressStyleModel",
       "_view_count": null,
       "_view_module": "@jupyter-widgets/base",
       "_view_module_version": "2.0.0",
       "_view_name": "StyleView",
       "bar_color": null,
       "description_width": ""
      }
     },
     "359f41abebd54bfeb1764a57e5ed76ad": {
      "model_module": "@jupyter-widgets/base",
      "model_module_version": "2.0.0",
      "model_name": "LayoutModel",
      "state": {
       "_model_module": "@jupyter-widgets/base",
       "_model_module_version": "2.0.0",
       "_model_name": "LayoutModel",
       "_view_count": null,
       "_view_module": "@jupyter-widgets/base",
       "_view_module_version": "2.0.0",
       "_view_name": "LayoutView",
       "align_content": null,
       "align_items": null,
       "align_self": null,
       "border_bottom": null,
       "border_left": null,
       "border_right": null,
       "border_top": null,
       "bottom": null,
       "display": null,
       "flex": null,
       "flex_flow": null,
       "grid_area": null,
       "grid_auto_columns": null,
       "grid_auto_flow": null,
       "grid_auto_rows": null,
       "grid_column": null,
       "grid_gap": null,
       "grid_row": null,
       "grid_template_areas": null,
       "grid_template_columns": null,
       "grid_template_rows": null,
       "height": null,
       "justify_content": null,
       "justify_items": null,
       "left": null,
       "margin": null,
       "max_height": null,
       "max_width": null,
       "min_height": null,
       "min_width": null,
       "object_fit": null,
       "object_position": null,
       "order": null,
       "overflow": null,
       "padding": null,
       "right": null,
       "top": null,
       "visibility": null,
       "width": null
      }
     },
     "37f7f53c7a6f4e36a9e2169bb705c494": {
      "model_module": "@jupyter-widgets/controls",
      "model_module_version": "2.0.0",
      "model_name": "FloatProgressModel",
      "state": {
       "_dom_classes": [],
       "_model_module": "@jupyter-widgets/controls",
       "_model_module_version": "2.0.0",
       "_model_name": "FloatProgressModel",
       "_view_count": null,
       "_view_module": "@jupyter-widgets/controls",
       "_view_module_version": "2.0.0",
       "_view_name": "ProgressView",
       "bar_style": "success",
       "description": "",
       "description_allow_html": false,
       "layout": "IPY_MODEL_e5b197b466694fbdb0f58103ef5c387a",
       "max": 3900,
       "min": 0,
       "orientation": "horizontal",
       "style": "IPY_MODEL_6988a36a2c004a8390b05f5ded3d292a",
       "tabbable": null,
       "tooltip": null,
       "value": 3900
      }
     },
     "3a6a4b7366dc4134a229dc4face6312d": {
      "model_module": "@jupyter-widgets/controls",
      "model_module_version": "2.0.0",
      "model_name": "HTMLModel",
      "state": {
       "_dom_classes": [],
       "_model_module": "@jupyter-widgets/controls",
       "_model_module_version": "2.0.0",
       "_model_name": "HTMLModel",
       "_view_count": null,
       "_view_module": "@jupyter-widgets/controls",
       "_view_module_version": "2.0.0",
       "_view_name": "HTMLView",
       "description": "",
       "description_allow_html": false,
       "layout": "IPY_MODEL_0712f3e435f347888d33e929fdf14d53",
       "placeholder": "​",
       "style": "IPY_MODEL_b3bab0f7f2624c98919db0c5ad5ee8dc",
       "tabbable": null,
       "tooltip": null,
       "value": "merges.txt: "
      }
     },
     "3b3e25e105e74b22a56ee5329ae71261": {
      "model_module": "@jupyter-widgets/controls",
      "model_module_version": "2.0.0",
      "model_name": "HTMLModel",
      "state": {
       "_dom_classes": [],
       "_model_module": "@jupyter-widgets/controls",
       "_model_module_version": "2.0.0",
       "_model_name": "HTMLModel",
       "_view_count": null,
       "_view_module": "@jupyter-widgets/controls",
       "_view_module_version": "2.0.0",
       "_view_name": "HTMLView",
       "description": "",
       "description_allow_html": false,
       "layout": "IPY_MODEL_2f3198cc5c4d48278402e11d7089a1dc",
       "placeholder": "​",
       "style": "IPY_MODEL_f762dedaf436444093c47889b66d9e52",
       "tabbable": null,
       "tooltip": null,
       "value": " 3900/3900 [00:00&lt;00:00, 4138.86 examples/s]"
      }
     },
     "3f5dd5cab58e4276be29d934bb15322d": {
      "model_module": "@jupyter-widgets/controls",
      "model_module_version": "2.0.0",
      "model_name": "HTMLModel",
      "state": {
       "_dom_classes": [],
       "_model_module": "@jupyter-widgets/controls",
       "_model_module_version": "2.0.0",
       "_model_name": "HTMLModel",
       "_view_count": null,
       "_view_module": "@jupyter-widgets/controls",
       "_view_module_version": "2.0.0",
       "_view_name": "HTMLView",
       "description": "",
       "description_allow_html": false,
       "layout": "IPY_MODEL_49ee52139ee54a2e833e8fef80e3c11f",
       "placeholder": "​",
       "style": "IPY_MODEL_f70ebefa0bb54a03bd4602ecf0fcc758",
       "tabbable": null,
       "tooltip": null,
       "value": " 836/836 [00:00&lt;00:00, 3195.74 examples/s]"
      }
     },
     "411a0dcc0b484d498543239b727243a0": {
      "model_module": "@jupyter-widgets/controls",
      "model_module_version": "2.0.0",
      "model_name": "HTMLModel",
      "state": {
       "_dom_classes": [],
       "_model_module": "@jupyter-widgets/controls",
       "_model_module_version": "2.0.0",
       "_model_name": "HTMLModel",
       "_view_count": null,
       "_view_module": "@jupyter-widgets/controls",
       "_view_module_version": "2.0.0",
       "_view_name": "HTMLView",
       "description": "",
       "description_allow_html": false,
       "layout": "IPY_MODEL_2e6e6fee54944b518c7c72d2b6e05867",
       "placeholder": "​",
       "style": "IPY_MODEL_87fa452d7609496c9107e3a0ee5e406c",
       "tabbable": null,
       "tooltip": null,
       "value": " 899k/? [00:00&lt;00:00, 19.9MB/s]"
      }
     },
     "41e7ea69ac55406695d374a709c44a3d": {
      "model_module": "@jupyter-widgets/base",
      "model_module_version": "2.0.0",
      "model_name": "LayoutModel",
      "state": {
       "_model_module": "@jupyter-widgets/base",
       "_model_module_version": "2.0.0",
       "_model_name": "LayoutModel",
       "_view_count": null,
       "_view_module": "@jupyter-widgets/base",
       "_view_module_version": "2.0.0",
       "_view_name": "LayoutView",
       "align_content": null,
       "align_items": null,
       "align_self": null,
       "border_bottom": null,
       "border_left": null,
       "border_right": null,
       "border_top": null,
       "bottom": null,
       "display": null,
       "flex": null,
       "flex_flow": null,
       "grid_area": null,
       "grid_auto_columns": null,
       "grid_auto_flow": null,
       "grid_auto_rows": null,
       "grid_column": null,
       "grid_gap": null,
       "grid_row": null,
       "grid_template_areas": null,
       "grid_template_columns": null,
       "grid_template_rows": null,
       "height": null,
       "justify_content": null,
       "justify_items": null,
       "left": null,
       "margin": null,
       "max_height": null,
       "max_width": null,
       "min_height": null,
       "min_width": null,
       "object_fit": null,
       "object_position": null,
       "order": null,
       "overflow": null,
       "padding": null,
       "right": null,
       "top": null,
       "visibility": null,
       "width": null
      }
     },
     "49ee52139ee54a2e833e8fef80e3c11f": {
      "model_module": "@jupyter-widgets/base",
      "model_module_version": "2.0.0",
      "model_name": "LayoutModel",
      "state": {
       "_model_module": "@jupyter-widgets/base",
       "_model_module_version": "2.0.0",
       "_model_name": "LayoutModel",
       "_view_count": null,
       "_view_module": "@jupyter-widgets/base",
       "_view_module_version": "2.0.0",
       "_view_name": "LayoutView",
       "align_content": null,
       "align_items": null,
       "align_self": null,
       "border_bottom": null,
       "border_left": null,
       "border_right": null,
       "border_top": null,
       "bottom": null,
       "display": null,
       "flex": null,
       "flex_flow": null,
       "grid_area": null,
       "grid_auto_columns": null,
       "grid_auto_flow": null,
       "grid_auto_rows": null,
       "grid_column": null,
       "grid_gap": null,
       "grid_row": null,
       "grid_template_areas": null,
       "grid_template_columns": null,
       "grid_template_rows": null,
       "height": null,
       "justify_content": null,
       "justify_items": null,
       "left": null,
       "margin": null,
       "max_height": null,
       "max_width": null,
       "min_height": null,
       "min_width": null,
       "object_fit": null,
       "object_position": null,
       "order": null,
       "overflow": null,
       "padding": null,
       "right": null,
       "top": null,
       "visibility": null,
       "width": null
      }
     },
     "4bde55c938f14db9b10d55f10533401b": {
      "model_module": "@jupyter-widgets/controls",
      "model_module_version": "2.0.0",
      "model_name": "HTMLStyleModel",
      "state": {
       "_model_module": "@jupyter-widgets/controls",
       "_model_module_version": "2.0.0",
       "_model_name": "HTMLStyleModel",
       "_view_count": null,
       "_view_module": "@jupyter-widgets/base",
       "_view_module_version": "2.0.0",
       "_view_name": "StyleView",
       "background": null,
       "description_width": "",
       "font_size": null,
       "text_color": null
      }
     },
     "4ea79c526d8b49249bbd4bd02822e8f5": {
      "model_module": "@jupyter-widgets/controls",
      "model_module_version": "2.0.0",
      "model_name": "HBoxModel",
      "state": {
       "_dom_classes": [],
       "_model_module": "@jupyter-widgets/controls",
       "_model_module_version": "2.0.0",
       "_model_name": "HBoxModel",
       "_view_count": null,
       "_view_module": "@jupyter-widgets/controls",
       "_view_module_version": "2.0.0",
       "_view_name": "HBoxView",
       "box_style": "",
       "children": [
        "IPY_MODEL_20c2bd2d012c4c56ba174e85e7f900cc",
        "IPY_MODEL_90af7edf8b7047db847efee726511053",
        "IPY_MODEL_411a0dcc0b484d498543239b727243a0"
       ],
       "layout": "IPY_MODEL_2d9734545cc946b1b133b63e964be90b",
       "tabbable": null,
       "tooltip": null
      }
     },
     "4f228fa4f26f4632ab5496ce502e8460": {
      "model_module": "@jupyter-widgets/base",
      "model_module_version": "2.0.0",
      "model_name": "LayoutModel",
      "state": {
       "_model_module": "@jupyter-widgets/base",
       "_model_module_version": "2.0.0",
       "_model_name": "LayoutModel",
       "_view_count": null,
       "_view_module": "@jupyter-widgets/base",
       "_view_module_version": "2.0.0",
       "_view_name": "LayoutView",
       "align_content": null,
       "align_items": null,
       "align_self": null,
       "border_bottom": null,
       "border_left": null,
       "border_right": null,
       "border_top": null,
       "bottom": null,
       "display": null,
       "flex": null,
       "flex_flow": null,
       "grid_area": null,
       "grid_auto_columns": null,
       "grid_auto_flow": null,
       "grid_auto_rows": null,
       "grid_column": null,
       "grid_gap": null,
       "grid_row": null,
       "grid_template_areas": null,
       "grid_template_columns": null,
       "grid_template_rows": null,
       "height": null,
       "justify_content": null,
       "justify_items": null,
       "left": null,
       "margin": null,
       "max_height": null,
       "max_width": null,
       "min_height": null,
       "min_width": null,
       "object_fit": null,
       "object_position": null,
       "order": null,
       "overflow": null,
       "padding": null,
       "right": null,
       "top": null,
       "visibility": null,
       "width": null
      }
     },
     "4f371d097ae04adc8b741e521fb29b83": {
      "model_module": "@jupyter-widgets/base",
      "model_module_version": "2.0.0",
      "model_name": "LayoutModel",
      "state": {
       "_model_module": "@jupyter-widgets/base",
       "_model_module_version": "2.0.0",
       "_model_name": "LayoutModel",
       "_view_count": null,
       "_view_module": "@jupyter-widgets/base",
       "_view_module_version": "2.0.0",
       "_view_name": "LayoutView",
       "align_content": null,
       "align_items": null,
       "align_self": null,
       "border_bottom": null,
       "border_left": null,
       "border_right": null,
       "border_top": null,
       "bottom": null,
       "display": null,
       "flex": null,
       "flex_flow": null,
       "grid_area": null,
       "grid_auto_columns": null,
       "grid_auto_flow": null,
       "grid_auto_rows": null,
       "grid_column": null,
       "grid_gap": null,
       "grid_row": null,
       "grid_template_areas": null,
       "grid_template_columns": null,
       "grid_template_rows": null,
       "height": null,
       "justify_content": null,
       "justify_items": null,
       "left": null,
       "margin": null,
       "max_height": null,
       "max_width": null,
       "min_height": null,
       "min_width": null,
       "object_fit": null,
       "object_position": null,
       "order": null,
       "overflow": null,
       "padding": null,
       "right": null,
       "top": null,
       "visibility": null,
       "width": null
      }
     },
     "500186d51b024d1281325c3fa5f508e1": {
      "model_module": "@jupyter-widgets/controls",
      "model_module_version": "2.0.0",
      "model_name": "FloatProgressModel",
      "state": {
       "_dom_classes": [],
       "_model_module": "@jupyter-widgets/controls",
       "_model_module_version": "2.0.0",
       "_model_name": "FloatProgressModel",
       "_view_count": null,
       "_view_module": "@jupyter-widgets/controls",
       "_view_module_version": "2.0.0",
       "_view_name": "ProgressView",
       "bar_style": "success",
       "description": "",
       "description_allow_html": false,
       "layout": "IPY_MODEL_63185070aa7a49f6a9794ae72937a64c",
       "max": 481,
       "min": 0,
       "orientation": "horizontal",
       "style": "IPY_MODEL_010eb9e9de9f4c0d88ef974b097c4630",
       "tabbable": null,
       "tooltip": null,
       "value": 481
      }
     },
     "5002f27415f649ceb2cccdda46bff2da": {
      "model_module": "@jupyter-widgets/controls",
      "model_module_version": "2.0.0",
      "model_name": "HBoxModel",
      "state": {
       "_dom_classes": [],
       "_model_module": "@jupyter-widgets/controls",
       "_model_module_version": "2.0.0",
       "_model_name": "HBoxModel",
       "_view_count": null,
       "_view_module": "@jupyter-widgets/controls",
       "_view_module_version": "2.0.0",
       "_view_name": "HBoxView",
       "box_style": "",
       "children": [
        "IPY_MODEL_e5523bc86bba4e0fa90d2ab71d33485a",
        "IPY_MODEL_641f2d688f8049b8bfffb66f8332fccb",
        "IPY_MODEL_ec2c65347c514b7c98de7004e8aad81d"
       ],
       "layout": "IPY_MODEL_080ca0564f1e48699f0118db2d023400",
       "tabbable": null,
       "tooltip": null
      }
     },
     "557e5061306e46c98e2188ce6b01a012": {
      "model_module": "@jupyter-widgets/controls",
      "model_module_version": "2.0.0",
      "model_name": "HTMLModel",
      "state": {
       "_dom_classes": [],
       "_model_module": "@jupyter-widgets/controls",
       "_model_module_version": "2.0.0",
       "_model_name": "HTMLModel",
       "_view_count": null,
       "_view_module": "@jupyter-widgets/controls",
       "_view_module_version": "2.0.0",
       "_view_name": "HTMLView",
       "description": "",
       "description_allow_html": false,
       "layout": "IPY_MODEL_bd48293d16c8418ba8877b4c5aa8fa91",
       "placeholder": "​",
       "style": "IPY_MODEL_5eeea584c3104eaa9bdf8833925149ee",
       "tabbable": null,
       "tooltip": null,
       "value": "Map: 100%"
      }
     },
     "56022faaffbc41038e4d80f464cca3bf": {
      "model_module": "@jupyter-widgets/controls",
      "model_module_version": "2.0.0",
      "model_name": "HTMLModel",
      "state": {
       "_dom_classes": [],
       "_model_module": "@jupyter-widgets/controls",
       "_model_module_version": "2.0.0",
       "_model_name": "HTMLModel",
       "_view_count": null,
       "_view_module": "@jupyter-widgets/controls",
       "_view_module_version": "2.0.0",
       "_view_name": "HTMLView",
       "description": "",
       "description_allow_html": false,
       "layout": "IPY_MODEL_f814e595a18348199ed8e6c0c5c3b567",
       "placeholder": "​",
       "style": "IPY_MODEL_bede6fd5429c4529b8d4bf879c19cb00",
       "tabbable": null,
       "tooltip": null,
       "value": " 25.0/25.0 [00:00&lt;00:00, 2.72kB/s]"
      }
     },
     "572f22ca2646462b92f6e0430be1dd36": {
      "model_module": "@jupyter-widgets/controls",
      "model_module_version": "2.0.0",
      "model_name": "HTMLModel",
      "state": {
       "_dom_classes": [],
       "_model_module": "@jupyter-widgets/controls",
       "_model_module_version": "2.0.0",
       "_model_name": "HTMLModel",
       "_view_count": null,
       "_view_module": "@jupyter-widgets/controls",
       "_view_module_version": "2.0.0",
       "_view_name": "HTMLView",
       "description": "",
       "description_allow_html": false,
       "layout": "IPY_MODEL_248473369ce541e5886d7568ee754d78",
       "placeholder": "​",
       "style": "IPY_MODEL_80bc9549a6ea4c8a87d83d24ff73ec6e",
       "tabbable": null,
       "tooltip": null,
       "value": "tokenizer_config.json: 100%"
      }
     },
     "592d0f507af949f784a0fb96e6e1528e": {
      "model_module": "@jupyter-widgets/controls",
      "model_module_version": "2.0.0",
      "model_name": "ProgressStyleModel",
      "state": {
       "_model_module": "@jupyter-widgets/controls",
       "_model_module_version": "2.0.0",
       "_model_name": "ProgressStyleModel",
       "_view_count": null,
       "_view_module": "@jupyter-widgets/base",
       "_view_module_version": "2.0.0",
       "_view_name": "StyleView",
       "bar_color": null,
       "description_width": ""
      }
     },
     "5deed39794cb4c71b5e791cd96e7cb96": {
      "model_module": "@jupyter-widgets/base",
      "model_module_version": "2.0.0",
      "model_name": "LayoutModel",
      "state": {
       "_model_module": "@jupyter-widgets/base",
       "_model_module_version": "2.0.0",
       "_model_name": "LayoutModel",
       "_view_count": null,
       "_view_module": "@jupyter-widgets/base",
       "_view_module_version": "2.0.0",
       "_view_name": "LayoutView",
       "align_content": null,
       "align_items": null,
       "align_self": null,
       "border_bottom": null,
       "border_left": null,
       "border_right": null,
       "border_top": null,
       "bottom": null,
       "display": null,
       "flex": null,
       "flex_flow": null,
       "grid_area": null,
       "grid_auto_columns": null,
       "grid_auto_flow": null,
       "grid_auto_rows": null,
       "grid_column": null,
       "grid_gap": null,
       "grid_row": null,
       "grid_template_areas": null,
       "grid_template_columns": null,
       "grid_template_rows": null,
       "height": null,
       "justify_content": null,
       "justify_items": null,
       "left": null,
       "margin": null,
       "max_height": null,
       "max_width": null,
       "min_height": null,
       "min_width": null,
       "object_fit": null,
       "object_position": null,
       "order": null,
       "overflow": null,
       "padding": null,
       "right": null,
       "top": null,
       "visibility": null,
       "width": null
      }
     },
     "5e66cba487b44d53974146f9b89d7965": {
      "model_module": "@jupyter-widgets/base",
      "model_module_version": "2.0.0",
      "model_name": "LayoutModel",
      "state": {
       "_model_module": "@jupyter-widgets/base",
       "_model_module_version": "2.0.0",
       "_model_name": "LayoutModel",
       "_view_count": null,
       "_view_module": "@jupyter-widgets/base",
       "_view_module_version": "2.0.0",
       "_view_name": "LayoutView",
       "align_content": null,
       "align_items": null,
       "align_self": null,
       "border_bottom": null,
       "border_left": null,
       "border_right": null,
       "border_top": null,
       "bottom": null,
       "display": null,
       "flex": null,
       "flex_flow": null,
       "grid_area": null,
       "grid_auto_columns": null,
       "grid_auto_flow": null,
       "grid_auto_rows": null,
       "grid_column": null,
       "grid_gap": null,
       "grid_row": null,
       "grid_template_areas": null,
       "grid_template_columns": null,
       "grid_template_rows": null,
       "height": null,
       "justify_content": null,
       "justify_items": null,
       "left": null,
       "margin": null,
       "max_height": null,
       "max_width": null,
       "min_height": null,
       "min_width": null,
       "object_fit": null,
       "object_position": null,
       "order": null,
       "overflow": null,
       "padding": null,
       "right": null,
       "top": null,
       "visibility": null,
       "width": null
      }
     },
     "5eeea584c3104eaa9bdf8833925149ee": {
      "model_module": "@jupyter-widgets/controls",
      "model_module_version": "2.0.0",
      "model_name": "HTMLStyleModel",
      "state": {
       "_model_module": "@jupyter-widgets/controls",
       "_model_module_version": "2.0.0",
       "_model_name": "HTMLStyleModel",
       "_view_count": null,
       "_view_module": "@jupyter-widgets/base",
       "_view_module_version": "2.0.0",
       "_view_name": "StyleView",
       "background": null,
       "description_width": "",
       "font_size": null,
       "text_color": null
      }
     },
     "63185070aa7a49f6a9794ae72937a64c": {
      "model_module": "@jupyter-widgets/base",
      "model_module_version": "2.0.0",
      "model_name": "LayoutModel",
      "state": {
       "_model_module": "@jupyter-widgets/base",
       "_model_module_version": "2.0.0",
       "_model_name": "LayoutModel",
       "_view_count": null,
       "_view_module": "@jupyter-widgets/base",
       "_view_module_version": "2.0.0",
       "_view_name": "LayoutView",
       "align_content": null,
       "align_items": null,
       "align_self": null,
       "border_bottom": null,
       "border_left": null,
       "border_right": null,
       "border_top": null,
       "bottom": null,
       "display": null,
       "flex": null,
       "flex_flow": null,
       "grid_area": null,
       "grid_auto_columns": null,
       "grid_auto_flow": null,
       "grid_auto_rows": null,
       "grid_column": null,
       "grid_gap": null,
       "grid_row": null,
       "grid_template_areas": null,
       "grid_template_columns": null,
       "grid_template_rows": null,
       "height": null,
       "justify_content": null,
       "justify_items": null,
       "left": null,
       "margin": null,
       "max_height": null,
       "max_width": null,
       "min_height": null,
       "min_width": null,
       "object_fit": null,
       "object_position": null,
       "order": null,
       "overflow": null,
       "padding": null,
       "right": null,
       "top": null,
       "visibility": null,
       "width": null
      }
     },
     "641f2d688f8049b8bfffb66f8332fccb": {
      "model_module": "@jupyter-widgets/controls",
      "model_module_version": "2.0.0",
      "model_name": "FloatProgressModel",
      "state": {
       "_dom_classes": [],
       "_model_module": "@jupyter-widgets/controls",
       "_model_module_version": "2.0.0",
       "_model_name": "FloatProgressModel",
       "_view_count": null,
       "_view_module": "@jupyter-widgets/controls",
       "_view_module_version": "2.0.0",
       "_view_name": "ProgressView",
       "bar_style": "success",
       "description": "",
       "description_allow_html": false,
       "layout": "IPY_MODEL_a073a0abb03a48978f4f3b9edba5490b",
       "max": 1,
       "min": 0,
       "orientation": "horizontal",
       "style": "IPY_MODEL_1c62800ed21e4debbbb95b73c71ca81e",
       "tabbable": null,
       "tooltip": null,
       "value": 1
      }
     },
     "6444f7582a964fd1bff1fce8fd2c3134": {
      "model_module": "@jupyter-widgets/controls",
      "model_module_version": "2.0.0",
      "model_name": "HTMLModel",
      "state": {
       "_dom_classes": [],
       "_model_module": "@jupyter-widgets/controls",
       "_model_module_version": "2.0.0",
       "_model_name": "HTMLModel",
       "_view_count": null,
       "_view_module": "@jupyter-widgets/controls",
       "_view_module_version": "2.0.0",
       "_view_name": "HTMLView",
       "description": "",
       "description_allow_html": false,
       "layout": "IPY_MODEL_11a932c8db7c4dec868db5cb7f3e1dd0",
       "placeholder": "​",
       "style": "IPY_MODEL_fb0cc8ca60c74573a3486f71f5208d84",
       "tabbable": null,
       "tooltip": null,
       "value": " 499M/499M [00:02&lt;00:00, 335MB/s]"
      }
     },
     "653fa7898cd04ac588a630c7f3ef5d49": {
      "model_module": "@jupyter-widgets/base",
      "model_module_version": "2.0.0",
      "model_name": "LayoutModel",
      "state": {
       "_model_module": "@jupyter-widgets/base",
       "_model_module_version": "2.0.0",
       "_model_name": "LayoutModel",
       "_view_count": null,
       "_view_module": "@jupyter-widgets/base",
       "_view_module_version": "2.0.0",
       "_view_name": "LayoutView",
       "align_content": null,
       "align_items": null,
       "align_self": null,
       "border_bottom": null,
       "border_left": null,
       "border_right": null,
       "border_top": null,
       "bottom": null,
       "display": null,
       "flex": null,
       "flex_flow": null,
       "grid_area": null,
       "grid_auto_columns": null,
       "grid_auto_flow": null,
       "grid_auto_rows": null,
       "grid_column": null,
       "grid_gap": null,
       "grid_row": null,
       "grid_template_areas": null,
       "grid_template_columns": null,
       "grid_template_rows": null,
       "height": null,
       "justify_content": null,
       "justify_items": null,
       "left": null,
       "margin": null,
       "max_height": null,
       "max_width": null,
       "min_height": null,
       "min_width": null,
       "object_fit": null,
       "object_position": null,
       "order": null,
       "overflow": null,
       "padding": null,
       "right": null,
       "top": null,
       "visibility": null,
       "width": null
      }
     },
     "65e1a8d74cfc4067a5ffeb1dcbe86249": {
      "model_module": "@jupyter-widgets/controls",
      "model_module_version": "2.0.0",
      "model_name": "HBoxModel",
      "state": {
       "_dom_classes": [],
       "_model_module": "@jupyter-widgets/controls",
       "_model_module_version": "2.0.0",
       "_model_name": "HBoxModel",
       "_view_count": null,
       "_view_module": "@jupyter-widgets/controls",
       "_view_module_version": "2.0.0",
       "_view_name": "HBoxView",
       "box_style": "",
       "children": [
        "IPY_MODEL_3a6a4b7366dc4134a229dc4face6312d",
        "IPY_MODEL_24f6a983230144d2bd234eac62e46a3f",
        "IPY_MODEL_9054b108234e48358da4a8c1caa30d21"
       ],
       "layout": "IPY_MODEL_9e3bc36172ed4c7eae46fef55c59e8c5",
       "tabbable": null,
       "tooltip": null
      }
     },
     "692f7b9e9f8144908edf9f8bb9f4c0c7": {
      "model_module": "@jupyter-widgets/controls",
      "model_module_version": "2.0.0",
      "model_name": "HTMLModel",
      "state": {
       "_dom_classes": [],
       "_model_module": "@jupyter-widgets/controls",
       "_model_module_version": "2.0.0",
       "_model_name": "HTMLModel",
       "_view_count": null,
       "_view_module": "@jupyter-widgets/controls",
       "_view_module_version": "2.0.0",
       "_view_name": "HTMLView",
       "description": "",
       "description_allow_html": false,
       "layout": "IPY_MODEL_024c5a894a084845b1578d5c1b3a0c93",
       "placeholder": "​",
       "style": "IPY_MODEL_a737b703b16a4ccc85d01c1350f4875d",
       "tabbable": null,
       "tooltip": null,
       "value": " 836/836 [00:00&lt;00:00, 3477.47 examples/s]"
      }
     },
     "6988a36a2c004a8390b05f5ded3d292a": {
      "model_module": "@jupyter-widgets/controls",
      "model_module_version": "2.0.0",
      "model_name": "ProgressStyleModel",
      "state": {
       "_model_module": "@jupyter-widgets/controls",
       "_model_module_version": "2.0.0",
       "_model_name": "ProgressStyleModel",
       "_view_count": null,
       "_view_module": "@jupyter-widgets/base",
       "_view_module_version": "2.0.0",
       "_view_name": "StyleView",
       "bar_color": null,
       "description_width": ""
      }
     },
     "712c69c8b9ce401d94af8ee631a6b2c8": {
      "model_module": "@jupyter-widgets/controls",
      "model_module_version": "2.0.0",
      "model_name": "ProgressStyleModel",
      "state": {
       "_model_module": "@jupyter-widgets/controls",
       "_model_module_version": "2.0.0",
       "_model_name": "ProgressStyleModel",
       "_view_count": null,
       "_view_module": "@jupyter-widgets/base",
       "_view_module_version": "2.0.0",
       "_view_name": "StyleView",
       "bar_color": null,
       "description_width": ""
      }
     },
     "787c2a503e064c46a2870ca4ed9c408c": {
      "model_module": "@jupyter-widgets/base",
      "model_module_version": "2.0.0",
      "model_name": "LayoutModel",
      "state": {
       "_model_module": "@jupyter-widgets/base",
       "_model_module_version": "2.0.0",
       "_model_name": "LayoutModel",
       "_view_count": null,
       "_view_module": "@jupyter-widgets/base",
       "_view_module_version": "2.0.0",
       "_view_name": "LayoutView",
       "align_content": null,
       "align_items": null,
       "align_self": null,
       "border_bottom": null,
       "border_left": null,
       "border_right": null,
       "border_top": null,
       "bottom": null,
       "display": null,
       "flex": null,
       "flex_flow": null,
       "grid_area": null,
       "grid_auto_columns": null,
       "grid_auto_flow": null,
       "grid_auto_rows": null,
       "grid_column": null,
       "grid_gap": null,
       "grid_row": null,
       "grid_template_areas": null,
       "grid_template_columns": null,
       "grid_template_rows": null,
       "height": null,
       "justify_content": null,
       "justify_items": null,
       "left": null,
       "margin": null,
       "max_height": null,
       "max_width": null,
       "min_height": null,
       "min_width": null,
       "object_fit": null,
       "object_position": null,
       "order": null,
       "overflow": null,
       "padding": null,
       "right": null,
       "top": null,
       "visibility": null,
       "width": null
      }
     },
     "80bc9549a6ea4c8a87d83d24ff73ec6e": {
      "model_module": "@jupyter-widgets/controls",
      "model_module_version": "2.0.0",
      "model_name": "HTMLStyleModel",
      "state": {
       "_model_module": "@jupyter-widgets/controls",
       "_model_module_version": "2.0.0",
       "_model_name": "HTMLStyleModel",
       "_view_count": null,
       "_view_module": "@jupyter-widgets/base",
       "_view_module_version": "2.0.0",
       "_view_name": "StyleView",
       "background": null,
       "description_width": "",
       "font_size": null,
       "text_color": null
      }
     },
     "839a5fa0943b4b7fa8be090be0985f18": {
      "model_module": "@jupyter-widgets/controls",
      "model_module_version": "2.0.0",
      "model_name": "HTMLStyleModel",
      "state": {
       "_model_module": "@jupyter-widgets/controls",
       "_model_module_version": "2.0.0",
       "_model_name": "HTMLStyleModel",
       "_view_count": null,
       "_view_module": "@jupyter-widgets/base",
       "_view_module_version": "2.0.0",
       "_view_name": "StyleView",
       "background": null,
       "description_width": "",
       "font_size": null,
       "text_color": null
      }
     },
     "86b3c6e9f94a4189a2edfaad23ab19bf": {
      "model_module": "@jupyter-widgets/base",
      "model_module_version": "2.0.0",
      "model_name": "LayoutModel",
      "state": {
       "_model_module": "@jupyter-widgets/base",
       "_model_module_version": "2.0.0",
       "_model_name": "LayoutModel",
       "_view_count": null,
       "_view_module": "@jupyter-widgets/base",
       "_view_module_version": "2.0.0",
       "_view_name": "LayoutView",
       "align_content": null,
       "align_items": null,
       "align_self": null,
       "border_bottom": null,
       "border_left": null,
       "border_right": null,
       "border_top": null,
       "bottom": null,
       "display": null,
       "flex": null,
       "flex_flow": null,
       "grid_area": null,
       "grid_auto_columns": null,
       "grid_auto_flow": null,
       "grid_auto_rows": null,
       "grid_column": null,
       "grid_gap": null,
       "grid_row": null,
       "grid_template_areas": null,
       "grid_template_columns": null,
       "grid_template_rows": null,
       "height": null,
       "justify_content": null,
       "justify_items": null,
       "left": null,
       "margin": null,
       "max_height": null,
       "max_width": null,
       "min_height": null,
       "min_width": null,
       "object_fit": null,
       "object_position": null,
       "order": null,
       "overflow": null,
       "padding": null,
       "right": null,
       "top": null,
       "visibility": null,
       "width": "20px"
      }
     },
     "87aa2c359b93442fb8a4d866c941cce8": {
      "model_module": "@jupyter-widgets/controls",
      "model_module_version": "2.0.0",
      "model_name": "HTMLStyleModel",
      "state": {
       "_model_module": "@jupyter-widgets/controls",
       "_model_module_version": "2.0.0",
       "_model_name": "HTMLStyleModel",
       "_view_count": null,
       "_view_module": "@jupyter-widgets/base",
       "_view_module_version": "2.0.0",
       "_view_name": "StyleView",
       "background": null,
       "description_width": "",
       "font_size": null,
       "text_color": null
      }
     },
     "87e07cafec454d7f8e22d313ff68e03e": {
      "model_module": "@jupyter-widgets/base",
      "model_module_version": "2.0.0",
      "model_name": "LayoutModel",
      "state": {
       "_model_module": "@jupyter-widgets/base",
       "_model_module_version": "2.0.0",
       "_model_name": "LayoutModel",
       "_view_count": null,
       "_view_module": "@jupyter-widgets/base",
       "_view_module_version": "2.0.0",
       "_view_name": "LayoutView",
       "align_content": null,
       "align_items": null,
       "align_self": null,
       "border_bottom": null,
       "border_left": null,
       "border_right": null,
       "border_top": null,
       "bottom": null,
       "display": null,
       "flex": null,
       "flex_flow": null,
       "grid_area": null,
       "grid_auto_columns": null,
       "grid_auto_flow": null,
       "grid_auto_rows": null,
       "grid_column": null,
       "grid_gap": null,
       "grid_row": null,
       "grid_template_areas": null,
       "grid_template_columns": null,
       "grid_template_rows": null,
       "height": null,
       "justify_content": null,
       "justify_items": null,
       "left": null,
       "margin": null,
       "max_height": null,
       "max_width": null,
       "min_height": null,
       "min_width": null,
       "object_fit": null,
       "object_position": null,
       "order": null,
       "overflow": null,
       "padding": null,
       "right": null,
       "top": null,
       "visibility": null,
       "width": null
      }
     },
     "87fa452d7609496c9107e3a0ee5e406c": {
      "model_module": "@jupyter-widgets/controls",
      "model_module_version": "2.0.0",
      "model_name": "HTMLStyleModel",
      "state": {
       "_model_module": "@jupyter-widgets/controls",
       "_model_module_version": "2.0.0",
       "_model_name": "HTMLStyleModel",
       "_view_count": null,
       "_view_module": "@jupyter-widgets/base",
       "_view_module_version": "2.0.0",
       "_view_name": "StyleView",
       "background": null,
       "description_width": "",
       "font_size": null,
       "text_color": null
      }
     },
     "8a537026468d412d88df2bbf3f4c5d82": {
      "model_module": "@jupyter-widgets/controls",
      "model_module_version": "2.0.0",
      "model_name": "HTMLModel",
      "state": {
       "_dom_classes": [],
       "_model_module": "@jupyter-widgets/controls",
       "_model_module_version": "2.0.0",
       "_model_name": "HTMLModel",
       "_view_count": null,
       "_view_module": "@jupyter-widgets/controls",
       "_view_module_version": "2.0.0",
       "_view_name": "HTMLView",
       "description": "",
       "description_allow_html": false,
       "layout": "IPY_MODEL_5deed39794cb4c71b5e791cd96e7cb96",
       "placeholder": "​",
       "style": "IPY_MODEL_9d87dde1bb8a4295b95cabacbe2e36ef",
       "tabbable": null,
       "tooltip": null,
       "value": "Map: 100%"
      }
     },
     "8abf48bdcee94c4ab7cc6e968e0e02ea": {
      "model_module": "@jupyter-widgets/controls",
      "model_module_version": "2.0.0",
      "model_name": "ProgressStyleModel",
      "state": {
       "_model_module": "@jupyter-widgets/controls",
       "_model_module_version": "2.0.0",
       "_model_name": "ProgressStyleModel",
       "_view_count": null,
       "_view_module": "@jupyter-widgets/base",
       "_view_module_version": "2.0.0",
       "_view_name": "StyleView",
       "bar_color": null,
       "description_width": ""
      }
     },
     "8f30b03e352d4966adb93703a4f73968": {
      "model_module": "@jupyter-widgets/controls",
      "model_module_version": "2.0.0",
      "model_name": "HBoxModel",
      "state": {
       "_dom_classes": [],
       "_model_module": "@jupyter-widgets/controls",
       "_model_module_version": "2.0.0",
       "_model_name": "HBoxModel",
       "_view_count": null,
       "_view_module": "@jupyter-widgets/controls",
       "_view_module_version": "2.0.0",
       "_view_name": "HBoxView",
       "box_style": "",
       "children": [
        "IPY_MODEL_29d483b831434c68a6e650306805dd65",
        "IPY_MODEL_500186d51b024d1281325c3fa5f508e1",
        "IPY_MODEL_0b805ef9643141bbb98601fc37de5d5d"
       ],
       "layout": "IPY_MODEL_dd8a50d0c5c24b07a94c2b304976d307",
       "tabbable": null,
       "tooltip": null
      }
     },
     "9054b108234e48358da4a8c1caa30d21": {
      "model_module": "@jupyter-widgets/controls",
      "model_module_version": "2.0.0",
      "model_name": "HTMLModel",
      "state": {
       "_dom_classes": [],
       "_model_module": "@jupyter-widgets/controls",
       "_model_module_version": "2.0.0",
       "_model_name": "HTMLModel",
       "_view_count": null,
       "_view_module": "@jupyter-widgets/controls",
       "_view_module_version": "2.0.0",
       "_view_name": "HTMLView",
       "description": "",
       "description_allow_html": false,
       "layout": "IPY_MODEL_fcadfe0505a34cdf929981ae06b53e87",
       "placeholder": "​",
       "style": "IPY_MODEL_31ec997c081546e6acbe4cd53e5d4a3f",
       "tabbable": null,
       "tooltip": null,
       "value": " 456k/? [00:00&lt;00:00, 29.4MB/s]"
      }
     },
     "90af7edf8b7047db847efee726511053": {
      "model_module": "@jupyter-widgets/controls",
      "model_module_version": "2.0.0",
      "model_name": "FloatProgressModel",
      "state": {
       "_dom_classes": [],
       "_model_module": "@jupyter-widgets/controls",
       "_model_module_version": "2.0.0",
       "_model_name": "FloatProgressModel",
       "_view_count": null,
       "_view_module": "@jupyter-widgets/controls",
       "_view_module_version": "2.0.0",
       "_view_name": "ProgressView",
       "bar_style": "success",
       "description": "",
       "description_allow_html": false,
       "layout": "IPY_MODEL_c5def63aa2164101a3b0d306311fe8b0",
       "max": 1,
       "min": 0,
       "orientation": "horizontal",
       "style": "IPY_MODEL_592d0f507af949f784a0fb96e6e1528e",
       "tabbable": null,
       "tooltip": null,
       "value": 1
      }
     },
     "9d6a74ad5f5541e79a4262047d20c5db": {
      "model_module": "@jupyter-widgets/controls",
      "model_module_version": "2.0.0",
      "model_name": "HTMLModel",
      "state": {
       "_dom_classes": [],
       "_model_module": "@jupyter-widgets/controls",
       "_model_module_version": "2.0.0",
       "_model_name": "HTMLModel",
       "_view_count": null,
       "_view_module": "@jupyter-widgets/controls",
       "_view_module_version": "2.0.0",
       "_view_name": "HTMLView",
       "description": "",
       "description_allow_html": false,
       "layout": "IPY_MODEL_b5e1b953e04c4ea190f87b2eab215dda",
       "placeholder": "​",
       "style": "IPY_MODEL_87aa2c359b93442fb8a4d866c941cce8",
       "tabbable": null,
       "tooltip": null,
       "value": "Map: 100%"
      }
     },
     "9d87dde1bb8a4295b95cabacbe2e36ef": {
      "model_module": "@jupyter-widgets/controls",
      "model_module_version": "2.0.0",
      "model_name": "HTMLStyleModel",
      "state": {
       "_model_module": "@jupyter-widgets/controls",
       "_model_module_version": "2.0.0",
       "_model_name": "HTMLStyleModel",
       "_view_count": null,
       "_view_module": "@jupyter-widgets/base",
       "_view_module_version": "2.0.0",
       "_view_name": "StyleView",
       "background": null,
       "description_width": "",
       "font_size": null,
       "text_color": null
      }
     },
     "9e3bc36172ed4c7eae46fef55c59e8c5": {
      "model_module": "@jupyter-widgets/base",
      "model_module_version": "2.0.0",
      "model_name": "LayoutModel",
      "state": {
       "_model_module": "@jupyter-widgets/base",
       "_model_module_version": "2.0.0",
       "_model_name": "LayoutModel",
       "_view_count": null,
       "_view_module": "@jupyter-widgets/base",
       "_view_module_version": "2.0.0",
       "_view_name": "LayoutView",
       "align_content": null,
       "align_items": null,
       "align_self": null,
       "border_bottom": null,
       "border_left": null,
       "border_right": null,
       "border_top": null,
       "bottom": null,
       "display": null,
       "flex": null,
       "flex_flow": null,
       "grid_area": null,
       "grid_auto_columns": null,
       "grid_auto_flow": null,
       "grid_auto_rows": null,
       "grid_column": null,
       "grid_gap": null,
       "grid_row": null,
       "grid_template_areas": null,
       "grid_template_columns": null,
       "grid_template_rows": null,
       "height": null,
       "justify_content": null,
       "justify_items": null,
       "left": null,
       "margin": null,
       "max_height": null,
       "max_width": null,
       "min_height": null,
       "min_width": null,
       "object_fit": null,
       "object_position": null,
       "order": null,
       "overflow": null,
       "padding": null,
       "right": null,
       "top": null,
       "visibility": null,
       "width": null
      }
     },
     "a073a0abb03a48978f4f3b9edba5490b": {
      "model_module": "@jupyter-widgets/base",
      "model_module_version": "2.0.0",
      "model_name": "LayoutModel",
      "state": {
       "_model_module": "@jupyter-widgets/base",
       "_model_module_version": "2.0.0",
       "_model_name": "LayoutModel",
       "_view_count": null,
       "_view_module": "@jupyter-widgets/base",
       "_view_module_version": "2.0.0",
       "_view_name": "LayoutView",
       "align_content": null,
       "align_items": null,
       "align_self": null,
       "border_bottom": null,
       "border_left": null,
       "border_right": null,
       "border_top": null,
       "bottom": null,
       "display": null,
       "flex": null,
       "flex_flow": null,
       "grid_area": null,
       "grid_auto_columns": null,
       "grid_auto_flow": null,
       "grid_auto_rows": null,
       "grid_column": null,
       "grid_gap": null,
       "grid_row": null,
       "grid_template_areas": null,
       "grid_template_columns": null,
       "grid_template_rows": null,
       "height": null,
       "justify_content": null,
       "justify_items": null,
       "left": null,
       "margin": null,
       "max_height": null,
       "max_width": null,
       "min_height": null,
       "min_width": null,
       "object_fit": null,
       "object_position": null,
       "order": null,
       "overflow": null,
       "padding": null,
       "right": null,
       "top": null,
       "visibility": null,
       "width": "20px"
      }
     },
     "a737b703b16a4ccc85d01c1350f4875d": {
      "model_module": "@jupyter-widgets/controls",
      "model_module_version": "2.0.0",
      "model_name": "HTMLStyleModel",
      "state": {
       "_model_module": "@jupyter-widgets/controls",
       "_model_module_version": "2.0.0",
       "_model_name": "HTMLStyleModel",
       "_view_count": null,
       "_view_module": "@jupyter-widgets/base",
       "_view_module_version": "2.0.0",
       "_view_name": "StyleView",
       "background": null,
       "description_width": "",
       "font_size": null,
       "text_color": null
      }
     },
     "a8d71a35bb1d4fceb15c53fa56647063": {
      "model_module": "@jupyter-widgets/base",
      "model_module_version": "2.0.0",
      "model_name": "LayoutModel",
      "state": {
       "_model_module": "@jupyter-widgets/base",
       "_model_module_version": "2.0.0",
       "_model_name": "LayoutModel",
       "_view_count": null,
       "_view_module": "@jupyter-widgets/base",
       "_view_module_version": "2.0.0",
       "_view_name": "LayoutView",
       "align_content": null,
       "align_items": null,
       "align_self": null,
       "border_bottom": null,
       "border_left": null,
       "border_right": null,
       "border_top": null,
       "bottom": null,
       "display": null,
       "flex": null,
       "flex_flow": null,
       "grid_area": null,
       "grid_auto_columns": null,
       "grid_auto_flow": null,
       "grid_auto_rows": null,
       "grid_column": null,
       "grid_gap": null,
       "grid_row": null,
       "grid_template_areas": null,
       "grid_template_columns": null,
       "grid_template_rows": null,
       "height": null,
       "justify_content": null,
       "justify_items": null,
       "left": null,
       "margin": null,
       "max_height": null,
       "max_width": null,
       "min_height": null,
       "min_width": null,
       "object_fit": null,
       "object_position": null,
       "order": null,
       "overflow": null,
       "padding": null,
       "right": null,
       "top": null,
       "visibility": null,
       "width": null
      }
     },
     "ad7e6f22872341138a7857ecb46730b5": {
      "model_module": "@jupyter-widgets/controls",
      "model_module_version": "2.0.0",
      "model_name": "HBoxModel",
      "state": {
       "_dom_classes": [],
       "_model_module": "@jupyter-widgets/controls",
       "_model_module_version": "2.0.0",
       "_model_name": "HBoxModel",
       "_view_count": null,
       "_view_module": "@jupyter-widgets/controls",
       "_view_module_version": "2.0.0",
       "_view_name": "HBoxView",
       "box_style": "",
       "children": [
        "IPY_MODEL_0b7822e82e4c42d79e7dfe1cf2f13c16",
        "IPY_MODEL_cd47389ea12c472b951f924274e601e7",
        "IPY_MODEL_6444f7582a964fd1bff1fce8fd2c3134"
       ],
       "layout": "IPY_MODEL_afe4bae1c8b94e5488afc7455cf0f8de",
       "tabbable": null,
       "tooltip": null
      }
     },
     "afe4bae1c8b94e5488afc7455cf0f8de": {
      "model_module": "@jupyter-widgets/base",
      "model_module_version": "2.0.0",
      "model_name": "LayoutModel",
      "state": {
       "_model_module": "@jupyter-widgets/base",
       "_model_module_version": "2.0.0",
       "_model_name": "LayoutModel",
       "_view_count": null,
       "_view_module": "@jupyter-widgets/base",
       "_view_module_version": "2.0.0",
       "_view_name": "LayoutView",
       "align_content": null,
       "align_items": null,
       "align_self": null,
       "border_bottom": null,
       "border_left": null,
       "border_right": null,
       "border_top": null,
       "bottom": null,
       "display": null,
       "flex": null,
       "flex_flow": null,
       "grid_area": null,
       "grid_auto_columns": null,
       "grid_auto_flow": null,
       "grid_auto_rows": null,
       "grid_column": null,
       "grid_gap": null,
       "grid_row": null,
       "grid_template_areas": null,
       "grid_template_columns": null,
       "grid_template_rows": null,
       "height": null,
       "justify_content": null,
       "justify_items": null,
       "left": null,
       "margin": null,
       "max_height": null,
       "max_width": null,
       "min_height": null,
       "min_width": null,
       "object_fit": null,
       "object_position": null,
       "order": null,
       "overflow": null,
       "padding": null,
       "right": null,
       "top": null,
       "visibility": null,
       "width": null
      }
     },
     "b24e565a73914a4abcb3657f8412992b": {
      "model_module": "@jupyter-widgets/controls",
      "model_module_version": "2.0.0",
      "model_name": "HTMLStyleModel",
      "state": {
       "_model_module": "@jupyter-widgets/controls",
       "_model_module_version": "2.0.0",
       "_model_name": "HTMLStyleModel",
       "_view_count": null,
       "_view_module": "@jupyter-widgets/base",
       "_view_module_version": "2.0.0",
       "_view_name": "StyleView",
       "background": null,
       "description_width": "",
       "font_size": null,
       "text_color": null
      }
     },
     "b2a7f79aec844f67884cbce6e549e3e2": {
      "model_module": "@jupyter-widgets/base",
      "model_module_version": "2.0.0",
      "model_name": "LayoutModel",
      "state": {
       "_model_module": "@jupyter-widgets/base",
       "_model_module_version": "2.0.0",
       "_model_name": "LayoutModel",
       "_view_count": null,
       "_view_module": "@jupyter-widgets/base",
       "_view_module_version": "2.0.0",
       "_view_name": "LayoutView",
       "align_content": null,
       "align_items": null,
       "align_self": null,
       "border_bottom": null,
       "border_left": null,
       "border_right": null,
       "border_top": null,
       "bottom": null,
       "display": null,
       "flex": null,
       "flex_flow": null,
       "grid_area": null,
       "grid_auto_columns": null,
       "grid_auto_flow": null,
       "grid_auto_rows": null,
       "grid_column": null,
       "grid_gap": null,
       "grid_row": null,
       "grid_template_areas": null,
       "grid_template_columns": null,
       "grid_template_rows": null,
       "height": null,
       "justify_content": null,
       "justify_items": null,
       "left": null,
       "margin": null,
       "max_height": null,
       "max_width": null,
       "min_height": null,
       "min_width": null,
       "object_fit": null,
       "object_position": null,
       "order": null,
       "overflow": null,
       "padding": null,
       "right": null,
       "top": null,
       "visibility": null,
       "width": null
      }
     },
     "b3bab0f7f2624c98919db0c5ad5ee8dc": {
      "model_module": "@jupyter-widgets/controls",
      "model_module_version": "2.0.0",
      "model_name": "HTMLStyleModel",
      "state": {
       "_model_module": "@jupyter-widgets/controls",
       "_model_module_version": "2.0.0",
       "_model_name": "HTMLStyleModel",
       "_view_count": null,
       "_view_module": "@jupyter-widgets/base",
       "_view_module_version": "2.0.0",
       "_view_name": "StyleView",
       "background": null,
       "description_width": "",
       "font_size": null,
       "text_color": null
      }
     },
     "b5e1b953e04c4ea190f87b2eab215dda": {
      "model_module": "@jupyter-widgets/base",
      "model_module_version": "2.0.0",
      "model_name": "LayoutModel",
      "state": {
       "_model_module": "@jupyter-widgets/base",
       "_model_module_version": "2.0.0",
       "_model_name": "LayoutModel",
       "_view_count": null,
       "_view_module": "@jupyter-widgets/base",
       "_view_module_version": "2.0.0",
       "_view_name": "LayoutView",
       "align_content": null,
       "align_items": null,
       "align_self": null,
       "border_bottom": null,
       "border_left": null,
       "border_right": null,
       "border_top": null,
       "bottom": null,
       "display": null,
       "flex": null,
       "flex_flow": null,
       "grid_area": null,
       "grid_auto_columns": null,
       "grid_auto_flow": null,
       "grid_auto_rows": null,
       "grid_column": null,
       "grid_gap": null,
       "grid_row": null,
       "grid_template_areas": null,
       "grid_template_columns": null,
       "grid_template_rows": null,
       "height": null,
       "justify_content": null,
       "justify_items": null,
       "left": null,
       "margin": null,
       "max_height": null,
       "max_width": null,
       "min_height": null,
       "min_width": null,
       "object_fit": null,
       "object_position": null,
       "order": null,
       "overflow": null,
       "padding": null,
       "right": null,
       "top": null,
       "visibility": null,
       "width": null
      }
     },
     "bd48293d16c8418ba8877b4c5aa8fa91": {
      "model_module": "@jupyter-widgets/base",
      "model_module_version": "2.0.0",
      "model_name": "LayoutModel",
      "state": {
       "_model_module": "@jupyter-widgets/base",
       "_model_module_version": "2.0.0",
       "_model_name": "LayoutModel",
       "_view_count": null,
       "_view_module": "@jupyter-widgets/base",
       "_view_module_version": "2.0.0",
       "_view_name": "LayoutView",
       "align_content": null,
       "align_items": null,
       "align_self": null,
       "border_bottom": null,
       "border_left": null,
       "border_right": null,
       "border_top": null,
       "bottom": null,
       "display": null,
       "flex": null,
       "flex_flow": null,
       "grid_area": null,
       "grid_auto_columns": null,
       "grid_auto_flow": null,
       "grid_auto_rows": null,
       "grid_column": null,
       "grid_gap": null,
       "grid_row": null,
       "grid_template_areas": null,
       "grid_template_columns": null,
       "grid_template_rows": null,
       "height": null,
       "justify_content": null,
       "justify_items": null,
       "left": null,
       "margin": null,
       "max_height": null,
       "max_width": null,
       "min_height": null,
       "min_width": null,
       "object_fit": null,
       "object_position": null,
       "order": null,
       "overflow": null,
       "padding": null,
       "right": null,
       "top": null,
       "visibility": null,
       "width": null
      }
     },
     "bede6fd5429c4529b8d4bf879c19cb00": {
      "model_module": "@jupyter-widgets/controls",
      "model_module_version": "2.0.0",
      "model_name": "HTMLStyleModel",
      "state": {
       "_model_module": "@jupyter-widgets/controls",
       "_model_module_version": "2.0.0",
       "_model_name": "HTMLStyleModel",
       "_view_count": null,
       "_view_module": "@jupyter-widgets/base",
       "_view_module_version": "2.0.0",
       "_view_name": "StyleView",
       "background": null,
       "description_width": "",
       "font_size": null,
       "text_color": null
      }
     },
     "c127ed594c41432480aa797eed4892ac": {
      "model_module": "@jupyter-widgets/controls",
      "model_module_version": "2.0.0",
      "model_name": "FloatProgressModel",
      "state": {
       "_dom_classes": [],
       "_model_module": "@jupyter-widgets/controls",
       "_model_module_version": "2.0.0",
       "_model_name": "FloatProgressModel",
       "_view_count": null,
       "_view_module": "@jupyter-widgets/controls",
       "_view_module_version": "2.0.0",
       "_view_name": "ProgressView",
       "bar_style": "success",
       "description": "",
       "description_allow_html": false,
       "layout": "IPY_MODEL_787c2a503e064c46a2870ca4ed9c408c",
       "max": 25,
       "min": 0,
       "orientation": "horizontal",
       "style": "IPY_MODEL_712c69c8b9ce401d94af8ee631a6b2c8",
       "tabbable": null,
       "tooltip": null,
       "value": 25
      }
     },
     "c5def63aa2164101a3b0d306311fe8b0": {
      "model_module": "@jupyter-widgets/base",
      "model_module_version": "2.0.0",
      "model_name": "LayoutModel",
      "state": {
       "_model_module": "@jupyter-widgets/base",
       "_model_module_version": "2.0.0",
       "_model_name": "LayoutModel",
       "_view_count": null,
       "_view_module": "@jupyter-widgets/base",
       "_view_module_version": "2.0.0",
       "_view_name": "LayoutView",
       "align_content": null,
       "align_items": null,
       "align_self": null,
       "border_bottom": null,
       "border_left": null,
       "border_right": null,
       "border_top": null,
       "bottom": null,
       "display": null,
       "flex": null,
       "flex_flow": null,
       "grid_area": null,
       "grid_auto_columns": null,
       "grid_auto_flow": null,
       "grid_auto_rows": null,
       "grid_column": null,
       "grid_gap": null,
       "grid_row": null,
       "grid_template_areas": null,
       "grid_template_columns": null,
       "grid_template_rows": null,
       "height": null,
       "justify_content": null,
       "justify_items": null,
       "left": null,
       "margin": null,
       "max_height": null,
       "max_width": null,
       "min_height": null,
       "min_width": null,
       "object_fit": null,
       "object_position": null,
       "order": null,
       "overflow": null,
       "padding": null,
       "right": null,
       "top": null,
       "visibility": null,
       "width": "20px"
      }
     },
     "cd47389ea12c472b951f924274e601e7": {
      "model_module": "@jupyter-widgets/controls",
      "model_module_version": "2.0.0",
      "model_name": "FloatProgressModel",
      "state": {
       "_dom_classes": [],
       "_model_module": "@jupyter-widgets/controls",
       "_model_module_version": "2.0.0",
       "_model_name": "FloatProgressModel",
       "_view_count": null,
       "_view_module": "@jupyter-widgets/controls",
       "_view_module_version": "2.0.0",
       "_view_name": "ProgressView",
       "bar_style": "success",
       "description": "",
       "description_allow_html": false,
       "layout": "IPY_MODEL_2e55a39997ac44178e2ffa5d827803f6",
       "max": 498818054,
       "min": 0,
       "orientation": "horizontal",
       "style": "IPY_MODEL_3263ea00779b49d9a814266537e962d9",
       "tabbable": null,
       "tooltip": null,
       "value": 498818054
      }
     },
     "d1973afbac7141bb96c62af2bc6e2acc": {
      "model_module": "@jupyter-widgets/controls",
      "model_module_version": "2.0.0",
      "model_name": "HBoxModel",
      "state": {
       "_dom_classes": [],
       "_model_module": "@jupyter-widgets/controls",
       "_model_module_version": "2.0.0",
       "_model_name": "HBoxModel",
       "_view_count": null,
       "_view_module": "@jupyter-widgets/controls",
       "_view_module_version": "2.0.0",
       "_view_name": "HBoxView",
       "box_style": "",
       "children": [
        "IPY_MODEL_8a537026468d412d88df2bbf3f4c5d82",
        "IPY_MODEL_13eb02aac1824f1b9eade8631e4796e3",
        "IPY_MODEL_3f5dd5cab58e4276be29d934bb15322d"
       ],
       "layout": "IPY_MODEL_a8d71a35bb1d4fceb15c53fa56647063",
       "tabbable": null,
       "tooltip": null
      }
     },
     "d9d5b2923a6742f9977ea8f4f701f4cf": {
      "model_module": "@jupyter-widgets/controls",
      "model_module_version": "2.0.0",
      "model_name": "HTMLStyleModel",
      "state": {
       "_model_module": "@jupyter-widgets/controls",
       "_model_module_version": "2.0.0",
       "_model_name": "HTMLStyleModel",
       "_view_count": null,
       "_view_module": "@jupyter-widgets/base",
       "_view_module_version": "2.0.0",
       "_view_name": "StyleView",
       "background": null,
       "description_width": "",
       "font_size": null,
       "text_color": null
      }
     },
     "dd8a50d0c5c24b07a94c2b304976d307": {
      "model_module": "@jupyter-widgets/base",
      "model_module_version": "2.0.0",
      "model_name": "LayoutModel",
      "state": {
       "_model_module": "@jupyter-widgets/base",
       "_model_module_version": "2.0.0",
       "_model_name": "LayoutModel",
       "_view_count": null,
       "_view_module": "@jupyter-widgets/base",
       "_view_module_version": "2.0.0",
       "_view_name": "LayoutView",
       "align_content": null,
       "align_items": null,
       "align_self": null,
       "border_bottom": null,
       "border_left": null,
       "border_right": null,
       "border_top": null,
       "bottom": null,
       "display": null,
       "flex": null,
       "flex_flow": null,
       "grid_area": null,
       "grid_auto_columns": null,
       "grid_auto_flow": null,
       "grid_auto_rows": null,
       "grid_column": null,
       "grid_gap": null,
       "grid_row": null,
       "grid_template_areas": null,
       "grid_template_columns": null,
       "grid_template_rows": null,
       "height": null,
       "justify_content": null,
       "justify_items": null,
       "left": null,
       "margin": null,
       "max_height": null,
       "max_width": null,
       "min_height": null,
       "min_width": null,
       "object_fit": null,
       "object_position": null,
       "order": null,
       "overflow": null,
       "padding": null,
       "right": null,
       "top": null,
       "visibility": null,
       "width": null
      }
     },
     "e5523bc86bba4e0fa90d2ab71d33485a": {
      "model_module": "@jupyter-widgets/controls",
      "model_module_version": "2.0.0",
      "model_name": "HTMLModel",
      "state": {
       "_dom_classes": [],
       "_model_module": "@jupyter-widgets/controls",
       "_model_module_version": "2.0.0",
       "_model_name": "HTMLModel",
       "_view_count": null,
       "_view_module": "@jupyter-widgets/controls",
       "_view_module_version": "2.0.0",
       "_view_name": "HTMLView",
       "description": "",
       "description_allow_html": false,
       "layout": "IPY_MODEL_b2a7f79aec844f67884cbce6e549e3e2",
       "placeholder": "​",
       "style": "IPY_MODEL_4bde55c938f14db9b10d55f10533401b",
       "tabbable": null,
       "tooltip": null,
       "value": "tokenizer.json: "
      }
     },
     "e5b197b466694fbdb0f58103ef5c387a": {
      "model_module": "@jupyter-widgets/base",
      "model_module_version": "2.0.0",
      "model_name": "LayoutModel",
      "state": {
       "_model_module": "@jupyter-widgets/base",
       "_model_module_version": "2.0.0",
       "_model_name": "LayoutModel",
       "_view_count": null,
       "_view_module": "@jupyter-widgets/base",
       "_view_module_version": "2.0.0",
       "_view_name": "LayoutView",
       "align_content": null,
       "align_items": null,
       "align_self": null,
       "border_bottom": null,
       "border_left": null,
       "border_right": null,
       "border_top": null,
       "bottom": null,
       "display": null,
       "flex": null,
       "flex_flow": null,
       "grid_area": null,
       "grid_auto_columns": null,
       "grid_auto_flow": null,
       "grid_auto_rows": null,
       "grid_column": null,
       "grid_gap": null,
       "grid_row": null,
       "grid_template_areas": null,
       "grid_template_columns": null,
       "grid_template_rows": null,
       "height": null,
       "justify_content": null,
       "justify_items": null,
       "left": null,
       "margin": null,
       "max_height": null,
       "max_width": null,
       "min_height": null,
       "min_width": null,
       "object_fit": null,
       "object_position": null,
       "order": null,
       "overflow": null,
       "padding": null,
       "right": null,
       "top": null,
       "visibility": null,
       "width": null
      }
     },
     "e87b487ac7c14acb936afaf0344150c1": {
      "model_module": "@jupyter-widgets/controls",
      "model_module_version": "2.0.0",
      "model_name": "HTMLStyleModel",
      "state": {
       "_model_module": "@jupyter-widgets/controls",
       "_model_module_version": "2.0.0",
       "_model_name": "HTMLStyleModel",
       "_view_count": null,
       "_view_module": "@jupyter-widgets/base",
       "_view_module_version": "2.0.0",
       "_view_name": "StyleView",
       "background": null,
       "description_width": "",
       "font_size": null,
       "text_color": null
      }
     },
     "eb33a4307e5e417bbc123ee5ec719550": {
      "model_module": "@jupyter-widgets/base",
      "model_module_version": "2.0.0",
      "model_name": "LayoutModel",
      "state": {
       "_model_module": "@jupyter-widgets/base",
       "_model_module_version": "2.0.0",
       "_model_name": "LayoutModel",
       "_view_count": null,
       "_view_module": "@jupyter-widgets/base",
       "_view_module_version": "2.0.0",
       "_view_name": "LayoutView",
       "align_content": null,
       "align_items": null,
       "align_self": null,
       "border_bottom": null,
       "border_left": null,
       "border_right": null,
       "border_top": null,
       "bottom": null,
       "display": null,
       "flex": null,
       "flex_flow": null,
       "grid_area": null,
       "grid_auto_columns": null,
       "grid_auto_flow": null,
       "grid_auto_rows": null,
       "grid_column": null,
       "grid_gap": null,
       "grid_row": null,
       "grid_template_areas": null,
       "grid_template_columns": null,
       "grid_template_rows": null,
       "height": null,
       "justify_content": null,
       "justify_items": null,
       "left": null,
       "margin": null,
       "max_height": null,
       "max_width": null,
       "min_height": null,
       "min_width": null,
       "object_fit": null,
       "object_position": null,
       "order": null,
       "overflow": null,
       "padding": null,
       "right": null,
       "top": null,
       "visibility": null,
       "width": null
      }
     },
     "ec2c65347c514b7c98de7004e8aad81d": {
      "model_module": "@jupyter-widgets/controls",
      "model_module_version": "2.0.0",
      "model_name": "HTMLModel",
      "state": {
       "_dom_classes": [],
       "_model_module": "@jupyter-widgets/controls",
       "_model_module_version": "2.0.0",
       "_model_name": "HTMLModel",
       "_view_count": null,
       "_view_module": "@jupyter-widgets/controls",
       "_view_module_version": "2.0.0",
       "_view_name": "HTMLView",
       "description": "",
       "description_allow_html": false,
       "layout": "IPY_MODEL_4f371d097ae04adc8b741e521fb29b83",
       "placeholder": "​",
       "style": "IPY_MODEL_b24e565a73914a4abcb3657f8412992b",
       "tabbable": null,
       "tooltip": null,
       "value": " 1.36M/? [00:00&lt;00:00, 70.9MB/s]"
      }
     },
     "f38e9184b4304862acaa713051f14af6": {
      "model_module": "@jupyter-widgets/controls",
      "model_module_version": "2.0.0",
      "model_name": "ProgressStyleModel",
      "state": {
       "_model_module": "@jupyter-widgets/controls",
       "_model_module_version": "2.0.0",
       "_model_name": "ProgressStyleModel",
       "_view_count": null,
       "_view_module": "@jupyter-widgets/base",
       "_view_module_version": "2.0.0",
       "_view_name": "StyleView",
       "bar_color": null,
       "description_width": ""
      }
     },
     "f5af8deebf9d4f4bb16d363bc96d3a89": {
      "model_module": "@jupyter-widgets/controls",
      "model_module_version": "2.0.0",
      "model_name": "HBoxModel",
      "state": {
       "_dom_classes": [],
       "_model_module": "@jupyter-widgets/controls",
       "_model_module_version": "2.0.0",
       "_model_name": "HBoxModel",
       "_view_count": null,
       "_view_module": "@jupyter-widgets/controls",
       "_view_module_version": "2.0.0",
       "_view_name": "HBoxView",
       "box_style": "",
       "children": [
        "IPY_MODEL_9d6a74ad5f5541e79a4262047d20c5db",
        "IPY_MODEL_01ba6bcfe6994bbcb9a52a4b1fcae437",
        "IPY_MODEL_692f7b9e9f8144908edf9f8bb9f4c0c7"
       ],
       "layout": "IPY_MODEL_22bad2a45f814efaa1a3b3773c8fd5ef",
       "tabbable": null,
       "tooltip": null
      }
     },
     "f70ebefa0bb54a03bd4602ecf0fcc758": {
      "model_module": "@jupyter-widgets/controls",
      "model_module_version": "2.0.0",
      "model_name": "HTMLStyleModel",
      "state": {
       "_model_module": "@jupyter-widgets/controls",
       "_model_module_version": "2.0.0",
       "_model_name": "HTMLStyleModel",
       "_view_count": null,
       "_view_module": "@jupyter-widgets/base",
       "_view_module_version": "2.0.0",
       "_view_name": "StyleView",
       "background": null,
       "description_width": "",
       "font_size": null,
       "text_color": null
      }
     },
     "f762dedaf436444093c47889b66d9e52": {
      "model_module": "@jupyter-widgets/controls",
      "model_module_version": "2.0.0",
      "model_name": "HTMLStyleModel",
      "state": {
       "_model_module": "@jupyter-widgets/controls",
       "_model_module_version": "2.0.0",
       "_model_name": "HTMLStyleModel",
       "_view_count": null,
       "_view_module": "@jupyter-widgets/base",
       "_view_module_version": "2.0.0",
       "_view_name": "StyleView",
       "background": null,
       "description_width": "",
       "font_size": null,
       "text_color": null
      }
     },
     "f814e595a18348199ed8e6c0c5c3b567": {
      "model_module": "@jupyter-widgets/base",
      "model_module_version": "2.0.0",
      "model_name": "LayoutModel",
      "state": {
       "_model_module": "@jupyter-widgets/base",
       "_model_module_version": "2.0.0",
       "_model_name": "LayoutModel",
       "_view_count": null,
       "_view_module": "@jupyter-widgets/base",
       "_view_module_version": "2.0.0",
       "_view_name": "LayoutView",
       "align_content": null,
       "align_items": null,
       "align_self": null,
       "border_bottom": null,
       "border_left": null,
       "border_right": null,
       "border_top": null,
       "bottom": null,
       "display": null,
       "flex": null,
       "flex_flow": null,
       "grid_area": null,
       "grid_auto_columns": null,
       "grid_auto_flow": null,
       "grid_auto_rows": null,
       "grid_column": null,
       "grid_gap": null,
       "grid_row": null,
       "grid_template_areas": null,
       "grid_template_columns": null,
       "grid_template_rows": null,
       "height": null,
       "justify_content": null,
       "justify_items": null,
       "left": null,
       "margin": null,
       "max_height": null,
       "max_width": null,
       "min_height": null,
       "min_width": null,
       "object_fit": null,
       "object_position": null,
       "order": null,
       "overflow": null,
       "padding": null,
       "right": null,
       "top": null,
       "visibility": null,
       "width": null
      }
     },
     "f877fef79caa4256ac4f7aaf60b97252": {
      "model_module": "@jupyter-widgets/controls",
      "model_module_version": "2.0.0",
      "model_name": "HBoxModel",
      "state": {
       "_dom_classes": [],
       "_model_module": "@jupyter-widgets/controls",
       "_model_module_version": "2.0.0",
       "_model_name": "HBoxModel",
       "_view_count": null,
       "_view_module": "@jupyter-widgets/controls",
       "_view_module_version": "2.0.0",
       "_view_name": "HBoxView",
       "box_style": "",
       "children": [
        "IPY_MODEL_557e5061306e46c98e2188ce6b01a012",
        "IPY_MODEL_37f7f53c7a6f4e36a9e2169bb705c494",
        "IPY_MODEL_3b3e25e105e74b22a56ee5329ae71261"
       ],
       "layout": "IPY_MODEL_5e66cba487b44d53974146f9b89d7965",
       "tabbable": null,
       "tooltip": null
      }
     },
     "fb0cc8ca60c74573a3486f71f5208d84": {
      "model_module": "@jupyter-widgets/controls",
      "model_module_version": "2.0.0",
      "model_name": "HTMLStyleModel",
      "state": {
       "_model_module": "@jupyter-widgets/controls",
       "_model_module_version": "2.0.0",
       "_model_name": "HTMLStyleModel",
       "_view_count": null,
       "_view_module": "@jupyter-widgets/base",
       "_view_module_version": "2.0.0",
       "_view_name": "StyleView",
       "background": null,
       "description_width": "",
       "font_size": null,
       "text_color": null
      }
     },
     "fcadfe0505a34cdf929981ae06b53e87": {
      "model_module": "@jupyter-widgets/base",
      "model_module_version": "2.0.0",
      "model_name": "LayoutModel",
      "state": {
       "_model_module": "@jupyter-widgets/base",
       "_model_module_version": "2.0.0",
       "_model_name": "LayoutModel",
       "_view_count": null,
       "_view_module": "@jupyter-widgets/base",
       "_view_module_version": "2.0.0",
       "_view_name": "LayoutView",
       "align_content": null,
       "align_items": null,
       "align_self": null,
       "border_bottom": null,
       "border_left": null,
       "border_right": null,
       "border_top": null,
       "bottom": null,
       "display": null,
       "flex": null,
       "flex_flow": null,
       "grid_area": null,
       "grid_auto_columns": null,
       "grid_auto_flow": null,
       "grid_auto_rows": null,
       "grid_column": null,
       "grid_gap": null,
       "grid_row": null,
       "grid_template_areas": null,
       "grid_template_columns": null,
       "grid_template_rows": null,
       "height": null,
       "justify_content": null,
       "justify_items": null,
       "left": null,
       "margin": null,
       "max_height": null,
       "max_width": null,
       "min_height": null,
       "min_width": null,
       "object_fit": null,
       "object_position": null,
       "order": null,
       "overflow": null,
       "padding": null,
       "right": null,
       "top": null,
       "visibility": null,
       "width": null
      }
     }
    },
    "version_major": 2,
    "version_minor": 0
   }
  }
 },
 "nbformat": 4,
 "nbformat_minor": 5
}
